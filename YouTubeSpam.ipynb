{
 "cells": [
  {
   "cell_type": "markdown",
   "metadata": {},
   "source": [
    "Yilei Dong | ID: 1466802171 | DSCI 352"
   ]
  },
  {
   "cell_type": "markdown",
   "metadata": {},
   "source": [
    "### YouTube Spam Filtering\n",
    "#### Building a simple spam filtering tool. Each data set has comment ID, author, date, and class (0 = ham, 1 = spam).\n"
   ]
  },
  {
   "cell_type": "markdown",
   "metadata": {},
   "source": [
    "##### (a) Download the YouTube Spam Collection data set from: https://archive.ics.uci.edu/ml/datasets/YouTube+Spam+Collection. We will mainly work with the Eminem file. Note that the chronological order of the comments were kept. \n"
   ]
  },
  {
   "cell_type": "code",
   "execution_count": 1,
   "metadata": {},
   "outputs": [
    {
     "data": {
      "text/plain": [
       "(448, 5)"
      ]
     },
     "execution_count": 1,
     "metadata": {},
     "output_type": "execute_result"
    }
   ],
   "source": [
    "# Import libraries \n",
    "import pandas as pd\n",
    "import numpy as np\n",
    "import seaborn as sns\n",
    "import matplotlib.pyplot as plt \n",
    "from sklearn.feature_extraction.text import TfidfVectorizer\n",
    "from sklearn import linear_model \n",
    "from sklearn.model_selection import GridSearchCV \n",
    "from sklearn import metrics \n",
    "from sklearn.metrics import confusion_matrix \n",
    "from sklearn.metrics import roc_auc_score, roc_curve \n",
    "from sklearn.naive_bayes import GaussianNB\n",
    "from sklearn.metrics import fbeta_score\n",
    "from sklearn.naive_bayes import MultinomialNB\n",
    "import math\n",
    "\n",
    "# Read in dataset \n",
    "df = pd.read_csv(\"Youtube04-Eminem.csv\", engine='python')\n",
    "df.shape"
   ]
  },
  {
   "cell_type": "code",
   "execution_count": 2,
   "metadata": {},
   "outputs": [
    {
     "data": {
      "text/html": [
       "<div>\n",
       "<style scoped>\n",
       "    .dataframe tbody tr th:only-of-type {\n",
       "        vertical-align: middle;\n",
       "    }\n",
       "\n",
       "    .dataframe tbody tr th {\n",
       "        vertical-align: top;\n",
       "    }\n",
       "\n",
       "    .dataframe thead th {\n",
       "        text-align: right;\n",
       "    }\n",
       "</style>\n",
       "<table border=\"1\" class=\"dataframe\">\n",
       "  <thead>\n",
       "    <tr style=\"text-align: right;\">\n",
       "      <th></th>\n",
       "      <th>COMMENT_ID</th>\n",
       "      <th>AUTHOR</th>\n",
       "      <th>DATE</th>\n",
       "      <th>CONTENT</th>\n",
       "      <th>CLASS</th>\n",
       "    </tr>\n",
       "  </thead>\n",
       "  <tbody>\n",
       "    <tr>\n",
       "      <td>0</td>\n",
       "      <td>z12rwfnyyrbsefonb232i5ehdxzkjzjs2</td>\n",
       "      <td>Lisa Wellas</td>\n",
       "      <td>NaN</td>\n",
       "      <td>+447935454150 lovely girl talk to me xxxï»¿</td>\n",
       "      <td>1</td>\n",
       "    </tr>\n",
       "    <tr>\n",
       "      <td>1</td>\n",
       "      <td>z130wpnwwnyuetxcn23xf5k5ynmkdpjrj04</td>\n",
       "      <td>jason graham</td>\n",
       "      <td>2015-05-29T02:26:10.652000</td>\n",
       "      <td>I always end up coming back to this song&lt;br /&gt;ï»¿</td>\n",
       "      <td>0</td>\n",
       "    </tr>\n",
       "    <tr>\n",
       "      <td>2</td>\n",
       "      <td>z13vsfqirtavjvu0t22ezrgzyorwxhpf3</td>\n",
       "      <td>Ajkal Khan</td>\n",
       "      <td>NaN</td>\n",
       "      <td>my sister just received over 6,500 new &lt;a rel=...</td>\n",
       "      <td>1</td>\n",
       "    </tr>\n",
       "    <tr>\n",
       "      <td>3</td>\n",
       "      <td>z12wjzc4eprnvja4304cgbbizuved35wxcs</td>\n",
       "      <td>Dakota Taylor</td>\n",
       "      <td>2015-05-29T02:13:07.810000</td>\n",
       "      <td>Coolï»¿</td>\n",
       "      <td>0</td>\n",
       "    </tr>\n",
       "    <tr>\n",
       "      <td>4</td>\n",
       "      <td>z13xjfr42z3uxdz2223gx5rrzs3dt5hna</td>\n",
       "      <td>Jihad Naser</td>\n",
       "      <td>NaN</td>\n",
       "      <td>Hello I&amp;#39;am from Palastineï»¿</td>\n",
       "      <td>1</td>\n",
       "    </tr>\n",
       "  </tbody>\n",
       "</table>\n",
       "</div>"
      ],
      "text/plain": [
       "                            COMMENT_ID         AUTHOR  \\\n",
       "0    z12rwfnyyrbsefonb232i5ehdxzkjzjs2    Lisa Wellas   \n",
       "1  z130wpnwwnyuetxcn23xf5k5ynmkdpjrj04   jason graham   \n",
       "2    z13vsfqirtavjvu0t22ezrgzyorwxhpf3     Ajkal Khan   \n",
       "3  z12wjzc4eprnvja4304cgbbizuved35wxcs  Dakota Taylor   \n",
       "4    z13xjfr42z3uxdz2223gx5rrzs3dt5hna    Jihad Naser   \n",
       "\n",
       "                         DATE  \\\n",
       "0                         NaN   \n",
       "1  2015-05-29T02:26:10.652000   \n",
       "2                         NaN   \n",
       "3  2015-05-29T02:13:07.810000   \n",
       "4                         NaN   \n",
       "\n",
       "                                             CONTENT  CLASS  \n",
       "0        +447935454150 lovely girl talk to me xxxï»¿      1  \n",
       "1  I always end up coming back to this song<br />ï»¿      0  \n",
       "2  my sister just received over 6,500 new <a rel=...      1  \n",
       "3                                            Coolï»¿      0  \n",
       "4                   Hello I&#39;am from Palastineï»¿      1  "
      ]
     },
     "execution_count": 2,
     "metadata": {},
     "output_type": "execute_result"
    }
   ],
   "source": [
    "# Display part of dataframe \n",
    "df.head()"
   ]
  },
  {
   "cell_type": "code",
   "execution_count": 3,
   "metadata": {},
   "outputs": [
    {
     "name": "stdout",
     "output_type": "stream",
     "text": [
      "(203, 5)\n"
     ]
    }
   ],
   "source": [
    "# Assign binary class labels \n",
    "print(df[df['CLASS'] == 0].shape)"
   ]
  },
  {
   "cell_type": "code",
   "execution_count": 4,
   "metadata": {},
   "outputs": [
    {
     "name": "stdout",
     "output_type": "stream",
     "text": [
      "(245, 5)\n"
     ]
    }
   ],
   "source": [
    "print(df[df['CLASS'] == 1].shape)"
   ]
  },
  {
   "cell_type": "code",
   "execution_count": 5,
   "metadata": {},
   "outputs": [],
   "source": [
    "hammy = 0.8 * 203\n",
    "spammy = 0.8 * 245"
   ]
  },
  {
   "cell_type": "markdown",
   "metadata": {},
   "source": [
    "##### (b) Select the first floor 0.8H of H hams and the first floor 0.8S of S spams as your training set and the rest as your test set. "
   ]
  },
  {
   "cell_type": "code",
   "execution_count": 6,
   "metadata": {},
   "outputs": [],
   "source": [
    "hamRows = math.floor(hammy)\n",
    "spamRows = math.floor(spammy)\n",
    "\n",
    "class0 = df.loc[df['CLASS']==0] \n",
    "class1 = df.loc[df['CLASS']==1] \n",
    "\n",
    "xHam = class0.drop('CLASS', axis=1)\n",
    "yHam = class0['CLASS']\n",
    "xSpam = class1.drop('CLASS', axis=1)\n",
    "ySpam = class1['CLASS']\n",
    "\n",
    "xHamTrain = xHam[:hamRows]\n",
    "xSpamTrain = xSpam[:spamRows]\n",
    "yHamTrain = yHam[:hamRows]\n",
    "ySpamTrain = ySpam[:spamRows]\n",
    "\n",
    "xHamTest = xHam[hamRows:]\n",
    "xSpamTest = xSpam[spamRows:]\n",
    "yHamTest = yHam[hamRows:]\n",
    "ySpamTest = ySpam[spamRows:]\n",
    "\n",
    "xTrains = [xHamTrain, xSpamTrain]\n",
    "xTests = [xHamTest, xSpamTest]\n",
    "xTrain = pd.concat(xTrains)\n",
    "xTest = pd.concat(xTests)\n",
    "\n",
    "yTrains = [yHamTrain, ySpamTrain]\n",
    "yTests = [yHamTest, ySpamTest]\n",
    "yTrain = pd.concat(yTrains)\n",
    "yTest = pd.concat(yTests)"
   ]
  },
  {
   "cell_type": "markdown",
   "metadata": {},
   "source": [
    "##### (c) Represent each comment using TF-IDF features. Consider each comment a document and the whole set of comments in the file (e.g. Eminem) as the corpus. Do NOT remove stop words."
   ]
  },
  {
   "cell_type": "code",
   "execution_count": 7,
   "metadata": {},
   "outputs": [
    {
     "name": "stdout",
     "output_type": "stream",
     "text": [
      "['00', '000', '047000', '09', '10', '100', '100877300245414', '11', '12', '1337', '14', '15', '16', '17', '17yr', '18', '19', '1b', '1billion', '1ï', '200', '2008', '200k', '2010', '2013', '2014', '2015', '2015ï', '23', '23active', '23awesome', '23eminem', '23king', '23lovethewayyoulie', '23rapgod', '23rt', '23share', '25', '26', '26t22', '28', '2asfn9shghk', '2nd', '2zme8f', '30', '365', '36loseweight', '39', '3rd', '3â', '3ï', '4000', '41', '43', '447935454150', '45', '46', '476000', '490', '4eï', '50', '500', '500k', '5tu9gn1l310', '60', '600', '600m', '613000', '6_h0m5sayho', '710000', '7k', '800', '832000', '87', '90', 'abbas', 'ablaze', 'about', 'absolutely', 'abuse', 'abuses', 'abusive', 'abusue', 'acaer', 'acceptance', 'accidental', 'achieve', 'across', 'act', 'activates', 'active', 'actual', 'actually', 'ad', 'adam', 'adapt', 'adhoc', 'admitting', 'adult', 'advance', 'advertise', 'advertisements', 'afraid', 'aftermath', 'again', 'ago', 'agree', 'agreeable', 'album', 'alcoholic', 'alfred', 'ali', 'alive', 'all', 'almost', 'aloidia', 'already', 'alright', 'also', 'always', 'am', 'amazing', 'amazingï', 'amazon', 'american', 'amount', 'amp', 'an', 'and', 'andrew', 'animal', 'annoys', 'answer', 'anxious', 'any', 'anybody', 'anyone', 'apologies', 'appreciate', 'appreciated', 'are', 'arkglzjqup0', 'arrowgance', 'artist', 'as', 'asking', 'aslamu', 'aspiring', 'ass', 'astauand', 'aswell', 'at', 'attention', 'audio', 'australia', 'authenticviews', 'authority', 'awards', 'away', 'awesome', 'awesoooome', 'axiomatic', 'aye', 'ayyy', 'azerbaijan', 'back', 'bad', 'badï', 'bands', 'bangladesh', 'bars', 'base', 'basically', 'basketball', 'bastardï', 'be', 'beat', 'beating', 'beats', 'beautiful', 'because', 'become', 'been', 'before', 'being', 'belgium', 'believe', 'belle', 'belrus', 'besloor', 'best', 'better', 'betterï', 'between', 'beware', 'bieber', 'big', 'bigelow', 'billion', 'billionï', 'bit', 'bite', 'black', 'blast', 'bless', 'blogspot', 'blows', 'blushing', 'boaconic', 'bocilile', 'book', 'bored', 'bottom', 'boy', 'boyfriend', 'boys', 'br', 'brand', 'breaks', 'breath', 'briefs', 'bring', 'bringing', 'brings', 'broken', 'brï', 'buchmair', 'build', 'bulgariaï', 'burst', 'business', 'busyglide', 'but', 'button', 'buys', 'by', 'called', 'came', 'can', 'canibus', 'canvas', 'catch', 'categories', 'cause', 'celeb', 'cent', 'challenge', 'chance', 'chanel', 'changeable', 'channel', 'chansonï', 'charlie', 'charlieee', 'chcfcvzfzfbvzdrï', 'cheat', 'cheating', 'cheats', 'check', 'cheetos', 'cheilith', 'chesture', 'chillpal', 'choice', 'chooses', 'chorenn', 'chrck', 'christmas', 'chubby', 'claire', 'class', 'claster', 'clean', 'click', 'clip', 'clipï', 'close', 'closer', 'coffee', 'cold', 'collaboration', 'collection', 'columbus', 'com', 'come', 'comeback', 'coming', 'comment', 'comments', 'commit', 'commment', 'competition', 'computer', 'comï', 'congratulations', 'conscious', 'constructive', 'conveying', 'cook', 'cool', 'coolï', 'cope', 'could', 'countless', 'country', 'counts', 'cover', 'covered', 'covers', 'crabby', 'crap', 'crazy', 'cried', 'criticism', 'croatia', 'crown', 'crush', 'cruz', 'cry', 'cudi', 'cypher', 'cyphers', 'cyrus', 'dad', 'daily', 'dakoda', 'dakota', 'damn', 'damnï', 'dance', 'dante', 'dated', 'day', 'days', 'dddd', 'deaf', 'death', 'deathly', 'deazy99', 'decent', 'dedicated', 'deep', 'definitely', 'del', 'delicate', 'delicious', 'delightful', 'depreciateds', 'depressed', 'derives', 'deserves', 'desire', 'details', 'did', 'didn', 'die', 'disappoint', 'disclose', 'discount', 'disguise', 'disorder', 'distribution', 'dna', 'do', 'does', 'doesn', 'doesnt', 'doing', 'dollars', 'domestic', 'don', 'done', 'dont', 'donâ', 'dope', 'down', 'download', 'dragons', 'drake', 'dream', 'dreams', 'dress', 'drews', 'drirathiel', 'driveshaftï', 'drop', 'drugs', 'dude', 'dundundunnn', 'dysfunctional', 'dï', 'eager', 'earned', 'easy', 'eat', 'eating', 'economic', 'edit', 'effect', 'eggmode', 'either', 'elevator', 'else', 'em', 'eminem', 'eminems', 'eminemï', 'eminmem', 'emotions', 'emä', 'encouraging', 'end', 'ended', 'ends', 'energy', 'english', 'enjoy', 'enough', 'enter', 'entertains', 'ep', 'equipment', 'espaã', 'especially', 'et', 'ethosien', 'eu', 'even', 'ever', 'every', 'everybody', 'everyday', 'everyone', 'everï', 'exactly', 'example', 'excellent', 'exciting', 'exclusive', 'exist', 'exode', 'expansion', 'exposure', 'extraordinary', 'fabricates', 'facebook', 'facilitate', 'fact', 'false', 'fame', 'famous', 'fan', 'fans', 'fantasy', 'far', 'fashion', 'fast', 'fated', 'fav', 'favor', 'favorite', 'favour', 'favourite', 'favï', 'fb', 'feandra', 'fears', 'feature', 'featuring', 'feed', 'feedback', 'feel', 'feeling', 'feels', 'femalesï', 'feminist', 'ferirama', 'few', 'fgw', 'fictional', 'fighting', 'filled', 'finally', 'find', 'fire', 'firepa', 'first', 'five', 'flaming', 'flight', 'flimsy', 'flow', 'follow', 'followers', 'following', 'for', 'forever', 'foreverï', 'forgot', 'fort', 'four', 'foward', 'fox', 'foxï', 'frame', 'freaking', 'free', 'freedom', 'fresh', 'friend', 'from', 'fruits', 'ft', 'ftw', 'fuck', 'fucking', 'fuffapster', 'full', 'funny', 'fyi', 'gabby', 'gained', 'game', 'gameplay', 'gangnam', 'gave', 'gay', 'geezeï', 'george', 'get', 'gets', 'getting', 'ginius', 'girl', 'girlfriend', 'girls', 'give', 'gives', 'glozzom', 'go', 'goal', 'goals', 'god', 'godï', 'gogopo', 'going', 'gone', 'gonna', 'good', 'google', 'gootï', 'gorg', 'gorgeous', 'got', 'great', 'greatly', 'greatï', 'greenï', 'groups', 'growing', 'grynn', 'gt', 'gta', 'guasch', 'guss', 'guy', 'guys', 'hack', 'hack2013', 'hacking', 'had', 'haha', 'hahah', 'hahahahah', 'half', 'hallows', 'hand', 'handsome', 'happen', 'happy', 'harbor', 'hard', 'harry', 'has', 'hashtag', 'hate', 'have', 'hay', 'he', 'head', 'hear', 'heard', 'heart', 'heartbreaking', 'hell', 'hello', 'help', 'helped', 'helpful', 'helping', 'helpless', 'helps', 'her', 'here', 'hermann', 'heroin', 'hes', 'hey', 'hi', 'high', 'hilarious', 'him', 'hioffpo', 'hip', 'hiphop', 'his', 'historyï', 'hit', 'hog', 'hollywood', 'holy', 'home', 'homies', 'hood', 'hop', 'hope', 'hopes', 'hoping', 'hoppler', 'hot', 'hotter', 'hotï', 'house', 'how', 'href', 'http', 'https', 'huh', 'humor', 'hurts', 'husbands', 'husky', 'hyuck', 'ideas', 'idiotic', 'idol', 'if', 'igblast', 'ignorant', 'ignore', 'ii', 'ill', 'illustrate', 'im', 'imagine', 'imma', 'imperfect', 'improve', 'improves', 'in', 'including', 'increase', 'industry', 'ini', 'ink', 'innocent', 'insane', 'insanity', 'insideï', 'insidious', 'insperasen', 'inspiration', 'inspire', 'instagram', 'intelligent', 'internet', 'intervene', 'into', 'invest', 'is', 'island', 'isn', 'isnt', 'it', 'its', 'itï', 'ive', 'iâ', 'jackson', 'jail', 'jamï', 'jelly', 'jlimvuth', 'johackle', 'john', 'journey', 'jovaphile', 'judges', 'juss', 'just', 'justin', 'keen', 'keep', 'keithlinscotts', 'khalifa', 'kid', 'kids', 'killed', 'killtheclockhd', 'kinda', 'king', 'know', 'knowledge', 'known', 'kpopcity', 'krean', 'ladies', 'lake', 'lana', 'lane', 'language', 'largest', 'lasting', 'latest', 'latinoamericaï', 'laughable', 'leandrus', 'learned', 'learning', 'least', 'leave', 'left', 'lemme', 'less', 'let', 'letter', 'letting', 'lie', 'liers', 'lies', 'lieï', 'life', 'lift', 'like', 'likes', 'likeï', 'lil', 'limit', 'line', 'link', 'linz', 'listen', 'listening', 'little', 'live', 'lively', 'lives', 'living', 'll', 'lneadw26bfst76vhkjl8pxaey6vmnlvmriudtsfk6vy', 'lneadw26bft', 'lneadw26bftvzqt6juehasiefrjg1exi_dvqdnqvpho', 'lneadw26bfunoarag71awgu6tjo6azdkfiun_tz1_hy', 'lneadw26bfvkahxpkenm25fywkyxthsupri6juqsznu', 'loads', 'locobot', 'lol', 'lolï', 'long', 'longer', 'look', 'looking', 'looks', 'looooved', 'looplab', 'losing', 'loss', 'lost', 'lostï', 'lot', 'loud', 'lova', 'love', 'lovely', 'lovers', 'loves', 'lovethewayyoulie', 'loveï', 'loveðÿ', 'loving', 'lt', 'lucky', 'lulerain', 'luv', 'luxuriant', 'lv', 'ly', 'lykum', 'lyric', 'lyrical', 'lyrically', 'lyrics', 'macho', 'macklemore', 'made', 'magnificent', 'mail', 'make', 'makes', 'making', 'mammoth', 'man', 'manager', 'many', 'master', 'may', 'maybe', 'me', 'mean', 'means', 'meaty', 'medication', 'megan', 'meghan', 'memoriesï', 'memory', 'mere', 'message', 'metal', 'method', 'mexico', 'meï', 'mice', 'micheal', 'might', 'miley', 'million', 'millions', 'mind', 'mine', 'minute', 'minutes', 'mirror', 'missing', 'misty', 'mix', 'mixing', 'mizuxe', 'mmlp2', 'mmph', 'mockingbird', 'moderock', 'modgone', 'mogotrevo', 'molly', 'moly', 'mom', 'moment', 'moments', 'money', 'moneygq', 'monster', 'month', 'months', 'moon', 'more', 'mosh', 'most', 'mother', 'mountain', 'much', 'muchâ', 'muchï', 'muhammad', 'mummy', 'music', 'musician', 'musicï', 'must', 'muzik', 'my', 'myself', 'mï', 'nalpure', 'name', 'named', 'naperone', 'narrow', 'nation', 'near', 'nearly', 'nearï', 'need', 'nelson', 'nem', 'net', 'never', 'new', 'news', 'next', 'nice', 'niceiâ', 'nicer', 'niceï', 'niko', 'no', 'nobody', 'nofollow', 'noise', 'noodile', 'normal', 'not', 'nothing', 'notice', 'notorious', 'now', 'noxu', 'number', 'ociramma', 'od', 'of', 'off', 'officiates', 'oh', 'oil', 'okay', 'old', 'oleald', 'olielle', 'omg', 'omniscient', 'on', 'one', 'onece', 'online', 'only', 'operation', 'opinion', 'or', 'order', 'oreo', 'original', 'ot', 'other', 'others', 'otoufj0z3vfflfnaxykwzsivqhimx', 'our', 'out', 'over', 'ow', 'own', 'page', 'pages', 'pakistanï', 'palastineï', 'paper', 'paragraph', 'parede', 'part', 'pass', 'passed', 'passion', 'passionate', 'password', 'past', 'paå', 'peace', 'pen', 'penny', 'people', 'peopleï', 'pepelexa', 'per', 'perfect', 'perform', 'performance', 'performing', 'person', 'personally', 'phenomenallyricshere', 'photo', 'photograph', 'picked', 'picture', 'piece', 'pimpmyviews', 'pink', 'place', 'planet', 'plant', 'play', 'player', 'playlist', 'playtime', 'please', 'pleaseï', 'pleasureï', 'plese', 'plifal', 'ploosnar', 'pls', 'plus', 'plz', 'plzz', 'pmw', 'pn', 'polish', 'pop', 'popular', 'popï', 'post', 'potential', 'potter', 'pour', 'power', 'press', 'prevent', 'prioritize', 'probable', 'probably', 'produced', 'producer', 'professionally', 'professor', 'promise', 'protective', 'prove', 'psy', 'public', 'pun', 'push', 'pussy', 'put', 'qerrassa', 'qiameth', 'quadrillion', 'quality', 'quickest', 'quite', 'quot', 'rage', 'range', 'rants', 'rap', 'rape', 'rapgod', 'rapped', 'rapper', 'rappers', 'rapping', 'rapï', 'rate', 're', 'reach', 'read', 'reading', 'ready', 'real', 'really', 'realtionship', 'received', 'recently', 'record', 'recording', 'reduce', 'refers', 'reflective', 'regret', 'rehabilitate', 'reiltas', 'rel', 'relate', 'relationship', 'released', 'remember', 'reminiscent', 'remix', 'render', 'repair', 'resort', 'response', 'responsible', 'retain', 'retards', 'retrieve', 'reviews', 'rey', 'rhianna', 'rhinnahï', 'rhythm', 'right', 'rihana', 'rihanna', 'rihannaï', 'riled', 'riri', 'roasted', 'rock', 'rocks', 'roll', 'roulette', 'round', 'rt', 'ryhme', 'ryme', 'sad', 'sadly', 'same', 'samurman', 'sasaroo', 'sassy', 'saw', 'say', 'sayin', 'scale', 'scintillating', 'scitenoa', 'screwing', 'search', 'searchs', 'second', 'seconds', 'secret', 'see', 'selection', 'sense', 'september', 'serious', 'sertave', 'set', 'several', 'sexual', 'sexy', 'shady', 'shaeel', 'shallow', 'shame', 'share', 'shared', 'shares', 'she', 'shes', 'shock', 'shorogyt', 'short', 'should', 'show', 'sick', 'signed', 'similarï', 'simple', 'sing', 'singer', 'single', 'singlewave', 'sinpad', 'sirius', 'sister', 'site', 'skits', 'skizzle', 'sky', 'skylar', 'sleeping', 'slimy', 'slip', 'smack', 'smile', 'smoke', 'smoking', 'sneakiestg', 'sneeze', 'so', 'software', 'soldiers', 'some', 'someone', 'something', 'song', 'songs', 'songï', 'soo', 'soon', 'sooo', 'sooooooooooooooo', 'sophisticated', 'sore', 'sorry', 'sounds', 'space', 'spam', 'spammers', 'spamming', 'speaks', 'special', 'speech', 'spell', 'spent', 'spirits', 'spit', 'spourmo', 'spousal', 'srilanka', 'stand', 'stars', 'start', 'started', 'stay', 'steel', 'stereotyped', 'still', 'stop', 'store', 'sttuupidï', 'student', 'sturdy', 'style', 'sub', 'subcribe', 'subs', 'subscribe', 'subscribee', 'subscriber', 'subscribers', 'subscribing', 'subscription', 'substantial', 'successful', 'such', 'suck', 'suicide', 'supat', 'super', 'support', 'supporters', 'survival', 'swamp', 'swear', 'swooflia', 'swoquix', 'symptomatic', 'synthesizes', 'system', 'take', 'talent', 'talents', 'talk', 'talking', 'tape', 'tax', 'tde', 'tears', 'tell', 'tendency', 'texas', 'than', 'thank', 'thanks', 'thanx', 'that', 'thats', 'thatâ', 'thatï', 'the', 'the1fantasy', 'their', 'them', 'then', 'there', 'therealchrisking1', 'these', 'they', 'thing', 'things', 'think', 'thirsty', 'this', 'those', 'thou', 'thought', 'thoughï', 'thumb', 'thumbs', 'thundering', 'time', 'times', 'timeï', 'title', 'titled', 'to', 'today', 'together', 'togetherï', 'told', 'tomorrow', 'too', 'toogit', 'took', 'top', 'towered', 'toximble', 'toy', 'toï', 'track', 'tracks', 'train', 'transmit', 'treating', 'trelod', 'tried', 'trigger', 'trop', 'true', 'truly', 'trust', 'try', 'trying', 'tryna', 'tube', 'tupacase', 'tv', 'tvï', 'twitter', 'two', 'tyga', 'type', 'unbiased', 'uncovered', 'underground', 'understand', 'undesirable', 'unelind', 'unequaled', 'unstoppable', 'untitled', 'up', 'upload', 'uppity', 'us', 'used', 'useless', 'user', 'valuable', 'value', 've', 'vegetables', 'verse', 'verses', 'version', 'very', 'vi', 'victorious', 'vid', 'video', 'videos', 'videoï', 'view', 'views', 'viewsï', 'vincent', 'vines', 'violence', 'virus', 'visit', 'voice', 'vote', 'votre', 'w6gkm', 'walk', 'wanna', 'want', 'wants', 'war', 'waratel', 'warning', 'was', 'wasn', 'waste', 'wasting', 'watch', 'watched', 'watching', 'wavefire', 'way', 'ways', 'wazzasoft', 'we', 'weak', 'website', 'weekend', 'weight', 'welcome', 'well', 'were', 'what', 'wheels', 'when', 'where', 'while', 'white', 'whiz', 'who', 'whole', 'why', 'wife', 'will', 'win', 'wind', 'wiry', 'wish', 'wited', 'with', 'within', 'without', 'witnesss', 'woman', 'women', 'won', 'wonder', 'wonderfulï', 'wont', 'wood', 'woozy', 'word', 'work', 'worked', 'working', 'works', 'world', 'worst', 'worthless', 'would', 'wouldnt', 'wow', 'write', 'writing', 'wrote', 'wtf', 'wtp', 'www', 'xny2m', 'xoxo', 'xxxï', 'xytcq5nzmua', 'ya', 'yboiveth', 'yeahï', 'year', 'years', 'yesterday', 'yfuy4gkr1c', 'yo', 'yoffa', 'you', 'young', 'your', 'yourself', 'youtu', 'youtube', 'youtubers', 'ytma', 'yuliya', 'yuttx04oyqq', 'zesty', 'zip', 'zonepa', 'ºmy', 'ºâ', 'âœ', 'âœœï', 'ðÿ', 'ûžû', 'œâ', 'œï', 'œû', 'ƒâ']\n"
     ]
    }
   ],
   "source": [
    "# Format comments with TF-IDF features into x train \n",
    "contentCorpusTrain = xTrain['CONTENT']\n",
    "vectorizer = TfidfVectorizer()\n",
    "xTrainTFIDF = vectorizer.fit_transform(contentCorpusTrain)\n",
    "print(vectorizer.get_feature_names())"
   ]
  },
  {
   "cell_type": "code",
   "execution_count": 8,
   "metadata": {},
   "outputs": [
    {
     "name": "stdout",
     "output_type": "stream",
     "text": [
      "(358, 1476)\n"
     ]
    }
   ],
   "source": [
    "print(xTrainTFIDF.shape)"
   ]
  },
  {
   "cell_type": "code",
   "execution_count": 9,
   "metadata": {},
   "outputs": [
    {
     "name": "stdout",
     "output_type": "stream",
     "text": [
      "['00', '000', '047000', '09', '10', '100', '100877300245414', '11', '12', '1337', '14', '15', '16', '17', '17yr', '18', '19', '1b', '1billion', '1ï', '200', '2008', '200k', '2010', '2013', '2014', '2015', '2015ï', '23', '23active', '23awesome', '23eminem', '23king', '23lovethewayyoulie', '23rapgod', '23rt', '23share', '25', '26', '26t22', '28', '2asfn9shghk', '2nd', '2zme8f', '30', '365', '36loseweight', '39', '3rd', '3â', '3ï', '4000', '41', '43', '447935454150', '45', '46', '476000', '490', '4eï', '50', '500', '500k', '5tu9gn1l310', '60', '600', '600m', '613000', '6_h0m5sayho', '710000', '7k', '800', '832000', '87', '90', 'abbas', 'ablaze', 'about', 'absolutely', 'abuse', 'abuses', 'abusive', 'abusue', 'acaer', 'acceptance', 'accidental', 'achieve', 'across', 'act', 'activates', 'active', 'actual', 'actually', 'ad', 'adam', 'adapt', 'adhoc', 'admitting', 'adult', 'advance', 'advertise', 'advertisements', 'afraid', 'aftermath', 'again', 'ago', 'agree', 'agreeable', 'album', 'alcoholic', 'alfred', 'ali', 'alive', 'all', 'almost', 'aloidia', 'already', 'alright', 'also', 'always', 'am', 'amazing', 'amazingï', 'amazon', 'american', 'amount', 'amp', 'an', 'and', 'andrew', 'animal', 'annoys', 'answer', 'anxious', 'any', 'anybody', 'anyone', 'apologies', 'appreciate', 'appreciated', 'are', 'arkglzjqup0', 'arrowgance', 'artist', 'as', 'asking', 'aslamu', 'aspiring', 'ass', 'astauand', 'aswell', 'at', 'attention', 'audio', 'australia', 'authenticviews', 'authority', 'awards', 'away', 'awesome', 'awesoooome', 'axiomatic', 'aye', 'ayyy', 'azerbaijan', 'back', 'bad', 'badï', 'bands', 'bangladesh', 'bars', 'base', 'basically', 'basketball', 'bastardï', 'be', 'beat', 'beating', 'beats', 'beautiful', 'because', 'become', 'been', 'before', 'being', 'belgium', 'believe', 'belle', 'belrus', 'besloor', 'best', 'better', 'betterï', 'between', 'beware', 'bieber', 'big', 'bigelow', 'billion', 'billionï', 'bit', 'bite', 'black', 'blast', 'bless', 'blogspot', 'blows', 'blushing', 'boaconic', 'bocilile', 'book', 'bored', 'bottom', 'boy', 'boyfriend', 'boys', 'br', 'brand', 'breaks', 'breath', 'briefs', 'bring', 'bringing', 'brings', 'broken', 'brï', 'buchmair', 'build', 'bulgariaï', 'burst', 'business', 'busyglide', 'but', 'button', 'buys', 'by', 'called', 'came', 'can', 'canibus', 'canvas', 'catch', 'categories', 'cause', 'celeb', 'cent', 'challenge', 'chance', 'chanel', 'changeable', 'channel', 'chansonï', 'charlie', 'charlieee', 'chcfcvzfzfbvzdrï', 'cheat', 'cheating', 'cheats', 'check', 'cheetos', 'cheilith', 'chesture', 'chillpal', 'choice', 'chooses', 'chorenn', 'chrck', 'christmas', 'chubby', 'claire', 'class', 'claster', 'clean', 'click', 'clip', 'clipï', 'close', 'closer', 'coffee', 'cold', 'collaboration', 'collection', 'columbus', 'com', 'come', 'comeback', 'coming', 'comment', 'comments', 'commit', 'commment', 'competition', 'computer', 'comï', 'congratulations', 'conscious', 'constructive', 'conveying', 'cook', 'cool', 'coolï', 'cope', 'could', 'countless', 'country', 'counts', 'cover', 'covered', 'covers', 'crabby', 'crap', 'crazy', 'cried', 'criticism', 'croatia', 'crown', 'crush', 'cruz', 'cry', 'cudi', 'cypher', 'cyphers', 'cyrus', 'dad', 'daily', 'dakoda', 'dakota', 'damn', 'damnï', 'dance', 'dante', 'dated', 'day', 'days', 'dddd', 'deaf', 'death', 'deathly', 'deazy99', 'decent', 'dedicated', 'deep', 'definitely', 'del', 'delicate', 'delicious', 'delightful', 'depreciateds', 'depressed', 'derives', 'deserves', 'desire', 'details', 'did', 'didn', 'die', 'disappoint', 'disclose', 'discount', 'disguise', 'disorder', 'distribution', 'dna', 'do', 'does', 'doesn', 'doesnt', 'doing', 'dollars', 'domestic', 'don', 'done', 'dont', 'donâ', 'dope', 'down', 'download', 'dragons', 'drake', 'dream', 'dreams', 'dress', 'drews', 'drirathiel', 'driveshaftï', 'drop', 'drugs', 'dude', 'dundundunnn', 'dysfunctional', 'dï', 'eager', 'earned', 'easy', 'eat', 'eating', 'economic', 'edit', 'effect', 'eggmode', 'either', 'elevator', 'else', 'em', 'eminem', 'eminems', 'eminemï', 'eminmem', 'emotions', 'emä', 'encouraging', 'end', 'ended', 'ends', 'energy', 'english', 'enjoy', 'enough', 'enter', 'entertains', 'ep', 'equipment', 'espaã', 'especially', 'et', 'ethosien', 'eu', 'even', 'ever', 'every', 'everybody', 'everyday', 'everyone', 'everï', 'exactly', 'example', 'excellent', 'exciting', 'exclusive', 'exist', 'exode', 'expansion', 'exposure', 'extraordinary', 'fabricates', 'facebook', 'facilitate', 'fact', 'false', 'fame', 'famous', 'fan', 'fans', 'fantasy', 'far', 'fashion', 'fast', 'fated', 'fav', 'favor', 'favorite', 'favour', 'favourite', 'favï', 'fb', 'feandra', 'fears', 'feature', 'featuring', 'feed', 'feedback', 'feel', 'feeling', 'feels', 'femalesï', 'feminist', 'ferirama', 'few', 'fgw', 'fictional', 'fighting', 'filled', 'finally', 'find', 'fire', 'firepa', 'first', 'five', 'flaming', 'flight', 'flimsy', 'flow', 'follow', 'followers', 'following', 'for', 'forever', 'foreverï', 'forgot', 'fort', 'four', 'foward', 'fox', 'foxï', 'frame', 'freaking', 'free', 'freedom', 'fresh', 'friend', 'from', 'fruits', 'ft', 'ftw', 'fuck', 'fucking', 'fuffapster', 'full', 'funny', 'fyi', 'gabby', 'gained', 'game', 'gameplay', 'gangnam', 'gave', 'gay', 'geezeï', 'george', 'get', 'gets', 'getting', 'ginius', 'girl', 'girlfriend', 'girls', 'give', 'gives', 'glozzom', 'go', 'goal', 'goals', 'god', 'godï', 'gogopo', 'going', 'gone', 'gonna', 'good', 'google', 'gootï', 'gorg', 'gorgeous', 'got', 'great', 'greatly', 'greatï', 'greenï', 'groups', 'growing', 'grynn', 'gt', 'gta', 'guasch', 'guss', 'guy', 'guys', 'hack', 'hack2013', 'hacking', 'had', 'haha', 'hahah', 'hahahahah', 'half', 'hallows', 'hand', 'handsome', 'happen', 'happy', 'harbor', 'hard', 'harry', 'has', 'hashtag', 'hate', 'have', 'hay', 'he', 'head', 'hear', 'heard', 'heart', 'heartbreaking', 'hell', 'hello', 'help', 'helped', 'helpful', 'helping', 'helpless', 'helps', 'her', 'here', 'hermann', 'heroin', 'hes', 'hey', 'hi', 'high', 'hilarious', 'him', 'hioffpo', 'hip', 'hiphop', 'his', 'historyï', 'hit', 'hog', 'hollywood', 'holy', 'home', 'homies', 'hood', 'hop', 'hope', 'hopes', 'hoping', 'hoppler', 'hot', 'hotter', 'hotï', 'house', 'how', 'href', 'http', 'https', 'huh', 'humor', 'hurts', 'husbands', 'husky', 'hyuck', 'ideas', 'idiotic', 'idol', 'if', 'igblast', 'ignorant', 'ignore', 'ii', 'ill', 'illustrate', 'im', 'imagine', 'imma', 'imperfect', 'improve', 'improves', 'in', 'including', 'increase', 'industry', 'ini', 'ink', 'innocent', 'insane', 'insanity', 'insideï', 'insidious', 'insperasen', 'inspiration', 'inspire', 'instagram', 'intelligent', 'internet', 'intervene', 'into', 'invest', 'is', 'island', 'isn', 'isnt', 'it', 'its', 'itï', 'ive', 'iâ', 'jackson', 'jail', 'jamï', 'jelly', 'jlimvuth', 'johackle', 'john', 'journey', 'jovaphile', 'judges', 'juss', 'just', 'justin', 'keen', 'keep', 'keithlinscotts', 'khalifa', 'kid', 'kids', 'killed', 'killtheclockhd', 'kinda', 'king', 'know', 'knowledge', 'known', 'kpopcity', 'krean', 'ladies', 'lake', 'lana', 'lane', 'language', 'largest', 'lasting', 'latest', 'latinoamericaï', 'laughable', 'leandrus', 'learned', 'learning', 'least', 'leave', 'left', 'lemme', 'less', 'let', 'letter', 'letting', 'lie', 'liers', 'lies', 'lieï', 'life', 'lift', 'like', 'likes', 'likeï', 'lil', 'limit', 'line', 'link', 'linz', 'listen', 'listening', 'little', 'live', 'lively', 'lives', 'living', 'll', 'lneadw26bfst76vhkjl8pxaey6vmnlvmriudtsfk6vy', 'lneadw26bft', 'lneadw26bftvzqt6juehasiefrjg1exi_dvqdnqvpho', 'lneadw26bfunoarag71awgu6tjo6azdkfiun_tz1_hy', 'lneadw26bfvkahxpkenm25fywkyxthsupri6juqsznu', 'loads', 'locobot', 'lol', 'lolï', 'long', 'longer', 'look', 'looking', 'looks', 'looooved', 'looplab', 'losing', 'loss', 'lost', 'lostï', 'lot', 'loud', 'lova', 'love', 'lovely', 'lovers', 'loves', 'lovethewayyoulie', 'loveï', 'loveðÿ', 'loving', 'lt', 'lucky', 'lulerain', 'luv', 'luxuriant', 'lv', 'ly', 'lykum', 'lyric', 'lyrical', 'lyrically', 'lyrics', 'macho', 'macklemore', 'made', 'magnificent', 'mail', 'make', 'makes', 'making', 'mammoth', 'man', 'manager', 'many', 'master', 'may', 'maybe', 'me', 'mean', 'means', 'meaty', 'medication', 'megan', 'meghan', 'memoriesï', 'memory', 'mere', 'message', 'metal', 'method', 'mexico', 'meï', 'mice', 'micheal', 'might', 'miley', 'million', 'millions', 'mind', 'mine', 'minute', 'minutes', 'mirror', 'missing', 'misty', 'mix', 'mixing', 'mizuxe', 'mmlp2', 'mmph', 'mockingbird', 'moderock', 'modgone', 'mogotrevo', 'molly', 'moly', 'mom', 'moment', 'moments', 'money', 'moneygq', 'monster', 'month', 'months', 'moon', 'more', 'mosh', 'most', 'mother', 'mountain', 'much', 'muchâ', 'muchï', 'muhammad', 'mummy', 'music', 'musician', 'musicï', 'must', 'muzik', 'my', 'myself', 'mï', 'nalpure', 'name', 'named', 'naperone', 'narrow', 'nation', 'near', 'nearly', 'nearï', 'need', 'nelson', 'nem', 'net', 'never', 'new', 'news', 'next', 'nice', 'niceiâ', 'nicer', 'niceï', 'niko', 'no', 'nobody', 'nofollow', 'noise', 'noodile', 'normal', 'not', 'nothing', 'notice', 'notorious', 'now', 'noxu', 'number', 'ociramma', 'od', 'of', 'off', 'officiates', 'oh', 'oil', 'okay', 'old', 'oleald', 'olielle', 'omg', 'omniscient', 'on', 'one', 'onece', 'online', 'only', 'operation', 'opinion', 'or', 'order', 'oreo', 'original', 'ot', 'other', 'others', 'otoufj0z3vfflfnaxykwzsivqhimx', 'our', 'out', 'over', 'ow', 'own', 'page', 'pages', 'pakistanï', 'palastineï', 'paper', 'paragraph', 'parede', 'part', 'pass', 'passed', 'passion', 'passionate', 'password', 'past', 'paå', 'peace', 'pen', 'penny', 'people', 'peopleï', 'pepelexa', 'per', 'perfect', 'perform', 'performance', 'performing', 'person', 'personally', 'phenomenallyricshere', 'photo', 'photograph', 'picked', 'picture', 'piece', 'pimpmyviews', 'pink', 'place', 'planet', 'plant', 'play', 'player', 'playlist', 'playtime', 'please', 'pleaseï', 'pleasureï', 'plese', 'plifal', 'ploosnar', 'pls', 'plus', 'plz', 'plzz', 'pmw', 'pn', 'polish', 'pop', 'popular', 'popï', 'post', 'potential', 'potter', 'pour', 'power', 'press', 'prevent', 'prioritize', 'probable', 'probably', 'produced', 'producer', 'professionally', 'professor', 'promise', 'protective', 'prove', 'psy', 'public', 'pun', 'push', 'pussy', 'put', 'qerrassa', 'qiameth', 'quadrillion', 'quality', 'quickest', 'quite', 'quot', 'rage', 'range', 'rants', 'rap', 'rape', 'rapgod', 'rapped', 'rapper', 'rappers', 'rapping', 'rapï', 'rate', 're', 'reach', 'read', 'reading', 'ready', 'real', 'really', 'realtionship', 'received', 'recently', 'record', 'recording', 'reduce', 'refers', 'reflective', 'regret', 'rehabilitate', 'reiltas', 'rel', 'relate', 'relationship', 'released', 'remember', 'reminiscent', 'remix', 'render', 'repair', 'resort', 'response', 'responsible', 'retain', 'retards', 'retrieve', 'reviews', 'rey', 'rhianna', 'rhinnahï', 'rhythm', 'right', 'rihana', 'rihanna', 'rihannaï', 'riled', 'riri', 'roasted', 'rock', 'rocks', 'roll', 'roulette', 'round', 'rt', 'ryhme', 'ryme', 'sad', 'sadly', 'same', 'samurman', 'sasaroo', 'sassy', 'saw', 'say', 'sayin', 'scale', 'scintillating', 'scitenoa', 'screwing', 'search', 'searchs', 'second', 'seconds', 'secret', 'see', 'selection', 'sense', 'september', 'serious', 'sertave', 'set', 'several', 'sexual', 'sexy', 'shady', 'shaeel', 'shallow', 'shame', 'share', 'shared', 'shares', 'she', 'shes', 'shock', 'shorogyt', 'short', 'should', 'show', 'sick', 'signed', 'similarï', 'simple', 'sing', 'singer', 'single', 'singlewave', 'sinpad', 'sirius', 'sister', 'site', 'skits', 'skizzle', 'sky', 'skylar', 'sleeping', 'slimy', 'slip', 'smack', 'smile', 'smoke', 'smoking', 'sneakiestg', 'sneeze', 'so', 'software', 'soldiers', 'some', 'someone', 'something', 'song', 'songs', 'songï', 'soo', 'soon', 'sooo', 'sooooooooooooooo', 'sophisticated', 'sore', 'sorry', 'sounds', 'space', 'spam', 'spammers', 'spamming', 'speaks', 'special', 'speech', 'spell', 'spent', 'spirits', 'spit', 'spourmo', 'spousal', 'srilanka', 'stand', 'stars', 'start', 'started', 'stay', 'steel', 'stereotyped', 'still', 'stop', 'store', 'sttuupidï', 'student', 'sturdy', 'style', 'sub', 'subcribe', 'subs', 'subscribe', 'subscribee', 'subscriber', 'subscribers', 'subscribing', 'subscription', 'substantial', 'successful', 'such', 'suck', 'suicide', 'supat', 'super', 'support', 'supporters', 'survival', 'swamp', 'swear', 'swooflia', 'swoquix', 'symptomatic', 'synthesizes', 'system', 'take', 'talent', 'talents', 'talk', 'talking', 'tape', 'tax', 'tde', 'tears', 'tell', 'tendency', 'texas', 'than', 'thank', 'thanks', 'thanx', 'that', 'thats', 'thatâ', 'thatï', 'the', 'the1fantasy', 'their', 'them', 'then', 'there', 'therealchrisking1', 'these', 'they', 'thing', 'things', 'think', 'thirsty', 'this', 'those', 'thou', 'thought', 'thoughï', 'thumb', 'thumbs', 'thundering', 'time', 'times', 'timeï', 'title', 'titled', 'to', 'today', 'together', 'togetherï', 'told', 'tomorrow', 'too', 'toogit', 'took', 'top', 'towered', 'toximble', 'toy', 'toï', 'track', 'tracks', 'train', 'transmit', 'treating', 'trelod', 'tried', 'trigger', 'trop', 'true', 'truly', 'trust', 'try', 'trying', 'tryna', 'tube', 'tupacase', 'tv', 'tvï', 'twitter', 'two', 'tyga', 'type', 'unbiased', 'uncovered', 'underground', 'understand', 'undesirable', 'unelind', 'unequaled', 'unstoppable', 'untitled', 'up', 'upload', 'uppity', 'us', 'used', 'useless', 'user', 'valuable', 'value', 've', 'vegetables', 'verse', 'verses', 'version', 'very', 'vi', 'victorious', 'vid', 'video', 'videos', 'videoï', 'view', 'views', 'viewsï', 'vincent', 'vines', 'violence', 'virus', 'visit', 'voice', 'vote', 'votre', 'w6gkm', 'walk', 'wanna', 'want', 'wants', 'war', 'waratel', 'warning', 'was', 'wasn', 'waste', 'wasting', 'watch', 'watched', 'watching', 'wavefire', 'way', 'ways', 'wazzasoft', 'we', 'weak', 'website', 'weekend', 'weight', 'welcome', 'well', 'were', 'what', 'wheels', 'when', 'where', 'while', 'white', 'whiz', 'who', 'whole', 'why', 'wife', 'will', 'win', 'wind', 'wiry', 'wish', 'wited', 'with', 'within', 'without', 'witnesss', 'woman', 'women', 'won', 'wonder', 'wonderfulï', 'wont', 'wood', 'woozy', 'word', 'work', 'worked', 'working', 'works', 'world', 'worst', 'worthless', 'would', 'wouldnt', 'wow', 'write', 'writing', 'wrote', 'wtf', 'wtp', 'www', 'xny2m', 'xoxo', 'xxxï', 'xytcq5nzmua', 'ya', 'yboiveth', 'yeahï', 'year', 'years', 'yesterday', 'yfuy4gkr1c', 'yo', 'yoffa', 'you', 'young', 'your', 'yourself', 'youtu', 'youtube', 'youtubers', 'ytma', 'yuliya', 'yuttx04oyqq', 'zesty', 'zip', 'zonepa', 'ºmy', 'ºâ', 'âœ', 'âœœï', 'ðÿ', 'ûžû', 'œâ', 'œï', 'œû', 'ƒâ']\n"
     ]
    }
   ],
   "source": [
    "# Format comments with TF-IDF features into x test\n",
    "contentCorpusTest = xTest['CONTENT']\n",
    "xTestTFIDF = vectorizer.transform(contentCorpusTest)\n",
    "print(vectorizer.get_feature_names())"
   ]
  },
  {
   "cell_type": "code",
   "execution_count": 10,
   "metadata": {},
   "outputs": [
    {
     "name": "stdout",
     "output_type": "stream",
     "text": [
      "(90, 1476)\n"
     ]
    }
   ],
   "source": [
    "print(xTestTFIDF.shape)"
   ]
  },
  {
   "cell_type": "markdown",
   "metadata": {},
   "source": [
    "##### (d) L2-penalized Logistic Regression"
   ]
  },
  {
   "cell_type": "markdown",
   "metadata": {},
   "source": [
    "i. Determine λ using five fold cross-validation on your training set. Consider log10 λ ∈ {−5, −4, . . . , 5}. "
   ]
  },
  {
   "cell_type": "code",
   "execution_count": 11,
   "metadata": {},
   "outputs": [],
   "source": [
    "import warnings \n",
    "warnings.filterwarnings('ignore')"
   ]
  },
  {
   "cell_type": "code",
   "execution_count": 12,
   "metadata": {
    "scrolled": true
   },
   "outputs": [
    {
     "name": "stdout",
     "output_type": "stream",
     "text": [
      "Best Lambda:-  1.0\n"
     ]
    }
   ],
   "source": [
    "logistic = linear_model.LogisticRegression()\n",
    "penalty = ['l2']\n",
    "c = [1/pow(10, i) for i in range(-5, 6)]\n",
    "\n",
    "# Find best lambda\n",
    "parameters = {\"C\": c, \"penalty\": penalty, \"solver\": ['liblinear']}\n",
    "gridcv = GridSearchCV(logistic, parameters, cv=5, n_jobs=-1)\n",
    "best_model = gridcv.fit(xTrainTFIDF, yTrain)\n",
    "print('Best Lambda:- ', 1/best_model.best_estimator_.get_params()['C'])"
   ]
  },
  {
   "cell_type": "markdown",
   "metadata": {},
   "source": [
    "ii. Train L2-penalized Logistic Regression using the λ you found in 1(e)i. Calculate the confusion matrix, accuracy, precision, recall, and F1 score as well as the ROC curve and AUC for your training set. \n"
   ]
  },
  {
   "cell_type": "code",
   "execution_count": 13,
   "metadata": {},
   "outputs": [
    {
     "name": "stdout",
     "output_type": "stream",
     "text": [
      "Training Values for L2 Eminem:\n",
      "Confusion Matrix:\n",
      "[[162   0]\n",
      " [  5 191]]\n",
      "ROC AUC: 0.9872448979591837\n",
      "Precision: 1.0\n",
      "Accuracy Score: 0.9860335195530726\n",
      "Recall: 0.9744897959183674\n",
      "F1 Score: 0.9870801033591732\n"
     ]
    }
   ],
   "source": [
    "# Predict for x & y train\n",
    "y_trainPredictL2 = best_model.predict(xTrainTFIDF)\n",
    "\n",
    "# Report metrics for training set \n",
    "print(\"Training Values for L2 Eminem:\")\n",
    "print(\"Confusion Matrix:\")\n",
    "print(confusion_matrix(yTrain, y_trainPredictL2))\n",
    "print(\"ROC AUC:\", metrics.roc_auc_score(yTrain, y_trainPredictL2))\n",
    "print(\"Precision:\", metrics.precision_score(yTrain, y_trainPredictL2))\n",
    "print(\"Accuracy Score:\", metrics.accuracy_score(yTrain, y_trainPredictL2))\n",
    "print(\"Recall:\", metrics.recall_score(yTrain, y_trainPredictL2))\n",
    "print(\"F1 Score:\", metrics.f1_score(yTrain, y_trainPredictL2))"
   ]
  },
  {
   "cell_type": "code",
   "execution_count": 14,
   "metadata": {},
   "outputs": [
    {
     "data": {
      "image/png": "[encoded data removed]",
      "text/plain": [
       "<Figure size 432x288 with 1 Axes>"
      ]
     },
     "metadata": {
      "needs_background": "light"
     },
     "output_type": "display_data"
    }
   ],
   "source": [
    "# Plot ROC of training set \n",
    "fpr, tpr, thresholds = roc_curve(yTrain, y_trainPredictL2, pos_label=1)\n",
    "logit_roc_auc = roc_auc_score(yTrain, y_trainPredictL2)\n",
    "plt.figure()\n",
    "plt.plot(fpr, tpr, label='AUC (area = %0.5f)' % logit_roc_auc)\n",
    "plt.plot([0, 1], [0, 1], 'r--')\n",
    "plt.xlabel('False Positive Rate')\n",
    "plt.ylabel('True Positive Rate')\n",
    "plt.title('Receiver operating characteristic for train L2 Eminem')\n",
    "plt.legend(loc=\"lower right\")\n",
    "plt.show()"
   ]
  },
  {
   "cell_type": "markdown",
   "metadata": {},
   "source": [
    "iii. Test the algorithm on the test set and calculate the confusion matrix, accuracy, precision, recall, and F1 score as well as the ROC curve and AUC for the test set. Which one is more important in this application, precision or recall? Calculate Fβ score for β ∈ {0.1, 0.5, .9, 1, 5, 10}. "
   ]
  },
  {
   "cell_type": "code",
   "execution_count": 15,
   "metadata": {},
   "outputs": [
    {
     "name": "stdout",
     "output_type": "stream",
     "text": [
      "Test Values for L2 Eminem:\n",
      "Confusion Matrix:\n",
      "[[41  0]\n",
      " [ 0 49]]\n",
      "ROC AUC: 1.0\n",
      "Precision: 1.0\n",
      "Accuracy Score: 1.0\n",
      "Recall: 1.0\n",
      "F1 Score: 1.0\n"
     ]
    }
   ],
   "source": [
    "# Predict for x & y test \n",
    "test_model = gridcv.fit(xTestTFIDF, yTest)\n",
    "y_testPredictL2 = test_model.predict(xTestTFIDF)\n",
    "\n",
    "# Report metrics for testing set\n",
    "print(\"Test Values for L2 Eminem:\")\n",
    "print(\"Confusion Matrix:\")\n",
    "print(confusion_matrix(yTest, y_testPredictL2))\n",
    "print(\"ROC AUC:\", metrics.roc_auc_score(yTest, y_testPredictL2))\n",
    "print(\"Precision:\", metrics.precision_score(yTest, y_testPredictL2))\n",
    "print(\"Accuracy Score:\", metrics.accuracy_score(yTest, y_testPredictL2))\n",
    "print(\"Recall:\", metrics.recall_score(yTest, y_testPredictL2))\n",
    "print(\"F1 Score:\", metrics.f1_score(yTest, y_testPredictL2))"
   ]
  },
  {
   "cell_type": "code",
   "execution_count": 16,
   "metadata": {},
   "outputs": [
    {
     "data": {
      "image/png": "[encoded data removed]",
      "text/plain": [
       "<Figure size 432x288 with 1 Axes>"
      ]
     },
     "metadata": {
      "needs_background": "light"
     },
     "output_type": "display_data"
    }
   ],
   "source": [
    "# Plotting ROC for testing set \n",
    "fpr1, tpr1, thresholds1 = roc_curve(yTest, y_testPredictL2, pos_label=1)\n",
    "logit_roc_auc1 = roc_auc_score(yTest, y_testPredictL2)\n",
    "plt.figure()\n",
    "plt.plot(fpr1, tpr1, label='AUC (area = %0.5f)' % logit_roc_auc1)\n",
    "plt.plot([0, 1], [0, 1], 'r--')\n",
    "plt.xlabel('False Positive Rate')\n",
    "plt.ylabel('True Positive Rate')\n",
    "plt.title('Receiver operating characteristic for test L2 Eminem')\n",
    "plt.legend(loc=\"lower right\")\n",
    "plt.show()"
   ]
  },
  {
   "cell_type": "code",
   "execution_count": 17,
   "metadata": {},
   "outputs": [
    {
     "name": "stdout",
     "output_type": "stream",
     "text": [
      "Fβ score for various β's\n",
      "0.1: 1.0\n",
      "0.5: 1.0\n",
      "0.9: 1.0\n",
      "1: 1.0\n",
      "5: 1.0\n",
      "10: 1.0\n"
     ]
    }
   ],
   "source": [
    "# Fβ score for β ∈ {0.1, 0.5, .9, 1, 5, 10}\n",
    "bs = [0.1, 0.5, 0.9, 1, 5, 10]\n",
    "print(\"Fβ score for various β's\")\n",
    "for i in bs: \n",
    "    score = fbeta_score(yTest, y_testPredictL2, average='weighted', beta=i)\n",
    "    print(str(i) + \": \" + str(score))"
   ]
  },
  {
   "cell_type": "markdown",
   "metadata": {},
   "source": [
    "##### (e) L1-penalized Logistic Regression"
   ]
  },
  {
   "cell_type": "markdown",
   "metadata": {},
   "source": [
    "i. Determine λ using five fold cross-validation on your training set. Consider\n",
    "log10 λ ∈ {−5, −4, . . . , 5}. "
   ]
  },
  {
   "cell_type": "code",
   "execution_count": 18,
   "metadata": {},
   "outputs": [
    {
     "name": "stdout",
     "output_type": "stream",
     "text": [
      "Best Lambda:-  0.001\n"
     ]
    }
   ],
   "source": [
    "logistique = linear_model.LogisticRegression()\n",
    "penalty2 = ['l1']\n",
    "c2 = [1/pow(10, i) for i in range(-5, 6)]\n",
    "\n",
    "# Find best lambda\n",
    "parameters2 = {\"C\": c2, \"penalty\": penalty2, \"solver\": ['liblinear']}\n",
    "gridcv2 = GridSearchCV(logistique, parameters2, cv=5, n_jobs=-1)\n",
    "best_modelL1 = gridcv2.fit(xTrainTFIDF, yTrain)\n",
    "print('Best Lambda:- ', 1/best_modelL1.best_estimator_.get_params()['C'])"
   ]
  },
  {
   "cell_type": "markdown",
   "metadata": {},
   "source": [
    "ii. Train L1-penalized Logistic Regression using the λ you found in 1(e)i. Calculate the confusion matrix, accuracy, precision, recall, and F1 score as well as the ROC curve and AUC for your training set."
   ]
  },
  {
   "cell_type": "code",
   "execution_count": 19,
   "metadata": {},
   "outputs": [
    {
     "name": "stdout",
     "output_type": "stream",
     "text": [
      "Training Values for L1 Eminem:\n",
      "Confusion Matrix:\n",
      "[[162   0]\n",
      " [  0 196]]\n",
      "ROC AUC: 1.0\n",
      "Precision: 1.0\n",
      "Accuracy Score: 1.0\n",
      "Recall: 1.0\n",
      "F1 Score: 1.0\n"
     ]
    }
   ],
   "source": [
    "# Predict for x & y train\n",
    "y_trainPredictL1 = best_modelL1.predict(xTrainTFIDF)\n",
    "\n",
    "# Report metrics for training set\n",
    "print(\"Training Values for L1 Eminem:\")\n",
    "print(\"Confusion Matrix:\")\n",
    "print(confusion_matrix(yTrain, y_trainPredictL1))\n",
    "print(\"ROC AUC:\", metrics.roc_auc_score(yTrain, y_trainPredictL1))\n",
    "print(\"Precision:\", metrics.precision_score(yTrain, y_trainPredictL1))\n",
    "print(\"Accuracy Score:\", metrics.accuracy_score(yTrain, y_trainPredictL1))\n",
    "print(\"Recall:\", metrics.recall_score(yTrain, y_trainPredictL1))\n",
    "print(\"F1 Score:\", metrics.f1_score(yTrain, y_trainPredictL1))"
   ]
  },
  {
   "cell_type": "code",
   "execution_count": 20,
   "metadata": {},
   "outputs": [
    {
     "data": {
      "image/png": "[encoded data removed]",
      "text/plain": [
       "<Figure size 432x288 with 1 Axes>"
      ]
     },
     "metadata": {
      "needs_background": "light"
     },
     "output_type": "display_data"
    }
   ],
   "source": [
    "# Plotting ROC for training set \n",
    "fpr2, tpr2, thresholds2 = roc_curve(yTrain, y_trainPredictL1, pos_label=1)\n",
    "logit_roc_auc2 = roc_auc_score(yTrain, y_trainPredictL1)\n",
    "plt.figure()\n",
    "plt.plot(fpr2, tpr2, label='AUC (area = %0.5f)' % logit_roc_auc2)\n",
    "plt.plot([0, 1], [0, 1], 'r--')\n",
    "plt.xlabel('False Positive Rate')\n",
    "plt.ylabel('True Positive Rate')\n",
    "plt.title('Receiver operating characteristic for train L1 Eminem')\n",
    "plt.legend(loc=\"lower right\")\n",
    "plt.show()"
   ]
  },
  {
   "cell_type": "markdown",
   "metadata": {},
   "source": [
    "iii. Test the algorithm on the test set and calculate the confusion matrix, accuracy, precision, recall, and F1 score as well as the ROC curve and AUC for the test set. \n"
   ]
  },
  {
   "cell_type": "code",
   "execution_count": 21,
   "metadata": {},
   "outputs": [
    {
     "name": "stdout",
     "output_type": "stream",
     "text": [
      "Test Values for L1 Eminem:\n",
      "Confusion Matrix:\n",
      "[[41  0]\n",
      " [ 0 49]]\n",
      "ROC AUC: 1.0\n",
      "Precision: 1.0\n",
      "Accuracy Score: 1.0\n",
      "Recall: 1.0\n",
      "F1 Score: 1.0\n"
     ]
    }
   ],
   "source": [
    "# Predict for x & y test \n",
    "test_modelL1 = gridcv2.fit(xTestTFIDF, yTest)\n",
    "y_testPredictL1 = test_modelL1.predict(xTestTFIDF)\n",
    "\n",
    "# Report metrics for testing set\n",
    "print(\"Test Values for L1 Eminem:\")\n",
    "print(\"Confusion Matrix:\")\n",
    "print(confusion_matrix(yTest, y_testPredictL1))\n",
    "print(\"ROC AUC:\", metrics.roc_auc_score(yTest, y_testPredictL1))\n",
    "print(\"Precision:\", metrics.precision_score(yTest, y_testPredictL1))\n",
    "print(\"Accuracy Score:\", metrics.accuracy_score(yTest, y_testPredictL1))\n",
    "print(\"Recall:\", metrics.recall_score(yTest, y_testPredictL1))\n",
    "print(\"F1 Score:\", metrics.f1_score(yTest, y_testPredictL1))"
   ]
  },
  {
   "cell_type": "code",
   "execution_count": 22,
   "metadata": {},
   "outputs": [
    {
     "data": {
      "image/png": "[encoded data removed]",
      "text/plain": [
       "<Figure size 432x288 with 1 Axes>"
      ]
     },
     "metadata": {
      "needs_background": "light"
     },
     "output_type": "display_data"
    }
   ],
   "source": [
    "# Plotting ROC for testing set \n",
    "fpr3, tpr3, thresholds3 = roc_curve(yTest, y_testPredictL1, pos_label=1)\n",
    "logit_roc_auc3 = roc_auc_score(yTest, y_testPredictL1)\n",
    "plt.figure()\n",
    "plt.plot(fpr3, tpr3, label='AUC (area = %0.5f)' % logit_roc_auc3)\n",
    "plt.plot([0, 1], [0, 1], 'r--')\n",
    "plt.xlabel('False Positive Rate')\n",
    "plt.ylabel('True Positive Rate')\n",
    "plt.title('Receiver operating characteristic for test L1 Eminem')\n",
    "plt.legend(loc=\"lower right\")\n",
    "plt.show()"
   ]
  },
  {
   "cell_type": "markdown",
   "metadata": {},
   "source": [
    "##### (f) Binary Classification Using Na¨ıve Bayes’ Classifiers"
   ]
  },
  {
   "cell_type": "markdown",
   "metadata": {},
   "source": [
    "i. Solve the problem using a Na¨ıve Bayes’ classifier. Use Gaussian class conditional distributions. Report the confusion matrix, ROC, precision, recall, F1 score, and AUC for both the train and test data sets. "
   ]
  },
  {
   "cell_type": "code",
   "execution_count": 23,
   "metadata": {},
   "outputs": [],
   "source": [
    "Gaussian = GaussianNB()\n",
    "x_trainArray = xTrainTFIDF.toarray()"
   ]
  },
  {
   "cell_type": "code",
   "execution_count": 24,
   "metadata": {},
   "outputs": [
    {
     "name": "stdout",
     "output_type": "stream",
     "text": [
      "Training Values for Gaussian NB Eminem:\n",
      "Confusion Matrix:\n",
      "[[162   0]\n",
      " [  0 196]]\n",
      "ROC AUC: 1.0\n",
      "Precision: 1.0\n",
      "Accuracy Score: 1.0\n",
      "Recall: 1.0\n",
      "F1 Score: 1.0\n"
     ]
    }
   ],
   "source": [
    "# Predict for x & y train\n",
    "GaussianTrain = Gaussian.fit(x_trainArray, yTrain)\n",
    "y_trainPreds = GaussianTrain.predict(x_trainArray)\n",
    "\n",
    "# Report metrics for training set\n",
    "print(\"Training Values for Gaussian NB Eminem:\")\n",
    "print(\"Confusion Matrix:\")\n",
    "print(confusion_matrix(yTrain, y_trainPreds))\n",
    "print(\"ROC AUC:\", metrics.roc_auc_score(yTrain, y_trainPreds))\n",
    "print(\"Precision:\", metrics.precision_score(yTrain, y_trainPreds))\n",
    "print(\"Accuracy Score:\", metrics.accuracy_score(yTrain, y_trainPreds))\n",
    "print(\"Recall:\", metrics.recall_score(yTrain, y_trainPreds))\n",
    "print(\"F1 Score:\", metrics.f1_score(yTrain, y_trainPreds))"
   ]
  },
  {
   "cell_type": "code",
   "execution_count": 25,
   "metadata": {},
   "outputs": [
    {
     "data": {
      "image/png": "[encoded data removed]",
      "text/plain": [
       "<Figure size 432x288 with 1 Axes>"
      ]
     },
     "metadata": {
      "needs_background": "light"
     },
     "output_type": "display_data"
    }
   ],
   "source": [
    "# Plotting ROC for training set \n",
    "fpr4, tpr4, thresholds4 = roc_curve(yTrain, y_trainPreds, pos_label=1)\n",
    "logit_roc_auc4 = roc_auc_score(yTrain, y_trainPreds)\n",
    "plt.figure()\n",
    "plt.plot(fpr4, tpr4, label='AUC (area = %0.5f)' % logit_roc_auc4)\n",
    "plt.plot([0, 1], [0, 1], 'r--')\n",
    "plt.xlabel('False Positive Rate')\n",
    "plt.ylabel('True Positive Rate')\n",
    "plt.title('Receiver operating characteristic for train Gaussian Naive Bayes Eminem')\n",
    "plt.legend(loc=\"lower right\")\n",
    "plt.show()"
   ]
  },
  {
   "cell_type": "code",
   "execution_count": 26,
   "metadata": {},
   "outputs": [
    {
     "name": "stdout",
     "output_type": "stream",
     "text": [
      "Testing Values for Gaussian NB Eminem:\n",
      "Confusion Matrix:\n",
      "[[41  0]\n",
      " [ 0 49]]\n",
      "ROC AUC: 1.0\n",
      "Precision: 1.0\n",
      "Accuracy Score: 1.0\n",
      "Recall: 1.0\n",
      "F1 Score: 1.0\n"
     ]
    }
   ],
   "source": [
    "x_testArray = xTestTFIDF.toarray()\n",
    "\n",
    "# Predict for x & y test \n",
    "GaussianTest = Gaussian.fit(x_testArray, yTest)\n",
    "y_testPreds = GaussianTest.predict(x_testArray)\n",
    "\n",
    "# Report metrics for testing set\n",
    "print(\"Testing Values for Gaussian NB Eminem:\")\n",
    "print(\"Confusion Matrix:\")\n",
    "print(confusion_matrix(yTest, y_testPreds))\n",
    "print(\"ROC AUC:\", metrics.roc_auc_score(yTest, y_testPreds))\n",
    "print(\"Precision:\", metrics.precision_score(yTest, y_testPreds))\n",
    "print(\"Accuracy Score:\", metrics.accuracy_score(yTest, y_testPreds))\n",
    "print(\"Recall:\", metrics.recall_score(yTest, y_testPreds))\n",
    "print(\"F1 Score:\", metrics.f1_score(yTest, y_testPreds))"
   ]
  },
  {
   "cell_type": "code",
   "execution_count": 27,
   "metadata": {},
   "outputs": [
    {
     "data": {
      "image/png": "[encoded data removed]",
      "text/plain": [
       "<Figure size 432x288 with 1 Axes>"
      ]
     },
     "metadata": {
      "needs_background": "light"
     },
     "output_type": "display_data"
    }
   ],
   "source": [
    "# Plotting ROC for testing set \n",
    "fpr5, tpr5, thresholds5 = roc_curve(yTest, y_testPreds, pos_label=1)\n",
    "logit_roc_auc5 = roc_auc_score(yTest, y_testPreds)\n",
    "plt.figure()\n",
    "plt.plot(fpr5, tpr5, label='AUC (area = %0.5f)' % logit_roc_auc5)\n",
    "plt.plot([0, 1], [0, 1], 'r--')\n",
    "plt.xlabel('False Positive Rate')\n",
    "plt.ylabel('True Positive Rate')\n",
    "plt.title('Receiver operating characteristic for test Gaussian Naive Bayes Eminem')\n",
    "plt.legend(loc=\"lower right\")\n",
    "plt.show()"
   ]
  },
  {
   "cell_type": "markdown",
   "metadata": {},
   "source": [
    "##### (g) Repeat 1(f)i using multinomial priors."
   ]
  },
  {
   "cell_type": "code",
   "execution_count": 28,
   "metadata": {},
   "outputs": [
    {
     "name": "stdout",
     "output_type": "stream",
     "text": [
      "Training Values for Multinomial NB Eminem:\n",
      "Confusion Matrix:\n",
      "[[155   7]\n",
      " [  0 196]]\n",
      "ROC AUC: 0.9783950617283951\n",
      "Precision: 0.9655172413793104\n",
      "Accuracy Score: 0.9804469273743017\n",
      "Recall: 1.0\n",
      "F1 Score: 0.9824561403508771\n"
     ]
    }
   ],
   "source": [
    "multi = MultinomialNB()\n",
    "multiTrain = multi.fit(x_trainArray, yTrain)\n",
    "y_trainPredss = multiTrain.predict(x_trainArray)\n",
    "\n",
    "print(\"Training Values for Multinomial NB Eminem:\")\n",
    "print(\"Confusion Matrix:\")\n",
    "print(confusion_matrix(yTrain, y_trainPredss))\n",
    "print(\"ROC AUC:\", metrics.roc_auc_score(yTrain, y_trainPredss))\n",
    "print(\"Precision:\", metrics.precision_score(yTrain, y_trainPredss))\n",
    "print(\"Accuracy Score:\", metrics.accuracy_score(yTrain, y_trainPredss))\n",
    "print(\"Recall:\", metrics.recall_score(yTrain, y_trainPredss))\n",
    "print(\"F1 Score:\", metrics.f1_score(yTrain, y_trainPredss))"
   ]
  },
  {
   "cell_type": "code",
   "execution_count": 29,
   "metadata": {},
   "outputs": [
    {
     "data": {
      "image/png": "[encoded data removed]",
      "text/plain": [
       "<Figure size 432x288 with 1 Axes>"
      ]
     },
     "metadata": {
      "needs_background": "light"
     },
     "output_type": "display_data"
    }
   ],
   "source": [
    "fpr6, tpr6, thresholds6 = roc_curve(yTrain, y_trainPredss, pos_label=1)\n",
    "logit_roc_auc6 = roc_auc_score(yTrain, y_trainPredss)\n",
    "plt.figure()\n",
    "plt.plot(fpr6, tpr6, label='AUC (area = %0.5f)' % logit_roc_auc6)\n",
    "plt.plot([0, 1], [0, 1], 'r--')\n",
    "plt.xlabel('False Positive Rate')\n",
    "plt.ylabel('True Positive Rate')\n",
    "plt.title('Receiver operating characteristic for train Multinomial Naive Bayes Eminem')\n",
    "plt.legend(loc=\"lower right\")\n",
    "plt.show()"
   ]
  },
  {
   "cell_type": "code",
   "execution_count": 30,
   "metadata": {},
   "outputs": [
    {
     "name": "stdout",
     "output_type": "stream",
     "text": [
      "Testing Values:\n",
      "Confusion Matrix:\n",
      "[[34  7]\n",
      " [ 0 49]]\n",
      "ROC AUC: 0.9146341463414633\n",
      "Precision: 0.875\n",
      "Accuracy Score: 0.9222222222222223\n",
      "Recall: 1.0\n",
      "F1 Score: 0.9333333333333333\n"
     ]
    }
   ],
   "source": [
    "multiTest = multi.fit(x_testArray, yTest)\n",
    "y_testPredss = multiTrain.predict(x_testArray)\n",
    "\n",
    "print(\"Testing Values:\")\n",
    "print(\"Confusion Matrix:\")\n",
    "print(confusion_matrix(yTest, y_testPredss))\n",
    "print(\"ROC AUC:\", metrics.roc_auc_score(yTest, y_testPredss))\n",
    "print(\"Precision:\", metrics.precision_score(yTest, y_testPredss))\n",
    "print(\"Accuracy Score:\", metrics.accuracy_score(yTest, y_testPredss))\n",
    "print(\"Recall:\", metrics.recall_score(yTest, y_testPredss))\n",
    "print(\"F1 Score:\", metrics.f1_score(yTest, y_testPredss))"
   ]
  },
  {
   "cell_type": "code",
   "execution_count": 31,
   "metadata": {},
   "outputs": [
    {
     "data": {
      "image/png": "[encoded data removed]",
      "text/plain": [
       "<Figure size 432x288 with 1 Axes>"
      ]
     },
     "metadata": {
      "needs_background": "light"
     },
     "output_type": "display_data"
    }
   ],
   "source": [
    "fpr7, tpr7, thresholds7 = roc_curve(yTest, y_testPredss, pos_label=1)\n",
    "logit_roc_auc7 = roc_auc_score(yTest, y_testPredss)\n",
    "plt.figure()\n",
    "plt.plot(fpr7, tpr7, label='AUC (area = %0.5f)' % logit_roc_auc7)\n",
    "plt.plot([0, 1], [0, 1], 'r--')\n",
    "plt.xlabel('False Positive Rate')\n",
    "plt.ylabel('True Positive Rate')\n",
    "plt.title('Receiver operating characteristic for test Multinomial Naive Bayes Eminem')\n",
    "plt.legend(loc=\"lower right\")\n",
    "plt.show()"
   ]
  },
  {
   "cell_type": "markdown",
   "metadata": {},
   "source": [
    "##### (h) Create one table for each of the five data sets: Shakira, Eminem, LMFAO, KatyPerry, and Psy to compare accuracy, precision, recall, F1 score and AUC of L1-penalized and L2-penalized logistic regression, Na¨ıve Bayes’ with Gaussian and multinomial priors for the test sets. Use the first b0.8Hc of H hams and the first b0.8Sc of S spams as your training set and the rest as your test set. Show the best score in each column using boldface. A hypothetical table is shown below:"
   ]
  },
  {
   "cell_type": "code",
   "execution_count": 32,
   "metadata": {},
   "outputs": [],
   "source": [
    "# Read in other 4 data sets: \n",
    "df2 = pd.read_csv(\"Youtube01-Psy.csv\", engine='python')\n",
    "df3 = pd.read_csv(\"Youtube02-KatyPerry.csv\", engine='python')\n",
    "df4 = pd.read_csv(\"Youtube03-LMFAO.csv\", engine='python')\n",
    "df5 = pd.read_csv(\"Youtube05-Shakira.csv\", engine='python')"
   ]
  },
  {
   "cell_type": "markdown",
   "metadata": {},
   "source": [
    "Creation of Table for Psy "
   ]
  },
  {
   "cell_type": "code",
   "execution_count": 33,
   "metadata": {},
   "outputs": [
    {
     "data": {
      "text/html": [
       "<div>\n",
       "<style scoped>\n",
       "    .dataframe tbody tr th:only-of-type {\n",
       "        vertical-align: middle;\n",
       "    }\n",
       "\n",
       "    .dataframe tbody tr th {\n",
       "        vertical-align: top;\n",
       "    }\n",
       "\n",
       "    .dataframe thead th {\n",
       "        text-align: right;\n",
       "    }\n",
       "</style>\n",
       "<table border=\"1\" class=\"dataframe\">\n",
       "  <thead>\n",
       "    <tr style=\"text-align: right;\">\n",
       "      <th></th>\n",
       "      <th>COMMENT_ID</th>\n",
       "      <th>AUTHOR</th>\n",
       "      <th>DATE</th>\n",
       "      <th>CONTENT</th>\n",
       "      <th>CLASS</th>\n",
       "    </tr>\n",
       "  </thead>\n",
       "  <tbody>\n",
       "    <tr>\n",
       "      <td>0</td>\n",
       "      <td>LZQPQhLyRh80UYxNuaDWhIGQYNQ96IuCg-AYWqNPjpU</td>\n",
       "      <td>Julius NM</td>\n",
       "      <td>2013-11-07T06:20:48</td>\n",
       "      <td>Huh, anyway check out this you[tube] channel: ...</td>\n",
       "      <td>1</td>\n",
       "    </tr>\n",
       "    <tr>\n",
       "      <td>1</td>\n",
       "      <td>LZQPQhLyRh_C2cTtd9MvFRJedxydaVW-2sNg5Diuo4A</td>\n",
       "      <td>adam riyati</td>\n",
       "      <td>2013-11-07T12:37:15</td>\n",
       "      <td>Hey guys check out my new channel and our firs...</td>\n",
       "      <td>1</td>\n",
       "    </tr>\n",
       "    <tr>\n",
       "      <td>2</td>\n",
       "      <td>LZQPQhLyRh9MSZYnf8djyk0gEF9BHDPYrrK-qCczIY8</td>\n",
       "      <td>Evgeny Murashkin</td>\n",
       "      <td>2013-11-08T17:34:21</td>\n",
       "      <td>just for test I have to say murdev.com</td>\n",
       "      <td>1</td>\n",
       "    </tr>\n",
       "    <tr>\n",
       "      <td>3</td>\n",
       "      <td>z13jhp0bxqncu512g22wvzkasxmvvzjaz04</td>\n",
       "      <td>ElNino Melendez</td>\n",
       "      <td>2013-11-09T08:28:43</td>\n",
       "      <td>me shaking my sexy ass on my channel enjoy ^_^...</td>\n",
       "      <td>1</td>\n",
       "    </tr>\n",
       "    <tr>\n",
       "      <td>4</td>\n",
       "      <td>z13fwbwp1oujthgqj04chlngpvzmtt3r3dw</td>\n",
       "      <td>GsMega</td>\n",
       "      <td>2013-11-10T16:05:38</td>\n",
       "      <td>watch?v=vtaRGgvGtWQ   Check this out .ï»¿</td>\n",
       "      <td>1</td>\n",
       "    </tr>\n",
       "  </tbody>\n",
       "</table>\n",
       "</div>"
      ],
      "text/plain": [
       "                                    COMMENT_ID            AUTHOR  \\\n",
       "0  LZQPQhLyRh80UYxNuaDWhIGQYNQ96IuCg-AYWqNPjpU         Julius NM   \n",
       "1  LZQPQhLyRh_C2cTtd9MvFRJedxydaVW-2sNg5Diuo4A       adam riyati   \n",
       "2  LZQPQhLyRh9MSZYnf8djyk0gEF9BHDPYrrK-qCczIY8  Evgeny Murashkin   \n",
       "3          z13jhp0bxqncu512g22wvzkasxmvvzjaz04   ElNino Melendez   \n",
       "4          z13fwbwp1oujthgqj04chlngpvzmtt3r3dw            GsMega   \n",
       "\n",
       "                  DATE                                            CONTENT  \\\n",
       "0  2013-11-07T06:20:48  Huh, anyway check out this you[tube] channel: ...   \n",
       "1  2013-11-07T12:37:15  Hey guys check out my new channel and our firs...   \n",
       "2  2013-11-08T17:34:21             just for test I have to say murdev.com   \n",
       "3  2013-11-09T08:28:43  me shaking my sexy ass on my channel enjoy ^_^...   \n",
       "4  2013-11-10T16:05:38          watch?v=vtaRGgvGtWQ   Check this out .ï»¿   \n",
       "\n",
       "   CLASS  \n",
       "0      1  \n",
       "1      1  \n",
       "2      1  \n",
       "3      1  \n",
       "4      1  "
      ]
     },
     "execution_count": 33,
     "metadata": {},
     "output_type": "execute_result"
    }
   ],
   "source": [
    "df2.head()"
   ]
  },
  {
   "cell_type": "code",
   "execution_count": 34,
   "metadata": {},
   "outputs": [
    {
     "name": "stdout",
     "output_type": "stream",
     "text": [
      "(175, 5)\n"
     ]
    }
   ],
   "source": [
    "print(df2[df2['CLASS'] == 0].shape)"
   ]
  },
  {
   "cell_type": "code",
   "execution_count": 35,
   "metadata": {},
   "outputs": [
    {
     "name": "stdout",
     "output_type": "stream",
     "text": [
      "(175, 5)\n"
     ]
    }
   ],
   "source": [
    "print(df2[df2['CLASS'] == 1].shape)"
   ]
  },
  {
   "cell_type": "code",
   "execution_count": 36,
   "metadata": {},
   "outputs": [],
   "source": [
    "hammyPsy = 0.8 * 175\n",
    "spammyPsy = 0.8 * 175"
   ]
  },
  {
   "cell_type": "code",
   "execution_count": 37,
   "metadata": {},
   "outputs": [],
   "source": [
    "# Split into train & test set for Psy \n",
    "\n",
    "hamRowsPsy = math.floor(hammyPsy)\n",
    "spamRowsPsy = math.floor(spammyPsy)\n",
    "\n",
    "class0_psy = df2.loc[df2['CLASS']==0] \n",
    "class1_psy = df2.loc[df2['CLASS']==1] \n",
    "\n",
    "xHamPsy = class0_psy.drop('CLASS', axis=1)\n",
    "yHamPsy = class0_psy['CLASS']\n",
    "xSpamPsy = class1_psy.drop('CLASS', axis=1)\n",
    "ySpamPsy = class1_psy['CLASS']\n",
    "\n",
    "xHamTrainPsy = xHamPsy[:hamRowsPsy]\n",
    "xSpamTrainPsy = xSpamPsy[:spamRowsPsy]\n",
    "yHamTrainPsy = yHamPsy[:hamRowsPsy]\n",
    "ySpamTrainPsy = ySpamPsy[:spamRowsPsy]\n",
    "\n",
    "xHamTestPsy = xHamPsy[hamRowsPsy:]\n",
    "xSpamTestPsy = xSpamPsy[spamRowsPsy:]\n",
    "yHamTestPsy = yHamPsy[hamRowsPsy:]\n",
    "ySpamTestPsy = ySpamPsy[spamRowsPsy:]\n",
    "\n",
    "xTrainsPsy = [xHamTrainPsy, xSpamTrainPsy]\n",
    "xTestsPsy = [xHamTestPsy, xSpamTestPsy]\n",
    "xTrainPsy = pd.concat(xTrainsPsy)\n",
    "xTestPsy = pd.concat(xTestsPsy)\n",
    "\n",
    "yTrainsPsy = [yHamTrainPsy, ySpamTrainPsy]\n",
    "yTestsPsy = [yHamTestPsy, ySpamTestPsy]\n",
    "yTrainPsy = pd.concat(yTrainsPsy)\n",
    "yTestPsy = pd.concat(yTestsPsy)"
   ]
  },
  {
   "cell_type": "code",
   "execution_count": 38,
   "metadata": {},
   "outputs": [
    {
     "name": "stdout",
     "output_type": "stream",
     "text": [
      "['000', '02', '034', '05', '08', '10', '100', '100000415527985', '10200253113705769', '11', '1111ï', '112720997191206369631', '12', '123ï', '124', '124923004', '126', '127', '13017194ï', '131338190916', '134470083389909', '1415297812', '1495323920744243', '171183229277', '19924', '1firo', '2009', '2012', '2012bitchesï', '2013', '2014', '201470069872822', '2015', '2017', '210', '23', '24', '24398ï', '279', '29', '2b', '2billion', '2x10', '3000', '313327', '315', '33gxrf', '33ï', '39', '3ï', '40beuutvu2zkxk4utgpz8kï', '4604617ï', '492', '4shared', '50', '521', '5277478', '5287', '5800', '5million', '5s', '616375350ï', '636', '6381501', '694', '700', '750', '783', '79', '821', '884', '898', '8bit', '9107ï', '9277547', '950', '969', '9bzkp7q19f0ï', '__killuminati94ï', '_chris_cz', '_trksid', 'aaaaaaa', 'able', 'about', 'above', 'absolutely', 'access', 'accessories', 'account', 'accounts', 'acn2gï', 'active', 'actor', 'actually', 'add', 'adding', 'admit', 'advice', 'affiliateid', 'after', 'again', 'ago', 'agoï', 'ahhh', 'alive', 'all', 'allot', 'allow', 'almond', 'also', 'alï', 'am', 'amazing', 'amazon', 'america', 'amp', 'an', 'ana', 'and', 'andrijamatf', 'android', 'angel', 'angry', 'animations', 'annoyingï', 'another', 'any', 'anybody', 'anymore', 'anyone', 'anyway', 'anywayï', 'apocalypse', 'apparel', 'apparently', 'appreciate', 'apps', 'are', 'around', 'art', 'as', 'aseris', 'asia', 'asian', 'asiaï', 'aspx', 'ass', 'at', 'auburn', 'audiojungle', 'auditioning', 'avaaz', 'avoid', 'aw', 'awesome', 'awesomeness', 'b00ecvf93g', 'baby', 'babyï', 'back', 'backï', 'bad', 'band', 'bass', 'bd3721315ï', 'be', 'beautiful', 'because', 'been', 'beenï', 'before', 'behind', 'behold', 'being', 'believe', 'best', 'bf4', 'bieber', 'big', 'bighit', 'bilion', 'billion', 'billions', 'billionï', 'billon', 'binbox', 'bitch', 'blanc', 'bomb', 'book', 'bother', 'bots', 'bowl', 'br', 'brain', 'brew', 'bringing', 'brother', 'brotherhoodï', 'brt0u5', 'bs', 'bubblews', 'but', 'buy', 'by', 'called', 'came', 'camera', 'can', 'card', 'cards', 'care', 'cash', 'cats', 'cd92db3f4', 'censor', 'chacking', 'chainise', 'challenges', 'chance', 'chanelï', 'change', 'chanicka', 'channel', 'channels', 'channelï', 'check', 'checked', 'checking', 'chick', 'child', 'china', 'chinese', 'ching', 'chiptunes', 'christmas', 'chubbz', 'chuck', 'cirus', 'citizen', 'cjfoftxeba', 'cleaning', 'click', 'clicked', 'clip', 'clothing', 'co', 'code', 'codes', 'codytolleson', 'com', 'come', 'comentars', 'comes', 'coming', 'comment', 'commenting', 'comments', 'commentï', 'commercial', 'company', 'complaining', 'completely', 'concerts', 'condition', 'connected', 'constructive', 'content', 'cool', 'could', 'count', 'countries', 'cover', 'covers', 'coversï', 'crap', 'crazy', 'credit', 'crew', 'criticism', 'crop', 'cross', 'crowd', 'cs', 'csgo', 'cvhmkltï', 'cxpzpgb', 'czfcxsn0jnq', 'da', 'dafuq', 'dance', 'dancing', 'day', 'dayï', 'dealing', 'dear', 'december', 'decent', 'dedicated', 'deserve', 'designs', 'dick', 'did', 'diddleï', 'die', 'difference', 'dinero', 'ding', 'direction', 'disappointed', 'discover', 'dislike', 'dislikes', 'dislikesssssssssssssssssssssssssssssssss', 'divertenti', 'diys', 'dizzy', 'do', 'does', 'doesnt', 'doing', 'dolacz', 'don', 'dont', 'downloading', 'drone', 'drones', 'drop', 'drugs', 'dubstep', 'dumb', 'dunno', 'dï', 'earn', 'earth', 'earthï', 'easily', 'easy', 'easypromosapp', 'ebay', 'edm', 'effects', 'effort', 'ehi', 'elevator', 'emerson_zanolï', 'english', 'enimen', 'enjoy', 'enter', 'entire', 'epic', 'equals', 'ermail', 'etc', 'eugenekalinin', 'eugenekalininï', 'eve', 'even', 'event', 'ever', 'every', 'everyday', 'everyone', 'everything', 'everï', 'ex', 'excuse', 'expectations', 'expensive', 'experiments', 'eyesï', 'fablife', 'face', 'facebook', 'facts', 'fake', 'family', 'fantastic', 'far', 'fb', 'featured', 'feedback', 'feel', 'festival', 'few', 'fighting', 'find', 'fire', 'fireball', 'first', 'fish', 'flipagram', 'flute', 'follow', 'football', 'for', 'foto', 'found', 'four', 'freddy', 'free', 'friend', 'friends', 'from', 'fruity', 'fuck', 'fucked', 'fucken', 'fucking', 'fun', 'funny', 'funnytortspics', 'future', 'game', 'games', 'gamestop', 'gaming', 'ganga', 'gangam', 'gangman', 'gangnam', 'gangnamstyle', 'gatti', 'gay', 'gbphotographygbï', 'gcmforex', 'get', 'gets', 'getting', 'ghost', 'gift', 'girl', 'girls', 'give', 'giveaways', 'giver', 'glasses', 'go', 'gofundme', 'going', 'gonna', 'good', 'goodbye', 'google', 'gook', 'got', 'gotta', 'gotten', 'gotï', 'gp', 'grateful', 'great', 'greetings', 'group', 'grow', 'grwmpsï', 'gt', 'gta5', 'guardalo', 'gun', 'guy', 'guys', 'guysï', 'guyï', 'gvr7xgï', 'gwar', 'hacked', 'hackers', 'hackfbaccountlive', 'had', 'hahahahah', 'half', 'halftime', 'halp', 'happy', 'hard', 'has', 'hasï', 'hate', 'haters', 'have', 'having', 'he', 'head', 'headbutt', 'heck', 'hello', 'help', 'her', 'here', 'hey', 'hi', 'him', 'hip', 'his', 'history', 'hit', 'hits', 'hlï', 'hole', 'holy', 'hop', 'hope', 'hoppa', 'hour', 'how', 'html', 'http', 'https', 'huh', 'humanity', 'hw', 'hwang', 'hyuna', 'ie', 'if', 'ig', 'il', 'ill', 'im', 'improve', 'in', 'including', 'incmedia', 'indiegogo', 'inspired', 'instagram', 'instagraml', 'internet', 'into', 'inviting', 'io', 'iphone', 'is', 'isn', 'isnt', 'isï', 'it', 'ithat', 'itm', 'its', 'itunes', 'itz', 'itï', 'jackal', 'jackson', 'jae', 'james', 'jap', 'jaroadc', 'jb', 'jelly', 'jellyfish', 'job', 'join', 'joint2', 'joke', 'jr', 'juice', 'julie', 'julien', 'juno', 'just', 'justin', 'jyp', 'kamal', 'keep', 'keeps', 'keyword', 'kids', 'kidsmediausa', 'kidz', 'kind', 'kinda', 'king', 'know', 'knows', 'kobyoshi02', 'kodysman', 'koean', 'kollektivet', 'korea', 'korean', 'koreans', 'koreanï', 'kyle', 'l2649', 'ladaðÿ', 'last', 'later', 'laugh', 'launchpad', 'lazy', 'leader', 'league', 'leah', 'learn', 'least', 'leave', 'left', 'lets', 'lexis', 'like', 'liked', 'likes', 'likeï', 'liking', 'ling', 'linkbucks', 'listen', 'listening', 'listing', 'little', 'littlebrotherï', 'live', 'll', 'lol', 'lolï', 'long', 'look', 'looking', 'looks', 'loool', 'loops', 'lot', 'lots', 'love', 'loved', 'loving', 'lt', 'lucas', 'lucks', 'luka1qmrhfï', 'luther', 'lyrics', 'm1555', 'mabey', 'made', 'make', 'making', 'man', 'management', 'many', 'mario', 'marketglory', 'marketï', 'markusmairhoferï', 'martin', 'mathster', 'may', 'me', 'mean', 'meets', 'members', 'memories', 'men', 'mercury', 'meselx', 'meï', 'michael', 'miley', 'milions', 'million', 'millions', 'millionsï', 'millioon', 'millisecond', 'millon', 'min', 'mind', 'mine', 'minecraft', 'minoo', 'minutes', 'miss', 'mix', 'model', 'mom', 'mon', 'money', 'monkey', 'monkeys', 'month', 'months', 'more', 'moroccan', 'most', 'movie', 'mp3s', 'mscalifornia95ï', 'msmarilynmilesï', 'much', 'multiple', 'murdev', 'music', 'must', 'mute', 'my', 'myself', 'name', 'national', 'necks', 'need', 'neon', 'net', 'network', 'never', 'new', 'newest', 'news', 'next', 'nice', 'nightï', 'nike', 'no', 'non', 'norrus', 'not', 'notch', 'notï', 'now', 'nowï', 'number', 'numbers', 'obsessed', 'odowd', 'of', 'offer', 'often', 'old', 'olds', 'oldspice', 'oldï', 'olp_tab_refurbished', 'omg', 'omgï', 'on', 'once', 'oncueapparelï', 'one', 'only', 'oppa', 'or', 'org', 'other', 'our', 'out', 'outï', 'ovbiously', 'over', 'own', 'p3984', 'page', 'pages', 'paid', 'pal', 'pan', 'pantsï', 'part', 'partners', 'party', 'pause', 'pay', 'pazzi', 'pdf', 'pe', 'peace', 'penis', 'people', 'peoples', 'perfect', 'perform', 'permpage', 'person', 'petition', 'petitions', 'phenomena', 'php', 'pictures', 'piece', 'pivot', 'pl', 'place', 'plan', 'platform', 'play', 'please', 'pleaseï', 'plizz', 'pls', 'plus', 'plz', 'po', 'point', 'pop', 'popaegis', 'popular', 'population', 'populatoin', 'portfolio', 'post', 'posting', 'posts', 'postï', 'pplease', 'pray', 'praying', 'prehistoric', 'premium', 'preview', 'pride', 'problem', 'prod', 'producer', 'projects', 'projectï', 'promise', 'promo', 'promote', 'prophetzï', 'psn', 'psy', 'psyâ', 'publishing', 'put', 'pï', 'qid', 'queen', 'quite', 'random', 'rap', 'rapper', 'rave', 'raw', 'rb', 're', 'reach', 'read', 'reading', 'ready', 'real', 'really', 'realy', 'reason', 'recaps', 'receive', 'ref', 'refurbished', 'register', 'registr', 'relevant', 'remember', 'reminds', 'remix', 'remixes', 'remove', 'repass', 'republic', 'reverbnation', 'reviews', 'right', 'ring', 'rised', 'rising', 'roblox', 'rookie', 'sad', 'said', 'saw', 'say', 'saying', 'scientific', 'screw', 'se', 'search', 'second', 'seconds', 'section', 'see', 'seeing', 'seen', 'sell', 'set', 'sevadusï', 'sexy', 'shaking', 'share', 'sharing', 'shirt', 'shirts', 'shit', 'shitï', 'should', 'show', 'showcase', 'sign', 'signup', 'simple', 'singer', 'singers', 'singing', 'single', 'site', 'sites', 'sitting', 'slappin', 'slema13', 'slut', 'sm', 'smart', 'smartie', 'smh', 'so', 'social', 'some', 'somebody', 'song', 'songs', 'songwriter', 'songï', 'soon', 'soonï', 'sound', 'soundcloud', 'spam', 'speaking', 'special', 'spending', 'spoderman', 'spot', 'spraytan', 'spread', 'sr', 'sspagename', 'starlitnightsky', 'started', 'static', 'stay', 'steam', 'stephanie', 'stfu', 'still', 'stop', 'straight', 'strategygame', 'stream', 'strk', 'stronglittlepsy', 'stuck', 'stuff', 'stupid', 'sty', 'style', 'styleâ', 'styleï', 'sub', 'subs', 'subscribe', 'subscribers', 'subscribersï', 'subscribes', 'succesfull', 'such', 'suck', 'sucks', 'suffering', 'suit', 'suk', 'summon', 'sunfrogshirts', 'sunglass', 'super', 'superbowl', 'superstar', 'support', 'sure', 'surveymonkey', 'suscribe', 'swagbucks', 'takes', 'taking', 'talent', 'tank', 'tankionline', 'tareko100', 'task', 'tayara', 'teelalalaï', 'teespring', 'tell', 'teloa6rio8oï', 'test', 'than', 'thank', 'thanks', 'thanksï', 'that', 'the', 'their', 'them', 'themselvesï', 'then', 'theories', 'thepiratebay', 'there', 'theres', 'they', 'thing', 'things', 'think', 'this', 'thisï', 'those', 'thousands', 'thumbs', 'thx', 'tigermeathoodieï', 'time', 'timothy_sykes_collectionï', 'tlouxmusicï', 'to', 'today', 'too', 'took', 'top', 'tops', 'torrent', 'toï', 'translate', 'tried', 'tries', 'trigo', 'trueï', 'truth', 'try', 'trying', 'tsu', 'tså', 'tube', 'tumor', 'turned', 'tutorials', 'tv', 'twitch', 'twitter', 'type', 'types', 'ubuntuone', 'uk', 'understand', 'understands', 'unfortunatly', 'unique', 'untanlted', 'up', 'updated', 'uphill', 'uploading', 'us', 'usa', 'use', 'user', 'users', 'utf8', 'v3veygin', 'v3veyginï', 'vakinha', 'vaquinhae', 'vb', 've', 'very', 'vid', 'video', 'videos', 'videosï', 'vidiosï', 'vids', 'view', 'viewed', 'viewer', 'viewers', 'viewing', 'views', 'viewsï', 'vip', 'viral', 'visit', 'visiting', 'visits', 'visuelgamingznl', 'voteme', 'voyage', 'vtarggvgtwq', 'vï', 'wake', 'wallet', 'wankï', 'want', 'wanted', 'warcraft', 'was', 'waste', 'wat', 'watch', 'watched', 'watching', 'way', 'we', 'web', 'website', 'weird', 'welcome', 'well', 'wellcome', 'went', 'were', 'what', 'whatever', 'whats', 'when', 'where', 'while', 'whipe', 'white', 'who', 'whole', 'why', 'wiews', 'will', 'win', 'winning', 'winï', 'with', 'within', 'withing', 'won', 'wonderful', 'woobox', 'words', 'world', 'worldwide_lifeï', 'worldï', 'worth', 'worthless', 'would', 'wouldnt', 'wow', 'wowï', 'wp', 'wrap', 'wrenn', 'wrongï', 'www', 'www10', 'xd', 'xdï', 'xxbb5tczhm39hvzdï', 'xxï', 'yaaaaaa', 'yeah', 'year', 'years', 'yeat', 'yellow', 'yet', 'yg', 'ygunited', 'you', 'young', 'your', 'youtu', 'youtube', 'youtube_corporation_fox_broadcasting_company_anular_os_strikes_no_canal_nostalgia', 'youtuber', 'youtubeï', 'yr', 'yt', 'zeroï', 'zombie', 'zxlightsoutxzï', 'ªðÿ', '²ðÿ', '³ðÿ', 'µðÿ', 'ìš', 'íƒ', 'ï¼', 'ï¼³', 'ðÿ', 'ûžû', 'ÿðÿ', 'œgangnam', 'œâ', 'œðÿ', 'œû', 'šâ', 'šðÿ', 'žðÿ', 'ƒðÿ', 'ˆðÿ']\n"
     ]
    }
   ],
   "source": [
    "# TFIDF for Psy train & test \n",
    "contentCorpusTrainPsy = xTrainPsy['CONTENT']\n",
    "vectorizerPsy = TfidfVectorizer()\n",
    "xTrainPsyTFIDF = vectorizerPsy.fit_transform(contentCorpusTrainPsy)\n",
    "print(vectorizerPsy.get_feature_names())"
   ]
  },
  {
   "cell_type": "code",
   "execution_count": 39,
   "metadata": {},
   "outputs": [
    {
     "name": "stdout",
     "output_type": "stream",
     "text": [
      "['000', '02', '034', '05', '08', '10', '100', '100000415527985', '10200253113705769', '11', '1111ï', '112720997191206369631', '12', '123ï', '124', '124923004', '126', '127', '13017194ï', '131338190916', '134470083389909', '1415297812', '1495323920744243', '171183229277', '19924', '1firo', '2009', '2012', '2012bitchesï', '2013', '2014', '201470069872822', '2015', '2017', '210', '23', '24', '24398ï', '279', '29', '2b', '2billion', '2x10', '3000', '313327', '315', '33gxrf', '33ï', '39', '3ï', '40beuutvu2zkxk4utgpz8kï', '4604617ï', '492', '4shared', '50', '521', '5277478', '5287', '5800', '5million', '5s', '616375350ï', '636', '6381501', '694', '700', '750', '783', '79', '821', '884', '898', '8bit', '9107ï', '9277547', '950', '969', '9bzkp7q19f0ï', '__killuminati94ï', '_chris_cz', '_trksid', 'aaaaaaa', 'able', 'about', 'above', 'absolutely', 'access', 'accessories', 'account', 'accounts', 'acn2gï', 'active', 'actor', 'actually', 'add', 'adding', 'admit', 'advice', 'affiliateid', 'after', 'again', 'ago', 'agoï', 'ahhh', 'alive', 'all', 'allot', 'allow', 'almond', 'also', 'alï', 'am', 'amazing', 'amazon', 'america', 'amp', 'an', 'ana', 'and', 'andrijamatf', 'android', 'angel', 'angry', 'animations', 'annoyingï', 'another', 'any', 'anybody', 'anymore', 'anyone', 'anyway', 'anywayï', 'apocalypse', 'apparel', 'apparently', 'appreciate', 'apps', 'are', 'around', 'art', 'as', 'aseris', 'asia', 'asian', 'asiaï', 'aspx', 'ass', 'at', 'auburn', 'audiojungle', 'auditioning', 'avaaz', 'avoid', 'aw', 'awesome', 'awesomeness', 'b00ecvf93g', 'baby', 'babyï', 'back', 'backï', 'bad', 'band', 'bass', 'bd3721315ï', 'be', 'beautiful', 'because', 'been', 'beenï', 'before', 'behind', 'behold', 'being', 'believe', 'best', 'bf4', 'bieber', 'big', 'bighit', 'bilion', 'billion', 'billions', 'billionï', 'billon', 'binbox', 'bitch', 'blanc', 'bomb', 'book', 'bother', 'bots', 'bowl', 'br', 'brain', 'brew', 'bringing', 'brother', 'brotherhoodï', 'brt0u5', 'bs', 'bubblews', 'but', 'buy', 'by', 'called', 'came', 'camera', 'can', 'card', 'cards', 'care', 'cash', 'cats', 'cd92db3f4', 'censor', 'chacking', 'chainise', 'challenges', 'chance', 'chanelï', 'change', 'chanicka', 'channel', 'channels', 'channelï', 'check', 'checked', 'checking', 'chick', 'child', 'china', 'chinese', 'ching', 'chiptunes', 'christmas', 'chubbz', 'chuck', 'cirus', 'citizen', 'cjfoftxeba', 'cleaning', 'click', 'clicked', 'clip', 'clothing', 'co', 'code', 'codes', 'codytolleson', 'com', 'come', 'comentars', 'comes', 'coming', 'comment', 'commenting', 'comments', 'commentï', 'commercial', 'company', 'complaining', 'completely', 'concerts', 'condition', 'connected', 'constructive', 'content', 'cool', 'could', 'count', 'countries', 'cover', 'covers', 'coversï', 'crap', 'crazy', 'credit', 'crew', 'criticism', 'crop', 'cross', 'crowd', 'cs', 'csgo', 'cvhmkltï', 'cxpzpgb', 'czfcxsn0jnq', 'da', 'dafuq', 'dance', 'dancing', 'day', 'dayï', 'dealing', 'dear', 'december', 'decent', 'dedicated', 'deserve', 'designs', 'dick', 'did', 'diddleï', 'die', 'difference', 'dinero', 'ding', 'direction', 'disappointed', 'discover', 'dislike', 'dislikes', 'dislikesssssssssssssssssssssssssssssssss', 'divertenti', 'diys', 'dizzy', 'do', 'does', 'doesnt', 'doing', 'dolacz', 'don', 'dont', 'downloading', 'drone', 'drones', 'drop', 'drugs', 'dubstep', 'dumb', 'dunno', 'dï', 'earn', 'earth', 'earthï', 'easily', 'easy', 'easypromosapp', 'ebay', 'edm', 'effects', 'effort', 'ehi', 'elevator', 'emerson_zanolï', 'english', 'enimen', 'enjoy', 'enter', 'entire', 'epic', 'equals', 'ermail', 'etc', 'eugenekalinin', 'eugenekalininï', 'eve', 'even', 'event', 'ever', 'every', 'everyday', 'everyone', 'everything', 'everï', 'ex', 'excuse', 'expectations', 'expensive', 'experiments', 'eyesï', 'fablife', 'face', 'facebook', 'facts', 'fake', 'family', 'fantastic', 'far', 'fb', 'featured', 'feedback', 'feel', 'festival', 'few', 'fighting', 'find', 'fire', 'fireball', 'first', 'fish', 'flipagram', 'flute', 'follow', 'football', 'for', 'foto', 'found', 'four', 'freddy', 'free', 'friend', 'friends', 'from', 'fruity', 'fuck', 'fucked', 'fucken', 'fucking', 'fun', 'funny', 'funnytortspics', 'future', 'game', 'games', 'gamestop', 'gaming', 'ganga', 'gangam', 'gangman', 'gangnam', 'gangnamstyle', 'gatti', 'gay', 'gbphotographygbï', 'gcmforex', 'get', 'gets', 'getting', 'ghost', 'gift', 'girl', 'girls', 'give', 'giveaways', 'giver', 'glasses', 'go', 'gofundme', 'going', 'gonna', 'good', 'goodbye', 'google', 'gook', 'got', 'gotta', 'gotten', 'gotï', 'gp', 'grateful', 'great', 'greetings', 'group', 'grow', 'grwmpsï', 'gt', 'gta5', 'guardalo', 'gun', 'guy', 'guys', 'guysï', 'guyï', 'gvr7xgï', 'gwar', 'hacked', 'hackers', 'hackfbaccountlive', 'had', 'hahahahah', 'half', 'halftime', 'halp', 'happy', 'hard', 'has', 'hasï', 'hate', 'haters', 'have', 'having', 'he', 'head', 'headbutt', 'heck', 'hello', 'help', 'her', 'here', 'hey', 'hi', 'him', 'hip', 'his', 'history', 'hit', 'hits', 'hlï', 'hole', 'holy', 'hop', 'hope', 'hoppa', 'hour', 'how', 'html', 'http', 'https', 'huh', 'humanity', 'hw', 'hwang', 'hyuna', 'ie', 'if', 'ig', 'il', 'ill', 'im', 'improve', 'in', 'including', 'incmedia', 'indiegogo', 'inspired', 'instagram', 'instagraml', 'internet', 'into', 'inviting', 'io', 'iphone', 'is', 'isn', 'isnt', 'isï', 'it', 'ithat', 'itm', 'its', 'itunes', 'itz', 'itï', 'jackal', 'jackson', 'jae', 'james', 'jap', 'jaroadc', 'jb', 'jelly', 'jellyfish', 'job', 'join', 'joint2', 'joke', 'jr', 'juice', 'julie', 'julien', 'juno', 'just', 'justin', 'jyp', 'kamal', 'keep', 'keeps', 'keyword', 'kids', 'kidsmediausa', 'kidz', 'kind', 'kinda', 'king', 'know', 'knows', 'kobyoshi02', 'kodysman', 'koean', 'kollektivet', 'korea', 'korean', 'koreans', 'koreanï', 'kyle', 'l2649', 'ladaðÿ', 'last', 'later', 'laugh', 'launchpad', 'lazy', 'leader', 'league', 'leah', 'learn', 'least', 'leave', 'left', 'lets', 'lexis', 'like', 'liked', 'likes', 'likeï', 'liking', 'ling', 'linkbucks', 'listen', 'listening', 'listing', 'little', 'littlebrotherï', 'live', 'll', 'lol', 'lolï', 'long', 'look', 'looking', 'looks', 'loool', 'loops', 'lot', 'lots', 'love', 'loved', 'loving', 'lt', 'lucas', 'lucks', 'luka1qmrhfï', 'luther', 'lyrics', 'm1555', 'mabey', 'made', 'make', 'making', 'man', 'management', 'many', 'mario', 'marketglory', 'marketï', 'markusmairhoferï', 'martin', 'mathster', 'may', 'me', 'mean', 'meets', 'members', 'memories', 'men', 'mercury', 'meselx', 'meï', 'michael', 'miley', 'milions', 'million', 'millions', 'millionsï', 'millioon', 'millisecond', 'millon', 'min', 'mind', 'mine', 'minecraft', 'minoo', 'minutes', 'miss', 'mix', 'model', 'mom', 'mon', 'money', 'monkey', 'monkeys', 'month', 'months', 'more', 'moroccan', 'most', 'movie', 'mp3s', 'mscalifornia95ï', 'msmarilynmilesï', 'much', 'multiple', 'murdev', 'music', 'must', 'mute', 'my', 'myself', 'name', 'national', 'necks', 'need', 'neon', 'net', 'network', 'never', 'new', 'newest', 'news', 'next', 'nice', 'nightï', 'nike', 'no', 'non', 'norrus', 'not', 'notch', 'notï', 'now', 'nowï', 'number', 'numbers', 'obsessed', 'odowd', 'of', 'offer', 'often', 'old', 'olds', 'oldspice', 'oldï', 'olp_tab_refurbished', 'omg', 'omgï', 'on', 'once', 'oncueapparelï', 'one', 'only', 'oppa', 'or', 'org', 'other', 'our', 'out', 'outï', 'ovbiously', 'over', 'own', 'p3984', 'page', 'pages', 'paid', 'pal', 'pan', 'pantsï', 'part', 'partners', 'party', 'pause', 'pay', 'pazzi', 'pdf', 'pe', 'peace', 'penis', 'people', 'peoples', 'perfect', 'perform', 'permpage', 'person', 'petition', 'petitions', 'phenomena', 'php', 'pictures', 'piece', 'pivot', 'pl', 'place', 'plan', 'platform', 'play', 'please', 'pleaseï', 'plizz', 'pls', 'plus', 'plz', 'po', 'point', 'pop', 'popaegis', 'popular', 'population', 'populatoin', 'portfolio', 'post', 'posting', 'posts', 'postï', 'pplease', 'pray', 'praying', 'prehistoric', 'premium', 'preview', 'pride', 'problem', 'prod', 'producer', 'projects', 'projectï', 'promise', 'promo', 'promote', 'prophetzï', 'psn', 'psy', 'psyâ', 'publishing', 'put', 'pï', 'qid', 'queen', 'quite', 'random', 'rap', 'rapper', 'rave', 'raw', 'rb', 're', 'reach', 'read', 'reading', 'ready', 'real', 'really', 'realy', 'reason', 'recaps', 'receive', 'ref', 'refurbished', 'register', 'registr', 'relevant', 'remember', 'reminds', 'remix', 'remixes', 'remove', 'repass', 'republic', 'reverbnation', 'reviews', 'right', 'ring', 'rised', 'rising', 'roblox', 'rookie', 'sad', 'said', 'saw', 'say', 'saying', 'scientific', 'screw', 'se', 'search', 'second', 'seconds', 'section', 'see', 'seeing', 'seen', 'sell', 'set', 'sevadusï', 'sexy', 'shaking', 'share', 'sharing', 'shirt', 'shirts', 'shit', 'shitï', 'should', 'show', 'showcase', 'sign', 'signup', 'simple', 'singer', 'singers', 'singing', 'single', 'site', 'sites', 'sitting', 'slappin', 'slema13', 'slut', 'sm', 'smart', 'smartie', 'smh', 'so', 'social', 'some', 'somebody', 'song', 'songs', 'songwriter', 'songï', 'soon', 'soonï', 'sound', 'soundcloud', 'spam', 'speaking', 'special', 'spending', 'spoderman', 'spot', 'spraytan', 'spread', 'sr', 'sspagename', 'starlitnightsky', 'started', 'static', 'stay', 'steam', 'stephanie', 'stfu', 'still', 'stop', 'straight', 'strategygame', 'stream', 'strk', 'stronglittlepsy', 'stuck', 'stuff', 'stupid', 'sty', 'style', 'styleâ', 'styleï', 'sub', 'subs', 'subscribe', 'subscribers', 'subscribersï', 'subscribes', 'succesfull', 'such', 'suck', 'sucks', 'suffering', 'suit', 'suk', 'summon', 'sunfrogshirts', 'sunglass', 'super', 'superbowl', 'superstar', 'support', 'sure', 'surveymonkey', 'suscribe', 'swagbucks', 'takes', 'taking', 'talent', 'tank', 'tankionline', 'tareko100', 'task', 'tayara', 'teelalalaï', 'teespring', 'tell', 'teloa6rio8oï', 'test', 'than', 'thank', 'thanks', 'thanksï', 'that', 'the', 'their', 'them', 'themselvesï', 'then', 'theories', 'thepiratebay', 'there', 'theres', 'they', 'thing', 'things', 'think', 'this', 'thisï', 'those', 'thousands', 'thumbs', 'thx', 'tigermeathoodieï', 'time', 'timothy_sykes_collectionï', 'tlouxmusicï', 'to', 'today', 'too', 'took', 'top', 'tops', 'torrent', 'toï', 'translate', 'tried', 'tries', 'trigo', 'trueï', 'truth', 'try', 'trying', 'tsu', 'tså', 'tube', 'tumor', 'turned', 'tutorials', 'tv', 'twitch', 'twitter', 'type', 'types', 'ubuntuone', 'uk', 'understand', 'understands', 'unfortunatly', 'unique', 'untanlted', 'up', 'updated', 'uphill', 'uploading', 'us', 'usa', 'use', 'user', 'users', 'utf8', 'v3veygin', 'v3veyginï', 'vakinha', 'vaquinhae', 'vb', 've', 'very', 'vid', 'video', 'videos', 'videosï', 'vidiosï', 'vids', 'view', 'viewed', 'viewer', 'viewers', 'viewing', 'views', 'viewsï', 'vip', 'viral', 'visit', 'visiting', 'visits', 'visuelgamingznl', 'voteme', 'voyage', 'vtarggvgtwq', 'vï', 'wake', 'wallet', 'wankï', 'want', 'wanted', 'warcraft', 'was', 'waste', 'wat', 'watch', 'watched', 'watching', 'way', 'we', 'web', 'website', 'weird', 'welcome', 'well', 'wellcome', 'went', 'were', 'what', 'whatever', 'whats', 'when', 'where', 'while', 'whipe', 'white', 'who', 'whole', 'why', 'wiews', 'will', 'win', 'winning', 'winï', 'with', 'within', 'withing', 'won', 'wonderful', 'woobox', 'words', 'world', 'worldwide_lifeï', 'worldï', 'worth', 'worthless', 'would', 'wouldnt', 'wow', 'wowï', 'wp', 'wrap', 'wrenn', 'wrongï', 'www', 'www10', 'xd', 'xdï', 'xxbb5tczhm39hvzdï', 'xxï', 'yaaaaaa', 'yeah', 'year', 'years', 'yeat', 'yellow', 'yet', 'yg', 'ygunited', 'you', 'young', 'your', 'youtu', 'youtube', 'youtube_corporation_fox_broadcasting_company_anular_os_strikes_no_canal_nostalgia', 'youtuber', 'youtubeï', 'yr', 'yt', 'zeroï', 'zombie', 'zxlightsoutxzï', 'ªðÿ', '²ðÿ', '³ðÿ', 'µðÿ', 'ìš', 'íƒ', 'ï¼', 'ï¼³', 'ðÿ', 'ûžû', 'ÿðÿ', 'œgangnam', 'œâ', 'œðÿ', 'œû', 'šâ', 'šðÿ', 'žðÿ', 'ƒðÿ', 'ˆðÿ']\n"
     ]
    }
   ],
   "source": [
    "contentCorpusTestPsy = xTestPsy['CONTENT']\n",
    "xTestPsyTFIDF = vectorizerPsy.transform(contentCorpusTestPsy)\n",
    "print(vectorizerPsy.get_feature_names())"
   ]
  },
  {
   "cell_type": "code",
   "execution_count": 40,
   "metadata": {},
   "outputs": [
    {
     "name": "stdout",
     "output_type": "stream",
     "text": [
      "Best Lambda:-  0.1\n"
     ]
    }
   ],
   "source": [
    "# Best Lambda for L2-penalized logistic regression of Psy\n",
    "logisticPsy = linear_model.LogisticRegression()\n",
    "penaltyPsy1 = ['l2']\n",
    "cPsy1 = [1/pow(10, i) for i in range(-5, 6)]\n",
    "\n",
    "parametersPsy1 = {\"C\": cPsy1, \"penalty\": penaltyPsy1, \"solver\": ['liblinear']}\n",
    "gridcvPsy = GridSearchCV(logisticPsy, parametersPsy1, cv=5, n_jobs=-1)\n",
    "best_modelPsyL2 = gridcvPsy.fit(xTrainPsyTFIDF, yTrainPsy)\n",
    "print('Best Lambda:- ', 1/best_modelPsyL2.best_estimator_.get_params()['C'])"
   ]
  },
  {
   "cell_type": "code",
   "execution_count": 41,
   "metadata": {},
   "outputs": [
    {
     "name": "stdout",
     "output_type": "stream",
     "text": [
      "Training Values for L2 Psy:\n",
      "Confusion Matrix:\n",
      "[[140   0]\n",
      " [  0 140]]\n",
      "ROC AUC: 1.0\n",
      "Precision: 1.0\n",
      "Accuracy Score: 1.0\n",
      "Recall: 1.0\n",
      "F1 Score: 1.0\n"
     ]
    }
   ],
   "source": [
    "# L2-penalized logistic regression for Psy train\n",
    "y_trainPsyL2 = best_modelPsyL2.predict(xTrainPsyTFIDF)\n",
    "\n",
    "print(\"Training Values for L2 Psy:\")\n",
    "print(\"Confusion Matrix:\")\n",
    "print(confusion_matrix(yTrainPsy, y_trainPsyL2))\n",
    "print(\"ROC AUC:\", metrics.roc_auc_score(yTrainPsy, y_trainPsyL2))\n",
    "print(\"Precision:\", metrics.precision_score(yTrainPsy, y_trainPsyL2))\n",
    "print(\"Accuracy Score:\", metrics.accuracy_score(yTrainPsy, y_trainPsyL2))\n",
    "print(\"Recall:\", metrics.recall_score(yTrainPsy, y_trainPsyL2))\n",
    "print(\"F1 Score:\", metrics.f1_score(yTrainPsy, y_trainPsyL2))"
   ]
  },
  {
   "cell_type": "code",
   "execution_count": 42,
   "metadata": {},
   "outputs": [],
   "source": [
    "# L2-penalized logistic regression for Psy test\n",
    "test_modelPsy = gridcvPsy.fit(xTestPsyTFIDF, yTestPsy)\n",
    "y_testPsyL2 = test_modelPsy.predict(xTestPsyTFIDF)\n",
    "\n",
    "PSYL2rocauc = metrics.roc_auc_score(yTestPsy, y_testPsyL2)*100\n",
    "PSYL2precision = metrics.precision_score(yTestPsy, y_testPsyL2)*100\n",
    "PSYL2accuracy = metrics.accuracy_score(yTestPsy, y_testPsyL2)*100\n",
    "PSYL2recall = metrics.recall_score(yTestPsy, y_testPsyL2)*100\n",
    "PSYL2F1 = metrics.f1_score(yTestPsy, y_testPsyL2)*100"
   ]
  },
  {
   "cell_type": "code",
   "execution_count": 43,
   "metadata": {},
   "outputs": [
    {
     "name": "stdout",
     "output_type": "stream",
     "text": [
      "Best Lambda:-  0.0001\n"
     ]
    }
   ],
   "source": [
    "# L1-penalized logistic regression for Psy\n",
    "logistiquePsy = linear_model.LogisticRegression()\n",
    "penaltyPsy2 = ['l1']\n",
    "cPsy2 = [1/pow(10, i) for i in range(-5, 6)]\n",
    "\n",
    "parametersPsy2 = {\"C\": cPsy2, \"penalty\": penaltyPsy2, \"solver\": ['liblinear']}\n",
    "gridcv2Psy = GridSearchCV(logistiquePsy, parametersPsy2, cv=5, n_jobs=-1)\n",
    "best_modelPsyL1 = gridcv2Psy.fit(xTrainPsyTFIDF, yTrainPsy)\n",
    "print('Best Lambda:- ', 1/best_modelPsyL1.best_estimator_.get_params()['C'])"
   ]
  },
  {
   "cell_type": "code",
   "execution_count": 44,
   "metadata": {},
   "outputs": [
    {
     "name": "stdout",
     "output_type": "stream",
     "text": [
      "Training Values for L1 Psy:\n",
      "Confusion Matrix:\n",
      "[[140   0]\n",
      " [  0 140]]\n",
      "ROC AUC: 1.0\n",
      "Precision: 1.0\n",
      "Accuracy Score: 1.0\n",
      "Recall: 1.0\n",
      "F1 Score: 1.0\n"
     ]
    }
   ],
   "source": [
    "# L1-penalized logistic regression for Psy train\n",
    "y_trainPsyL1 = best_modelPsyL1.predict(xTrainPsyTFIDF)\n",
    "\n",
    "print(\"Training Values for L1 Psy:\")\n",
    "print(\"Confusion Matrix:\")\n",
    "print(confusion_matrix(yTrainPsy, y_trainPsyL1))\n",
    "print(\"ROC AUC:\", metrics.roc_auc_score(yTrainPsy, y_trainPsyL1))\n",
    "print(\"Precision:\", metrics.precision_score(yTrainPsy, y_trainPsyL1))\n",
    "print(\"Accuracy Score:\", metrics.accuracy_score(yTrainPsy, y_trainPsyL1))\n",
    "print(\"Recall:\", metrics.recall_score(yTrainPsy, y_trainPsyL1))\n",
    "print(\"F1 Score:\", metrics.f1_score(yTrainPsy, y_trainPsyL1))"
   ]
  },
  {
   "cell_type": "code",
   "execution_count": 45,
   "metadata": {},
   "outputs": [],
   "source": [
    "# L1-penalized logistic regression for Psy test\n",
    "test_modelPsy = gridcv2Psy.fit(xTestPsyTFIDF, yTestPsy)\n",
    "y_testPsyL1 = test_modelPsy.predict(xTestPsyTFIDF)\n",
    "\n",
    "PSYL1rocauc = metrics.roc_auc_score(yTestPsy, y_testPsyL1)*100\n",
    "PSYL1precision = metrics.precision_score(yTestPsy, y_testPsyL1)*100\n",
    "PSYL1accuracy = metrics.accuracy_score(yTestPsy, y_testPsyL1)*100\n",
    "PSYL1recall = metrics.recall_score(yTestPsy, y_testPsyL1)*100\n",
    "PSYL1F1 = metrics.f1_score(yTestPsy, y_testPsyL1)*100"
   ]
  },
  {
   "cell_type": "code",
   "execution_count": 46,
   "metadata": {},
   "outputs": [
    {
     "name": "stdout",
     "output_type": "stream",
     "text": [
      "Training Values for Gaussian NB Psy:\n",
      "Confusion Matrix:\n",
      "[[140   0]\n",
      " [  0 140]]\n",
      "ROC AUC: 1.0\n",
      "Precision: 1.0\n",
      "Accuracy Score: 1.0\n",
      "Recall: 1.0\n",
      "F1 Score: 1.0\n"
     ]
    }
   ],
   "source": [
    "# Gaussian NB for Psy train\n",
    "Gaussian = GaussianNB()\n",
    "x_trainArrayPsy = xTrainPsyTFIDF.toarray()\n",
    "GaussianTrainPsy = Gaussian.fit(x_trainArrayPsy, yTrainPsy)\n",
    "y_trainPredsPsy = GaussianTrainPsy.predict(x_trainArrayPsy)\n",
    "\n",
    "print(\"Training Values for Gaussian NB Psy:\")\n",
    "print(\"Confusion Matrix:\")\n",
    "print(confusion_matrix(yTrainPsy, y_trainPredsPsy))\n",
    "print(\"ROC AUC:\", metrics.roc_auc_score(yTrainPsy, y_trainPredsPsy))\n",
    "print(\"Precision:\", metrics.precision_score(yTrainPsy, y_trainPredsPsy))\n",
    "print(\"Accuracy Score:\", metrics.accuracy_score(yTrainPsy, y_trainPredsPsy))\n",
    "print(\"Recall:\", metrics.recall_score(yTrainPsy, y_trainPredsPsy))\n",
    "print(\"F1 Score:\", metrics.f1_score(yTrainPsy, y_trainPredsPsy))"
   ]
  },
  {
   "cell_type": "code",
   "execution_count": 47,
   "metadata": {},
   "outputs": [],
   "source": [
    "# Gaussian NB for Psy test\n",
    "x_testArrayPsy = xTestPsyTFIDF.toarray()\n",
    "GaussianTestPsy = Gaussian.fit(x_testArrayPsy, yTestPsy)\n",
    "y_testPredsPsy = GaussianTestPsy.predict(x_testArrayPsy)\n",
    "\n",
    "PSYGaussianrocauc = metrics.roc_auc_score(yTestPsy, y_testPredsPsy)*100\n",
    "PSYGaussianprecision = metrics.precision_score(yTestPsy, y_testPredsPsy)*100\n",
    "PSYGaussianaccuracy = metrics.accuracy_score(yTestPsy, y_testPredsPsy)*100\n",
    "PSYGaussianrecall = metrics.recall_score(yTestPsy, y_testPredsPsy)*100\n",
    "PSYGaussianF1 = metrics.f1_score(yTestPsy, y_testPredsPsy)*100"
   ]
  },
  {
   "cell_type": "code",
   "execution_count": 48,
   "metadata": {},
   "outputs": [
    {
     "name": "stdout",
     "output_type": "stream",
     "text": [
      "Training Values for Multinomial NB Psy:\n",
      "Confusion Matrix:\n",
      "[[139   1]\n",
      " [  0 140]]\n",
      "ROC AUC: 0.9964285714285714\n",
      "Precision: 0.9929078014184397\n",
      "Accuracy Score: 0.9964285714285714\n",
      "Recall: 1.0\n",
      "F1 Score: 0.9964412811387899\n"
     ]
    }
   ],
   "source": [
    "# Multinomial NB for Psy train\n",
    "multi = MultinomialNB()\n",
    "multiTrainPsy = multi.fit(x_trainArrayPsy, yTrainPsy)\n",
    "y_trainPredssPsy = multiTrainPsy.predict(x_trainArrayPsy)\n",
    "\n",
    "print(\"Training Values for Multinomial NB Psy:\")\n",
    "print(\"Confusion Matrix:\")\n",
    "print(confusion_matrix(yTrainPsy, y_trainPredssPsy))\n",
    "print(\"ROC AUC:\", metrics.roc_auc_score(yTrainPsy, y_trainPredssPsy))\n",
    "print(\"Precision:\", metrics.precision_score(yTrainPsy, y_trainPredssPsy))\n",
    "print(\"Accuracy Score:\", metrics.accuracy_score(yTrainPsy, y_trainPredssPsy))\n",
    "print(\"Recall:\", metrics.recall_score(yTrainPsy, y_trainPredssPsy))\n",
    "print(\"F1 Score:\", metrics.f1_score(yTrainPsy, y_trainPredssPsy))"
   ]
  },
  {
   "cell_type": "code",
   "execution_count": 49,
   "metadata": {},
   "outputs": [],
   "source": [
    "# Multinomial NB for Psy test\n",
    "multiTestPsy = multi.fit(x_testArrayPsy, yTestPsy)\n",
    "y_testPredssPsy = multiTestPsy.predict(x_testArrayPsy)\n",
    "\n",
    "PSYMultirocauc = metrics.roc_auc_score(yTestPsy, y_testPredssPsy)*100\n",
    "PSYMultiprecision = metrics.precision_score(yTestPsy, y_testPredssPsy)*100\n",
    "PSYMultiaccuracy = metrics.accuracy_score(yTestPsy, y_testPredssPsy)*100\n",
    "PSYMultirecall = metrics.recall_score(yTestPsy, y_testPredssPsy)*100\n",
    "PSYMultiF1 = metrics.f1_score(yTestPsy, y_testPredssPsy)*100"
   ]
  },
  {
   "cell_type": "code",
   "execution_count": 50,
   "metadata": {},
   "outputs": [
    {
     "name": "stdout",
     "output_type": "stream",
     "text": [
      "Psy:\n"
     ]
    },
    {
     "data": {
      "text/html": [
       "<div>\n",
       "<style scoped>\n",
       "    .dataframe tbody tr th:only-of-type {\n",
       "        vertical-align: middle;\n",
       "    }\n",
       "\n",
       "    .dataframe tbody tr th {\n",
       "        vertical-align: top;\n",
       "    }\n",
       "\n",
       "    .dataframe thead th {\n",
       "        text-align: right;\n",
       "    }\n",
       "</style>\n",
       "<table border=\"1\" class=\"dataframe\">\n",
       "  <thead>\n",
       "    <tr style=\"text-align: right;\">\n",
       "      <th></th>\n",
       "      <th>Instance</th>\n",
       "      <th>Accuracy (%)</th>\n",
       "      <th>Precision (%)</th>\n",
       "      <th>Recall (%)</th>\n",
       "      <th>F1 (%)</th>\n",
       "      <th>AUC (%)</th>\n",
       "    </tr>\n",
       "  </thead>\n",
       "  <tbody>\n",
       "    <tr>\n",
       "      <td>0</td>\n",
       "      <td>NB-Gaussian</td>\n",
       "      <td>100.0</td>\n",
       "      <td>100.0</td>\n",
       "      <td>100.0</td>\n",
       "      <td>100.0</td>\n",
       "      <td>100.0</td>\n",
       "    </tr>\n",
       "    <tr>\n",
       "      <td>1</td>\n",
       "      <td>NB-Multinomial</td>\n",
       "      <td>100.0</td>\n",
       "      <td>100.0</td>\n",
       "      <td>100.0</td>\n",
       "      <td>100.0</td>\n",
       "      <td>100.0</td>\n",
       "    </tr>\n",
       "    <tr>\n",
       "      <td>2</td>\n",
       "      <td>L2</td>\n",
       "      <td>100.0</td>\n",
       "      <td>100.0</td>\n",
       "      <td>100.0</td>\n",
       "      <td>100.0</td>\n",
       "      <td>100.0</td>\n",
       "    </tr>\n",
       "    <tr>\n",
       "      <td>3</td>\n",
       "      <td>L1</td>\n",
       "      <td>100.0</td>\n",
       "      <td>100.0</td>\n",
       "      <td>100.0</td>\n",
       "      <td>100.0</td>\n",
       "      <td>100.0</td>\n",
       "    </tr>\n",
       "  </tbody>\n",
       "</table>\n",
       "</div>"
      ],
      "text/plain": [
       "         Instance  Accuracy (%)  Precision (%)  Recall (%)  F1 (%)  AUC (%)\n",
       "0     NB-Gaussian         100.0          100.0       100.0   100.0    100.0\n",
       "1  NB-Multinomial         100.0          100.0       100.0   100.0    100.0\n",
       "2              L2         100.0          100.0       100.0   100.0    100.0\n",
       "3              L1         100.0          100.0       100.0   100.0    100.0"
      ]
     },
     "execution_count": 50,
     "metadata": {},
     "output_type": "execute_result"
    }
   ],
   "source": [
    "dataPsy = {'Instance':['NB-Gaussian', 'NB-Multinomial', 'L2', 'L1'],\n",
    "        'Accuracy (%)':[PSYGaussianaccuracy, PSYMultiaccuracy, PSYL2accuracy, PSYL1accuracy], \n",
    "        'Precision (%)':[PSYGaussianprecision, PSYMultiprecision, PSYL2precision, PSYL1precision], \n",
    "           'Recall (%)':[PSYGaussianrecall, PSYMultirecall, PSYL2recall, PSYL1recall],\n",
    "           'F1 (%)':[PSYGaussianF1, PSYMultiF1, PSYL2F1, PSYL1F1], \n",
    "           'AUC (%)': [PSYGaussianrocauc, PSYMultirocauc, PSYL2rocauc, PSYL1rocauc]}\n",
    "  \n",
    "dfPsy = pd.DataFrame(dataPsy)\n",
    "print('Psy:')\n",
    "dfPsy"
   ]
  },
  {
   "cell_type": "markdown",
   "metadata": {},
   "source": [
    "Creation of Table for Katy Perry "
   ]
  },
  {
   "cell_type": "code",
   "execution_count": 51,
   "metadata": {},
   "outputs": [
    {
     "data": {
      "text/html": [
       "<div>\n",
       "<style scoped>\n",
       "    .dataframe tbody tr th:only-of-type {\n",
       "        vertical-align: middle;\n",
       "    }\n",
       "\n",
       "    .dataframe tbody tr th {\n",
       "        vertical-align: top;\n",
       "    }\n",
       "\n",
       "    .dataframe thead th {\n",
       "        text-align: right;\n",
       "    }\n",
       "</style>\n",
       "<table border=\"1\" class=\"dataframe\">\n",
       "  <thead>\n",
       "    <tr style=\"text-align: right;\">\n",
       "      <th></th>\n",
       "      <th>COMMENT_ID</th>\n",
       "      <th>AUTHOR</th>\n",
       "      <th>DATE</th>\n",
       "      <th>CONTENT</th>\n",
       "      <th>CLASS</th>\n",
       "    </tr>\n",
       "  </thead>\n",
       "  <tbody>\n",
       "    <tr>\n",
       "      <td>0</td>\n",
       "      <td>z12pgdhovmrktzm3i23es5d5junftft3f</td>\n",
       "      <td>lekanaVEVO1</td>\n",
       "      <td>2014-07-22T15:27:50</td>\n",
       "      <td>i love this so much. AND also I Generate Free ...</td>\n",
       "      <td>1</td>\n",
       "    </tr>\n",
       "    <tr>\n",
       "      <td>1</td>\n",
       "      <td>z13yx345uxepetggz04ci5rjcxeohzlrtf4</td>\n",
       "      <td>Pyunghee</td>\n",
       "      <td>2014-07-27T01:57:16</td>\n",
       "      <td>http://www.billboard.com/articles/columns/pop-...</td>\n",
       "      <td>1</td>\n",
       "    </tr>\n",
       "    <tr>\n",
       "      <td>2</td>\n",
       "      <td>z12lsjvi3wa5x1vwh04cibeaqnzrevxajw00k</td>\n",
       "      <td>Erica Ross</td>\n",
       "      <td>2014-07-27T02:51:43</td>\n",
       "      <td>Hey guys! Please join me in my fight to help a...</td>\n",
       "      <td>1</td>\n",
       "    </tr>\n",
       "    <tr>\n",
       "      <td>3</td>\n",
       "      <td>z13jcjuovxbwfr0ge04cev2ipsjdfdurwck</td>\n",
       "      <td>Aviel Haimov</td>\n",
       "      <td>2014-08-01T12:27:48</td>\n",
       "      <td>http://psnboss.com/?ref=2tGgp3pV6L this is the...</td>\n",
       "      <td>1</td>\n",
       "    </tr>\n",
       "    <tr>\n",
       "      <td>4</td>\n",
       "      <td>z13qybua2yfydzxzj04cgfpqdt2syfx53ms0k</td>\n",
       "      <td>John Bello</td>\n",
       "      <td>2014-08-01T21:04:03</td>\n",
       "      <td>Hey everyone. Watch this trailer!!!!!!!!  http...</td>\n",
       "      <td>1</td>\n",
       "    </tr>\n",
       "  </tbody>\n",
       "</table>\n",
       "</div>"
      ],
      "text/plain": [
       "                              COMMENT_ID        AUTHOR                 DATE  \\\n",
       "0      z12pgdhovmrktzm3i23es5d5junftft3f   lekanaVEVO1  2014-07-22T15:27:50   \n",
       "1    z13yx345uxepetggz04ci5rjcxeohzlrtf4      Pyunghee  2014-07-27T01:57:16   \n",
       "2  z12lsjvi3wa5x1vwh04cibeaqnzrevxajw00k    Erica Ross  2014-07-27T02:51:43   \n",
       "3    z13jcjuovxbwfr0ge04cev2ipsjdfdurwck  Aviel Haimov  2014-08-01T12:27:48   \n",
       "4  z13qybua2yfydzxzj04cgfpqdt2syfx53ms0k    John Bello  2014-08-01T21:04:03   \n",
       "\n",
       "                                             CONTENT  CLASS  \n",
       "0  i love this so much. AND also I Generate Free ...      1  \n",
       "1  http://www.billboard.com/articles/columns/pop-...      1  \n",
       "2  Hey guys! Please join me in my fight to help a...      1  \n",
       "3  http://psnboss.com/?ref=2tGgp3pV6L this is the...      1  \n",
       "4  Hey everyone. Watch this trailer!!!!!!!!  http...      1  "
      ]
     },
     "execution_count": 51,
     "metadata": {},
     "output_type": "execute_result"
    }
   ],
   "source": [
    "df3.head()"
   ]
  },
  {
   "cell_type": "code",
   "execution_count": 52,
   "metadata": {},
   "outputs": [
    {
     "name": "stdout",
     "output_type": "stream",
     "text": [
      "(175, 5)\n"
     ]
    }
   ],
   "source": [
    "print(df3[df3['CLASS'] == 0].shape)"
   ]
  },
  {
   "cell_type": "code",
   "execution_count": 53,
   "metadata": {},
   "outputs": [
    {
     "name": "stdout",
     "output_type": "stream",
     "text": [
      "(175, 5)\n"
     ]
    }
   ],
   "source": [
    "print(df3[df3['CLASS'] == 1].shape)"
   ]
  },
  {
   "cell_type": "code",
   "execution_count": 54,
   "metadata": {},
   "outputs": [],
   "source": [
    "hammyKP = 0.8 * 175\n",
    "spammyKP = 0.8 * 175"
   ]
  },
  {
   "cell_type": "code",
   "execution_count": 55,
   "metadata": {},
   "outputs": [],
   "source": [
    "# Split into train & test set for Katy Perry\n",
    "\n",
    "hamRowsKP = math.floor(hammyKP)\n",
    "spamRowsKP = math.floor(spammyKP)\n",
    "\n",
    "class0_KP = df3.loc[df3['CLASS']==0] \n",
    "class1_KP = df3.loc[df3['CLASS']==1] \n",
    "\n",
    "xHamKP = class0_KP.drop('CLASS', axis=1)\n",
    "yHamKP = class0_KP['CLASS']\n",
    "xSpamKP = class1_KP.drop('CLASS', axis=1)\n",
    "ySpamKP = class1_KP['CLASS']\n",
    "\n",
    "xHamTrainKP = xHamKP[:hamRowsKP]\n",
    "xSpamTrainKP = xSpamKP[:spamRowsKP]\n",
    "yHamTrainKP = yHamKP[:hamRowsKP]\n",
    "ySpamTrainKP = ySpamKP[:spamRowsKP]\n",
    "\n",
    "xHamTestKP = xHamKP[hamRowsKP:]\n",
    "xSpamTestKP = xSpamKP[spamRowsKP:]\n",
    "yHamTestKP = yHamKP[hamRowsKP:]\n",
    "ySpamTestKP = ySpamKP[spamRowsKP:]\n",
    "\n",
    "xTrainsKP = [xHamTrainKP, xSpamTrainKP]\n",
    "xTestsKP = [xHamTestKP, xSpamTestKP]\n",
    "xTrainKP = pd.concat(xTrainsKP)\n",
    "xTestKP = pd.concat(xTestsKP)\n",
    "\n",
    "yTrainsKP = [yHamTrainKP, ySpamTrainKP]\n",
    "yTestsKP = [yHamTestKP, ySpamTestKP]\n",
    "yTrainKP = pd.concat(yTrainsKP)\n",
    "yTestKP = pd.concat(yTestsKP)"
   ]
  },
  {
   "cell_type": "code",
   "execution_count": 56,
   "metadata": {},
   "outputs": [
    {
     "name": "stdout",
     "output_type": "stream",
     "text": [
      "['00', '000', '002', '018', '053012', '0cb8qfjaa', '0d878a889cï', '0dbhjzdw0lbsjbi40gxm0d0p5krhv8xinqli53__wqbahs8zx4mjhw5vwrkpxfoeks', '0laviqu2bï', '10', '100', '1000', '100007085325116ï', '10001', '10626048', '10626835', '106865403ï', '107297364ï', '1073741830', '1073741943', '111719098841907', '111982027348137311818', '11th', '13', '131275322914', '14', '1408122684', '1442646731', '1461302180794905ï', '15', '17', '1727483389', '19255', '1fhenqx1twqm153v2ptayiejnealahzvemï', '1min', '20', '2012430', '2014', '2177367', '229508', '25', '25000', '251638183951', '25874', '25th', '2f', '2fen', '2flist_of_most_viewed_youtube_videos', '2fwiki', '2nd', '2parale', '2tggp3pv6l', '2ï', '30', '302703146601369', '30th', '327568907427561', '333607726823679', '333608120156973', '342', '3873', '389088', '39', '3a', '3bie', '3bkeywords', '3bqid', '3bsr', '3ï', '4483179854075', '46', '4s', '500m', '5094', '53331', '5337555197', '53481', '543627485763966', '5575096797', '5bgkg2iwphzohwaeuesrwnegqg_labco7rw9wfx8haoï', '5c', '5ggs_m_9ma3ti40fs6mvpics', '5s', '600', '600â', '6174122', '629', '629410220489046', '633807ï', '6401116', '661', '666', '674732645945877', '704682339621282', '710', '73231344', '754989901225153', '764484966942313', '775510675841486ï', '82', '824', '8252267209931889', '84', '85', '8692160', '88', '8851222', '89___', '89c', '89iyec7nrwp5nytno5u7amhvmflutggl', '8a', '90', '902099', '911', '936868579660284', '937732262907249', '999999999', '9gag', '__', '_self', '_trksid', 'a0qouc7q48v3_qiaaabpugaaacsqar0_vgoqwqxjmpuyvkosf3k', 'a7', 'aa', 'aaas', 'aavpwj9', 'about', 'absolute', 'absolutely', 'abused', 'ac', 'account', 'achieved', 'aclk', 'acoustic', 'acting', 'actorid', 'ad', 'add', 'addicting', 'admire', 'adurl', 'advanceï', 'advertising', 'afford', 'afiliati', 'afiliere', 'afqjcngkm', 'african', 'after', 'against', 'ago', 'ai', 'aiiima', 'airplane', 'al', 'alertï', 'all', 'allows', 'almost', 'alo', 'alone', 'also', 'alternate', 'always', 'am', 'amazed', 'amazing', 'amazon', 'ambition', 'america', 'american', 'amp', 'an', 'and', 'angels', 'angelï', 'animal', 'animals', 'animalsï', 'anime', 'another', 'any', 'anymore', 'anyone', 'anything', 'aod64_1ofc7seh_1pop', 'aplica', 'applause', 'applied', 'appreciate', 'appreciated', 'apps', 'are', 'aren', 'arive', 'army', 'arrogant', 'artady', 'articles', 'artist', 'artists', 'as', 'asked', 'at', 'atlastatlas', 'attention', 'audition', 'auditiondetail_', 'auditions', 'austin', 'auto', 'autotune', 'available', 'away', 'awesome', 'awesomeï', 'awesum', 'axeljonssonsï', 'b00mppqhri', 'b3', 'b5', 'b5t', 'b7b', 'b8l', 'babe', 'baby', 'back', 'bad', 'ballsï', 'band', 'barnesandnoble', 'bdp', 'be', 'beat', 'beaties', 'beautiful', 'beauty', 'because', 'become', 'becomes', 'been', 'before', 'beginning', 'being', 'belarus', 'belgique', 'believe', 'believemefilm', 'bella', 'belly', 'bengal', 'best', 'beta', 'better', 'bg', 'bgq', 'big', 'bigboss286ï', 'bigger', 'bikini', 'bilion', 'billboard', 'billie', 'billion', 'bills', 'birtgday', 'birthday', 'bisexual', 'bishopsgravemarker', 'bit', 'bitcoins', 'black', 'bleachï', 'bless', 'blog', 'blond', 'blue', 'boa', 'body', 'bodyï', 'bogdan', 'boobs', 'book', 'boomerul', 'boooobsï', 'border', 'borderlands', 'bout', 'boy', 'brave', 'break', 'brings', 'broken', 'brought', 'browser', 'bubblews', 'bunch', 'burda', 'bus', 'business', 'but', 'buy', 'buzz', 'bv', 'bvm', 'by', 'c3', 'ca', 'cachebuster', 'cad', 'call', 'called', 'came', 'cameraman', 'campid', 'can', 'canâ', 'card', 'care', 'case', 'catchy', 'cause', 'cd', 'ce', 'cece', 'celebrate', 'cevxzvsjlk8ï', 'challenge', 'champion', 'chance', 'channel', 'channelï', 'characterized', 'check', 'choice', 'christmas', 'cid', 'clean', 'cleanse', 'clear', 'click', 'client', 'clip', 'close', 'co', 'code', 'codes', 'collections', 'colors', 'columns', 'com', 'come', 'comes', 'comic', 'coming', 'comment', 'commenter', 'comments', 'commentsï', 'community', 'companions', 'comparison', 'comparisons', 'competition', 'complete', 'completely', 'comï', 'concert', 'confirmed', 'confusing', 'congrasulation', 'congrats', 'conqueror', 'constrictor', 'contest', 'coolest', 'copy', 'could', 'couldn', 'course', 'cover', 'covers', 'crash', 'crashed', 'crazy', 'creativity', 'cri', 'cringe', 'cry', 'csrftoken', 'csyoeb1wxvpcfl7d27abgpydgbjdpm6ih6mhu05wbgjxbv8sbeaegkn7ljvcf7byh_f____8byiofgicahkabskg31wpiaqkpah_kmc0hbpm', 'cubik', 'cup', 'cursed', 'customid', 'cute', 'cuz', 'cyber', 'cyrine_ghorbelï', 'cyrus', 'd15fb87973', 'd4aaacwkï', 'd8', 'd9', 'da', 'daconnormcï', 'daily', 'damn', 'dance', 'danced', 'daniel', 'danke', 'datpiff', 'daughter', 'dawn', 'day', 'dd', 'de', 'dead2me', 'death', 'decoration', 'defectivesï', 'delete', 'dem', 'democracy', 'depth', 'detail', 'detail_the', 'details', 'detective', 'dhaka', 'dhg', 'diagnosed', 'dick', 'did', 'didn', 'different', 'digital', 'dingo', 'dis', 'disabled', 'disliked', 'dissertation', 'do', 'document', 'does', 'doesn', 'dog', 'doing', 'dollars', 'don', 'donate', 'done', 'dont', 'dope', 'doubt', 'download', 'downloads', 'dp', 'dreaddis', 'dream', 'dreams', 'dref', 'drink', 'drum', 'drunk', 'dude', 'due', 'dumb', 'dumbï', 'during', 'dvdscr', 'dï', 'ear', 'earth', 'eating', 'ebay', 'ebook', 'edm', 'efmqrg4tu5llbu_fsz8gn0hbkjhbx', 'ehvjzkya', 'ei', 'elephant', 'elinmigrante', 'else', 'em', 'ema', 'emas', 'emission', 'emissionid', 'emphasis', 'empowering', 'en', 'encouraging', 'ending', 'ends', 'enjoy', 'enlargement', 'enough', 'entire_site', 'eol_images', 'eonline', 'erection', 'esrc', 'esyest', 'even', 'ever', 'evertim', 'every', 'everyone', 'everything', 'exact', 'exagdl', 'expendables', 'express', 'expression', 'extra', 'extremely', 'eye', 'eyes', 'eyesï', 'f0llowshoutouts', 'f7ekgwï', 'face', 'facebook', 'fack', 'family', 'famous', 'fan', 'fans', 'fantastic', 'far', 'fashions', 'fast', 'fathers', 'favorite', 'fb', 'fbid', 'fbpage_fan_invite', 'fbï', 'fear', 'feature', 'feedbackï', 'feel', 'fell', 'feminist', 'few', 'ff3', 'fight', 'fii', 'files', 'fill', 'filming', 'find', 'finding', 'finish', 'firework', 'first', 'fit', 'fitï', 'floor', 'flowers', 'fly', 'folks', 'follow', 'folly', 'fool', 'foolish', 'for', 'forget', 'formula', 'found', 'freakin', 'freaking', 'free', 'freyacumqueenï', 'friend', 'friends', 'from', 'ft', 'fuck', 'fucking', 'full', 'fullscreen', 'fun', 'fund', 'funny', 'funnyordie', 'g2jvinpuemoï', 'g8ix5ctkdï', 'gag', 'garbage', 'garnered', 'gel', 'generate', 'get', 'gets', 'getting', 'gfï', 'giant', 'gifs', 'gift', 'giftcard', 'gimme', 'giphy', 'girl', 'girls', 'girly', 'give', 'giving', 'glad', 'glamour', 'go', 'god', 'gofundme', 'going', 'gold', 'goltz', 'gonna', 'good', 'goodlooking', 'goodï', 'google', 'googleadservices', 'gordon', 'gorlin', 'gorlingoltzsupportï', 'got', 'governmentï', 'gracias', 'grave', 'grazie', 'great', 'greatly', 'green', 'grigore', 'growtopia', 'gt', 'guarantee', 'guess', 'guitar', 'guys', 'gw3jy2uqiaxkaqxs', 'h2hqbuvbï', 'ha', 'had', 'haha', 'hair', 'hairstylist', 'haki', 'half', 'hand', 'handleing', 'happening', 'happens', 'happenï', 'happiness', 'happy', 'hard', 'hardcoreï', 'has', 'hate', 'haterz', 'hating', 'have', 'he', 'hear', 'heenq', 'hell', 'hello', 'help', 'helping', 'helpï', 'her', 'here', 'herself', 'hey', 'hi', 'hiphop', 'his', 'history', 'hit', 'hits', 'hiyaðÿ', 'hl', 'hlr', 'ho', 'home', 'homes', 'homeï', 'honest', 'honestly', 'hook', 'hooker', 'hope', 'hornï', 'horrible', 'hot', 'hour', 'house', 'how', 'href', 'htmlï', 'http', 'https', 'hugï', 'huh', 'human', 'humankind', 'hupweh5abï', 'i38xh1ï', 'i9tixe8cnkcosoqkemgjlu5uwv6nsxso', 'icep_ff3', 'icep_vectorid', 'id', 'ideas', 'idiocy', 'idiots', 'idols', 'idplal6kuvkoekvgdtt2jvlq', 'if', 'if_t', 'ig', 'ill', 'illegal', 'illuminati', 'im', 'ima', 'imagine', 'img', 'important', 'in', 'inaccurate', 'inch', 'inches', 'incredible', 'indiegogo', 'info', 'inspirational', 'instagram', 'install', 'integrated', 'interested', 'internet', 'into', 'invented', 'iphone', 'ipn', 'irritating', 'is', 'island', 'issue', 'it', 'itm', 'its', 'itttttttttttttï', 'itunes', 'itâ', 'itï', 'jack', 'jahitan', 'jean', 'jello', 'jims', 'jkork', 'joanna', 'joannagordon', 'job', 'join', 'jormis', 'jpg', 'jt2ufxhxcï', 'jungle', 'jus', 'just', 'justin', 'jyrbs7x6', 'katheryn', 'katie', 'katty', 'katy', 'katycat', 'katycats', 'katyperryvevo', 'katys', 'katyï', 'keyword', 'kind', 'kinda', 'kitten', 'kitty', 'knight', 'know', 'knowledge', 'knows', 'komedi', 'kw', 'kwid', 'l2649', 'la', 'land', 'last', 'latest', 'laugh', 'lead', 'leads', 'leah', 'leaked', 'learned', 'least', 'left', 'leopard', 'les', 'let', 'lets', 'lg', 'lie', 'life', 'lik', 'like', 'liked', 'likes', 'link', 'list', 'listen', 'little', 'live', 'll', 'lmfao', 'lol', 'look', 'looking', 'looks', 'looooooooooooooooooooovvvvvvvvveeeeeeeeeeee', 'loosing', 'lose', 'lostproduce', 'lot', 'love', 'loved', 'loves', 'lt', 'luckymusiqlive', 'lumineers', 'lunii', 'luv', 'lyric', 'lyrics', 'm1555', 'm83w1ts3_3dx_hwpdx1kazsj8o7siecvjjmbnswyijecqvhxlbdzstubofaloyinwm0_roocpps2auat6zguickm0li83duwmabzqvene8trfazorltbb037vzyv_xi4hbnq2nvh19mrbge0sibgggbgkab7jeycg', 'm_notifâ', 'ma', 'made', 'magically', 'magicdroidï', 'mahone', 'mai', 'make', 'makes', 'makeup', 'makeuptransformation', 'making', 'male', 'man', 'many', 'margin', 'marian', 'marianï', 'maroon', 'math', 'matter', 'may', 'maybe', 'mayby', 'mb', 'me', 'mean', 'measure', 'media', 'mediafire', 'mediocre', 'meet', 'meeï', 'mega', 'meh', 'melody', 'member', 'memorable', 'merci', 'meselx', 'message', 'messageï', 'meâ', 'meï', 'mh', 'mi', 'midnight', 'mighty', 'miley', 'million', 'millions', 'millionï', 'mine', 'mins', 'mistreated', 'mix', 'mixtape', 'mixtapes', 'mkup', 'mobile', 'mom', 'mon', 'money', 'moneyz', 'monkey', 'month', 'months', 'more', 'moretrafficï', 'most', 'mother', 'mothers', 'move', 'movie', 'mp3', 'mpt', 'mri', 'mtid', 'mtv', 'mtvema', 'much', 'muchï', 'mum', 'music', 'mute', 'mv', 'my', 'myb', 'myleadergate', 'myself', 'nailey', 'nails', 'name', 'named', 'natural', 'nearly', 'need', 'nerdy', 'nereboy', 'nervous', 'never', 'new', 'news', 'next', 'nguyen', 'nice', 'nicee', 'nicool', 'night', 'nite', 'nm', 'no', 'no9povz9oiq', 'noile', 'nokia', 'noms', 'none', 'nonsense', 'nonturtle02ï', 'noscript', 'not', 'notes', 'nothing', 'notice', 'now', 'nude', 'num', 'numbering', 'nutsï', 'nvm', 'nyghdramafest2014', 'nz', 'o59253', 'obrigado', 'obviously', 'october', 'of', 'off', 'official', 'offline', 'offï', 'ofï', 'oh', 'ok', 'old', 'omg', 'on', 'once', 'one', 'ones', 'only', 'onqzzad3q3cmnbe9nml4ga', 'oocnjqu2bï', 'open', 'opening', 'opinion', 'oportunityï', 'oq3yu9dwc8l4yqoyo4goaw', 'or', 'order', 'org', 'organizations', 'other', 'otherwise', 'otib', 'our', 'out', 'overplayed', 'own', 'p3984', 'padding', 'page', 'pagead', 'pages', 'paidverts', 'painting', 'pan', 'parry', 'part', 'passionate', 'paused', 'pay', 'payhip', 'peach', 'penis', 'pentru', 'people', 'perfect', 'period', 'perry', 'perryï', 'person', 'pet', 'phones', 'photo', 'photos', 'php', 'pic', 'picture', 'piece', 'pilot', 'piss', 'pl', 'place', 'plane', 'play', 'playing', 'playlist', 'pleaaaase', 'pleaase', 'please', 'pleaseï', 'plus', 'plz', 'plzzz', 'poeple', 'pop', 'popular', 'possible', 'post', 'poster', 'posts', 'poverty', 'practically', 'pre', 'pretty', 'probably', 'producers', 'profile', 'programe', 'project', 'projects', 'promote', 'prothom', 'ps', 'psmain', 'psnboss', 'pub', 'purpy', 'purry', 'pushes', 'put', 'q1bvkf9ze4jhnc3ovckkxcbafzzpajibxwbvvq4jrdgz8q3rinlwgaby_bxlfw7ma6dk0rjg14zkryizwqdi7hxgge9tndd9abfltfkbmbffcjixnthwbwkj6n2onlh2d9eveagphoewxogbnu5ibgtrkgnacq1oibgmzgafnsc0lsariqj8hqr8t12dwv_7biy4k6i3y4yublotde_4xvklnveadzzf1l_xryqke6wsur3edljwgk8flq_qaldi', 'qambyapbbkoekwfp0kullxqi1mg6o43hvze', 'quiet', 'racist', 'radio', 'radioï', 'random', 'randomly', 'rap', 'rapid', 'rapper', 'rapping', 'rar', 'rarbg', 'rct', 're', 'reach', 'reaction', 'real', 'realized', 'really', 'reason', 'ref', 'refer', 'reg_1024', 'regret', 'reinforce', 'rekt', 'relate', 'releasing', 'remember', 'remind', 'replies', 'reply', 'research', 'results', 'reverbnation', 'review', 'reviews', 'rid', 'right', 'rihanna', 'rip', 'rja', 'rjanimalcareï', 'ro', 'roaaaaarrrrrr', 'roaaarrr', 'roar', 'roarrrr', 'roberts9010ï', 'roblox', 'robox', 'rock', 'round', 'rover', 'roverimp', 'rtbf', 'running', 'sa', 'sabrosura', 'said', 'same', 'saw', 'say', 'scared', 'score', 'script', 'se', 'searching', 'sec', 'second', 'secret', 'secrets', 'see', 'seems', 'selfie', 'sell', 'selling', 'sense', 'sequel', 'seriously', 'set', 'sex', 'sextoy', 'sexy', 'shakiraï', 'share', 'shared', 'shareï', 'she', 'sheep', 'sheilcenï', 'sheldon', 'shhort', 'shikas', 'shirt', 'shirts', 'shit', 'shitï', 'shop', 'shot', 'should', 'shout', 'si', 'sig', 'sig2', 'sign', 'sinar', 'since', 'sing', 'singer', 'singing', 'single', 'sister', 'sit', 'situation', 'size', 'skinny', 'sleep', 'slicknick313', 'small', 'smile', 'smiley', 'smiley12', 'smzdivopxb', 'so', 'social', 'solutionsï', 'some', 'sometimes', 'son', 'sones', 'song', 'songs', 'songsï', 'songsðÿ', 'songï', 'soo', 'soon', 'sooo', 'sooooo', 'sooooooooooooong', 'sorry', 'sort', 'soundcloud', 'soundhase', 'soundsofsunday', 'source', 'south', 'spaces', 'spam', 'sparks', 'special', 'spirit', 'splashes', 'sponsorï', 'sponswer', 'sport', 'spotify', 'spottedï', 'spray', 'squeezes', 'sr_1_7', 'src', 'sspagename', 'stand', 'stars', 'start', 'started', 'statistics', 'stereotype', 'still', 'stole', 'stop', 'store', 'story', 'story_fbid', 'strawberry', 'stream', 'streamer', 'strk', 'stuck', 'stuff', 'stupid', 'style', 'sub', 'subs', 'subscribe', 'subscribers', 'subscribeï', 'succumbs', 'sucksï', 'suddenly', 'support', 'sure', 'surgery', 'survive', 'surviving', 'swagbucks', 'sweat', 'sweet', 'swift', 'symbolic', 'syndrome', 'tabs', 'tag', 'take', 'talent', 'talented', 'tan', 'target', 'tattoo', 'taxi', 'taylor', 'team', 'tech', 'teespring', 'telephone', 'tell', 'telling', 'terrible', 'text', 'tha', 'than', 'thank', 'thankful', 'thanks', 'thanksï', 'that', 'thats', 'thatâ', 'the', 'theater', 'them', 'then', 'thepiratebay', 'there', 'therefore', 'these', 'they', 'thing', 'things', 'think', 'this', 'those', 'three', 'thumbs', 'tiger', 'tiget', 'time', 'titles', 'titsï', 'to', 'today', 'toilet', 'tomuciux99', 'tonight', 'too', 'took', 'toolid', 'top', 'topic', 'torrent', 'total', 'toutes', 'tq046fuau00ï', 'tqvmï', 'track', 'trailer', 'transformation', 'trash', 'treu', 'tricep', 'trojmiasto', 'true', 'trusted', 'try', 'trying', 'tsu', 'turn', 'tv', 'twin', 'twins', 'twitch', 'twitter', 'ty', 'type', 'uk', 'understand', 'unique', 'until', 'up', 'update', 'upload', 'ur', 'uranus', 'url', 'us', 'use', 'useless', 'user', 'usg', 'using', 'ut15kxï', 'utf8', 'utter', 'uultucdihsdei01by1ow7wuqï', 'vanishes', 'vb', 've', 'ved', 'vena', 'venezuela', 'ver', 'verses', 'version', 'very', 'vet', 'vevo', 'video', 'videoes', 'videos', 'videoï', 'vids', 'vidz', 'view', 'views', 'vimeo', 'vips', 'viralangels', 'visit', 'visiting', 'viva', 'vma', 'voice', 'volume', 'vote', 'votekatyperry', 'vps', 'wait', 'wanna', 'want', 'wanted', 'warmth', 'was', 'wasting', 'watch', 'water', 'wattpad', 'way', 'wayï', 'waznuysgqjnrdy6vucklplzonyisdkc9ebx', 'we', 'wear', 'web', 'wednesday', 'weird', 'well', 'were', 'weâ', 'what', 'when', 'where', 'which', 'while', 'who', 'whore', 'why', 'wikipedia', 'will', 'win', 'wingzï', 'wisdom', 'with', 'without', 'wobbler', 'woman', 'wonder', 'wont', 'words', 'worhty', 'working', 'world', 'worry', 'would', 'wouldn', 'wow', 'write', 'written', 'www', 'x6j4gbrneï', 'xdï', 'xoxo', 'xoxoï', 'xvid', 'xx', 'xxï', 'yay', 'year', 'years', 'yerki', 'yesterday', 'yet', 'you', 'young', 'younique', 'youniqueproducts', 'your', 'yourelink', 'youtu', 'youtube', 'youtuber', 'youâ', 'youï', 'yoï', 'yvovhafsv5qzzqo', 'zimbabwe', 'ªâ', '²60â', '²6â', '²ï', 'îÿh', 'ðÿ', 'žðÿ']\n"
     ]
    }
   ],
   "source": [
    "# TFIDF for Katy Perry train & test \n",
    "contentCorpusTrainKP = xTrainKP['CONTENT']\n",
    "vectorizerKP = TfidfVectorizer()\n",
    "xTrainKPTFIDF = vectorizerKP.fit_transform(contentCorpusTrainKP)\n",
    "print(vectorizerKP.get_feature_names())"
   ]
  },
  {
   "cell_type": "code",
   "execution_count": 57,
   "metadata": {},
   "outputs": [
    {
     "name": "stdout",
     "output_type": "stream",
     "text": [
      "['00', '000', '002', '018', '053012', '0cb8qfjaa', '0d878a889cï', '0dbhjzdw0lbsjbi40gxm0d0p5krhv8xinqli53__wqbahs8zx4mjhw5vwrkpxfoeks', '0laviqu2bï', '10', '100', '1000', '100007085325116ï', '10001', '10626048', '10626835', '106865403ï', '107297364ï', '1073741830', '1073741943', '111719098841907', '111982027348137311818', '11th', '13', '131275322914', '14', '1408122684', '1442646731', '1461302180794905ï', '15', '17', '1727483389', '19255', '1fhenqx1twqm153v2ptayiejnealahzvemï', '1min', '20', '2012430', '2014', '2177367', '229508', '25', '25000', '251638183951', '25874', '25th', '2f', '2fen', '2flist_of_most_viewed_youtube_videos', '2fwiki', '2nd', '2parale', '2tggp3pv6l', '2ï', '30', '302703146601369', '30th', '327568907427561', '333607726823679', '333608120156973', '342', '3873', '389088', '39', '3a', '3bie', '3bkeywords', '3bqid', '3bsr', '3ï', '4483179854075', '46', '4s', '500m', '5094', '53331', '5337555197', '53481', '543627485763966', '5575096797', '5bgkg2iwphzohwaeuesrwnegqg_labco7rw9wfx8haoï', '5c', '5ggs_m_9ma3ti40fs6mvpics', '5s', '600', '600â', '6174122', '629', '629410220489046', '633807ï', '6401116', '661', '666', '674732645945877', '704682339621282', '710', '73231344', '754989901225153', '764484966942313', '775510675841486ï', '82', '824', '8252267209931889', '84', '85', '8692160', '88', '8851222', '89___', '89c', '89iyec7nrwp5nytno5u7amhvmflutggl', '8a', '90', '902099', '911', '936868579660284', '937732262907249', '999999999', '9gag', '__', '_self', '_trksid', 'a0qouc7q48v3_qiaaabpugaaacsqar0_vgoqwqxjmpuyvkosf3k', 'a7', 'aa', 'aaas', 'aavpwj9', 'about', 'absolute', 'absolutely', 'abused', 'ac', 'account', 'achieved', 'aclk', 'acoustic', 'acting', 'actorid', 'ad', 'add', 'addicting', 'admire', 'adurl', 'advanceï', 'advertising', 'afford', 'afiliati', 'afiliere', 'afqjcngkm', 'african', 'after', 'against', 'ago', 'ai', 'aiiima', 'airplane', 'al', 'alertï', 'all', 'allows', 'almost', 'alo', 'alone', 'also', 'alternate', 'always', 'am', 'amazed', 'amazing', 'amazon', 'ambition', 'america', 'american', 'amp', 'an', 'and', 'angels', 'angelï', 'animal', 'animals', 'animalsï', 'anime', 'another', 'any', 'anymore', 'anyone', 'anything', 'aod64_1ofc7seh_1pop', 'aplica', 'applause', 'applied', 'appreciate', 'appreciated', 'apps', 'are', 'aren', 'arive', 'army', 'arrogant', 'artady', 'articles', 'artist', 'artists', 'as', 'asked', 'at', 'atlastatlas', 'attention', 'audition', 'auditiondetail_', 'auditions', 'austin', 'auto', 'autotune', 'available', 'away', 'awesome', 'awesomeï', 'awesum', 'axeljonssonsï', 'b00mppqhri', 'b3', 'b5', 'b5t', 'b7b', 'b8l', 'babe', 'baby', 'back', 'bad', 'ballsï', 'band', 'barnesandnoble', 'bdp', 'be', 'beat', 'beaties', 'beautiful', 'beauty', 'because', 'become', 'becomes', 'been', 'before', 'beginning', 'being', 'belarus', 'belgique', 'believe', 'believemefilm', 'bella', 'belly', 'bengal', 'best', 'beta', 'better', 'bg', 'bgq', 'big', 'bigboss286ï', 'bigger', 'bikini', 'bilion', 'billboard', 'billie', 'billion', 'bills', 'birtgday', 'birthday', 'bisexual', 'bishopsgravemarker', 'bit', 'bitcoins', 'black', 'bleachï', 'bless', 'blog', 'blond', 'blue', 'boa', 'body', 'bodyï', 'bogdan', 'boobs', 'book', 'boomerul', 'boooobsï', 'border', 'borderlands', 'bout', 'boy', 'brave', 'break', 'brings', 'broken', 'brought', 'browser', 'bubblews', 'bunch', 'burda', 'bus', 'business', 'but', 'buy', 'buzz', 'bv', 'bvm', 'by', 'c3', 'ca', 'cachebuster', 'cad', 'call', 'called', 'came', 'cameraman', 'campid', 'can', 'canâ', 'card', 'care', 'case', 'catchy', 'cause', 'cd', 'ce', 'cece', 'celebrate', 'cevxzvsjlk8ï', 'challenge', 'champion', 'chance', 'channel', 'channelï', 'characterized', 'check', 'choice', 'christmas', 'cid', 'clean', 'cleanse', 'clear', 'click', 'client', 'clip', 'close', 'co', 'code', 'codes', 'collections', 'colors', 'columns', 'com', 'come', 'comes', 'comic', 'coming', 'comment', 'commenter', 'comments', 'commentsï', 'community', 'companions', 'comparison', 'comparisons', 'competition', 'complete', 'completely', 'comï', 'concert', 'confirmed', 'confusing', 'congrasulation', 'congrats', 'conqueror', 'constrictor', 'contest', 'coolest', 'copy', 'could', 'couldn', 'course', 'cover', 'covers', 'crash', 'crashed', 'crazy', 'creativity', 'cri', 'cringe', 'cry', 'csrftoken', 'csyoeb1wxvpcfl7d27abgpydgbjdpm6ih6mhu05wbgjxbv8sbeaegkn7ljvcf7byh_f____8byiofgicahkabskg31wpiaqkpah_kmc0hbpm', 'cubik', 'cup', 'cursed', 'customid', 'cute', 'cuz', 'cyber', 'cyrine_ghorbelï', 'cyrus', 'd15fb87973', 'd4aaacwkï', 'd8', 'd9', 'da', 'daconnormcï', 'daily', 'damn', 'dance', 'danced', 'daniel', 'danke', 'datpiff', 'daughter', 'dawn', 'day', 'dd', 'de', 'dead2me', 'death', 'decoration', 'defectivesï', 'delete', 'dem', 'democracy', 'depth', 'detail', 'detail_the', 'details', 'detective', 'dhaka', 'dhg', 'diagnosed', 'dick', 'did', 'didn', 'different', 'digital', 'dingo', 'dis', 'disabled', 'disliked', 'dissertation', 'do', 'document', 'does', 'doesn', 'dog', 'doing', 'dollars', 'don', 'donate', 'done', 'dont', 'dope', 'doubt', 'download', 'downloads', 'dp', 'dreaddis', 'dream', 'dreams', 'dref', 'drink', 'drum', 'drunk', 'dude', 'due', 'dumb', 'dumbï', 'during', 'dvdscr', 'dï', 'ear', 'earth', 'eating', 'ebay', 'ebook', 'edm', 'efmqrg4tu5llbu_fsz8gn0hbkjhbx', 'ehvjzkya', 'ei', 'elephant', 'elinmigrante', 'else', 'em', 'ema', 'emas', 'emission', 'emissionid', 'emphasis', 'empowering', 'en', 'encouraging', 'ending', 'ends', 'enjoy', 'enlargement', 'enough', 'entire_site', 'eol_images', 'eonline', 'erection', 'esrc', 'esyest', 'even', 'ever', 'evertim', 'every', 'everyone', 'everything', 'exact', 'exagdl', 'expendables', 'express', 'expression', 'extra', 'extremely', 'eye', 'eyes', 'eyesï', 'f0llowshoutouts', 'f7ekgwï', 'face', 'facebook', 'fack', 'family', 'famous', 'fan', 'fans', 'fantastic', 'far', 'fashions', 'fast', 'fathers', 'favorite', 'fb', 'fbid', 'fbpage_fan_invite', 'fbï', 'fear', 'feature', 'feedbackï', 'feel', 'fell', 'feminist', 'few', 'ff3', 'fight', 'fii', 'files', 'fill', 'filming', 'find', 'finding', 'finish', 'firework', 'first', 'fit', 'fitï', 'floor', 'flowers', 'fly', 'folks', 'follow', 'folly', 'fool', 'foolish', 'for', 'forget', 'formula', 'found', 'freakin', 'freaking', 'free', 'freyacumqueenï', 'friend', 'friends', 'from', 'ft', 'fuck', 'fucking', 'full', 'fullscreen', 'fun', 'fund', 'funny', 'funnyordie', 'g2jvinpuemoï', 'g8ix5ctkdï', 'gag', 'garbage', 'garnered', 'gel', 'generate', 'get', 'gets', 'getting', 'gfï', 'giant', 'gifs', 'gift', 'giftcard', 'gimme', 'giphy', 'girl', 'girls', 'girly', 'give', 'giving', 'glad', 'glamour', 'go', 'god', 'gofundme', 'going', 'gold', 'goltz', 'gonna', 'good', 'goodlooking', 'goodï', 'google', 'googleadservices', 'gordon', 'gorlin', 'gorlingoltzsupportï', 'got', 'governmentï', 'gracias', 'grave', 'grazie', 'great', 'greatly', 'green', 'grigore', 'growtopia', 'gt', 'guarantee', 'guess', 'guitar', 'guys', 'gw3jy2uqiaxkaqxs', 'h2hqbuvbï', 'ha', 'had', 'haha', 'hair', 'hairstylist', 'haki', 'half', 'hand', 'handleing', 'happening', 'happens', 'happenï', 'happiness', 'happy', 'hard', 'hardcoreï', 'has', 'hate', 'haterz', 'hating', 'have', 'he', 'hear', 'heenq', 'hell', 'hello', 'help', 'helping', 'helpï', 'her', 'here', 'herself', 'hey', 'hi', 'hiphop', 'his', 'history', 'hit', 'hits', 'hiyaðÿ', 'hl', 'hlr', 'ho', 'home', 'homes', 'homeï', 'honest', 'honestly', 'hook', 'hooker', 'hope', 'hornï', 'horrible', 'hot', 'hour', 'house', 'how', 'href', 'htmlï', 'http', 'https', 'hugï', 'huh', 'human', 'humankind', 'hupweh5abï', 'i38xh1ï', 'i9tixe8cnkcosoqkemgjlu5uwv6nsxso', 'icep_ff3', 'icep_vectorid', 'id', 'ideas', 'idiocy', 'idiots', 'idols', 'idplal6kuvkoekvgdtt2jvlq', 'if', 'if_t', 'ig', 'ill', 'illegal', 'illuminati', 'im', 'ima', 'imagine', 'img', 'important', 'in', 'inaccurate', 'inch', 'inches', 'incredible', 'indiegogo', 'info', 'inspirational', 'instagram', 'install', 'integrated', 'interested', 'internet', 'into', 'invented', 'iphone', 'ipn', 'irritating', 'is', 'island', 'issue', 'it', 'itm', 'its', 'itttttttttttttï', 'itunes', 'itâ', 'itï', 'jack', 'jahitan', 'jean', 'jello', 'jims', 'jkork', 'joanna', 'joannagordon', 'job', 'join', 'jormis', 'jpg', 'jt2ufxhxcï', 'jungle', 'jus', 'just', 'justin', 'jyrbs7x6', 'katheryn', 'katie', 'katty', 'katy', 'katycat', 'katycats', 'katyperryvevo', 'katys', 'katyï', 'keyword', 'kind', 'kinda', 'kitten', 'kitty', 'knight', 'know', 'knowledge', 'knows', 'komedi', 'kw', 'kwid', 'l2649', 'la', 'land', 'last', 'latest', 'laugh', 'lead', 'leads', 'leah', 'leaked', 'learned', 'least', 'left', 'leopard', 'les', 'let', 'lets', 'lg', 'lie', 'life', 'lik', 'like', 'liked', 'likes', 'link', 'list', 'listen', 'little', 'live', 'll', 'lmfao', 'lol', 'look', 'looking', 'looks', 'looooooooooooooooooooovvvvvvvvveeeeeeeeeeee', 'loosing', 'lose', 'lostproduce', 'lot', 'love', 'loved', 'loves', 'lt', 'luckymusiqlive', 'lumineers', 'lunii', 'luv', 'lyric', 'lyrics', 'm1555', 'm83w1ts3_3dx_hwpdx1kazsj8o7siecvjjmbnswyijecqvhxlbdzstubofaloyinwm0_roocpps2auat6zguickm0li83duwmabzqvene8trfazorltbb037vzyv_xi4hbnq2nvh19mrbge0sibgggbgkab7jeycg', 'm_notifâ', 'ma', 'made', 'magically', 'magicdroidï', 'mahone', 'mai', 'make', 'makes', 'makeup', 'makeuptransformation', 'making', 'male', 'man', 'many', 'margin', 'marian', 'marianï', 'maroon', 'math', 'matter', 'may', 'maybe', 'mayby', 'mb', 'me', 'mean', 'measure', 'media', 'mediafire', 'mediocre', 'meet', 'meeï', 'mega', 'meh', 'melody', 'member', 'memorable', 'merci', 'meselx', 'message', 'messageï', 'meâ', 'meï', 'mh', 'mi', 'midnight', 'mighty', 'miley', 'million', 'millions', 'millionï', 'mine', 'mins', 'mistreated', 'mix', 'mixtape', 'mixtapes', 'mkup', 'mobile', 'mom', 'mon', 'money', 'moneyz', 'monkey', 'month', 'months', 'more', 'moretrafficï', 'most', 'mother', 'mothers', 'move', 'movie', 'mp3', 'mpt', 'mri', 'mtid', 'mtv', 'mtvema', 'much', 'muchï', 'mum', 'music', 'mute', 'mv', 'my', 'myb', 'myleadergate', 'myself', 'nailey', 'nails', 'name', 'named', 'natural', 'nearly', 'need', 'nerdy', 'nereboy', 'nervous', 'never', 'new', 'news', 'next', 'nguyen', 'nice', 'nicee', 'nicool', 'night', 'nite', 'nm', 'no', 'no9povz9oiq', 'noile', 'nokia', 'noms', 'none', 'nonsense', 'nonturtle02ï', 'noscript', 'not', 'notes', 'nothing', 'notice', 'now', 'nude', 'num', 'numbering', 'nutsï', 'nvm', 'nyghdramafest2014', 'nz', 'o59253', 'obrigado', 'obviously', 'october', 'of', 'off', 'official', 'offline', 'offï', 'ofï', 'oh', 'ok', 'old', 'omg', 'on', 'once', 'one', 'ones', 'only', 'onqzzad3q3cmnbe9nml4ga', 'oocnjqu2bï', 'open', 'opening', 'opinion', 'oportunityï', 'oq3yu9dwc8l4yqoyo4goaw', 'or', 'order', 'org', 'organizations', 'other', 'otherwise', 'otib', 'our', 'out', 'overplayed', 'own', 'p3984', 'padding', 'page', 'pagead', 'pages', 'paidverts', 'painting', 'pan', 'parry', 'part', 'passionate', 'paused', 'pay', 'payhip', 'peach', 'penis', 'pentru', 'people', 'perfect', 'period', 'perry', 'perryï', 'person', 'pet', 'phones', 'photo', 'photos', 'php', 'pic', 'picture', 'piece', 'pilot', 'piss', 'pl', 'place', 'plane', 'play', 'playing', 'playlist', 'pleaaaase', 'pleaase', 'please', 'pleaseï', 'plus', 'plz', 'plzzz', 'poeple', 'pop', 'popular', 'possible', 'post', 'poster', 'posts', 'poverty', 'practically', 'pre', 'pretty', 'probably', 'producers', 'profile', 'programe', 'project', 'projects', 'promote', 'prothom', 'ps', 'psmain', 'psnboss', 'pub', 'purpy', 'purry', 'pushes', 'put', 'q1bvkf9ze4jhnc3ovckkxcbafzzpajibxwbvvq4jrdgz8q3rinlwgaby_bxlfw7ma6dk0rjg14zkryizwqdi7hxgge9tndd9abfltfkbmbffcjixnthwbwkj6n2onlh2d9eveagphoewxogbnu5ibgtrkgnacq1oibgmzgafnsc0lsariqj8hqr8t12dwv_7biy4k6i3y4yublotde_4xvklnveadzzf1l_xryqke6wsur3edljwgk8flq_qaldi', 'qambyapbbkoekwfp0kullxqi1mg6o43hvze', 'quiet', 'racist', 'radio', 'radioï', 'random', 'randomly', 'rap', 'rapid', 'rapper', 'rapping', 'rar', 'rarbg', 'rct', 're', 'reach', 'reaction', 'real', 'realized', 'really', 'reason', 'ref', 'refer', 'reg_1024', 'regret', 'reinforce', 'rekt', 'relate', 'releasing', 'remember', 'remind', 'replies', 'reply', 'research', 'results', 'reverbnation', 'review', 'reviews', 'rid', 'right', 'rihanna', 'rip', 'rja', 'rjanimalcareï', 'ro', 'roaaaaarrrrrr', 'roaaarrr', 'roar', 'roarrrr', 'roberts9010ï', 'roblox', 'robox', 'rock', 'round', 'rover', 'roverimp', 'rtbf', 'running', 'sa', 'sabrosura', 'said', 'same', 'saw', 'say', 'scared', 'score', 'script', 'se', 'searching', 'sec', 'second', 'secret', 'secrets', 'see', 'seems', 'selfie', 'sell', 'selling', 'sense', 'sequel', 'seriously', 'set', 'sex', 'sextoy', 'sexy', 'shakiraï', 'share', 'shared', 'shareï', 'she', 'sheep', 'sheilcenï', 'sheldon', 'shhort', 'shikas', 'shirt', 'shirts', 'shit', 'shitï', 'shop', 'shot', 'should', 'shout', 'si', 'sig', 'sig2', 'sign', 'sinar', 'since', 'sing', 'singer', 'singing', 'single', 'sister', 'sit', 'situation', 'size', 'skinny', 'sleep', 'slicknick313', 'small', 'smile', 'smiley', 'smiley12', 'smzdivopxb', 'so', 'social', 'solutionsï', 'some', 'sometimes', 'son', 'sones', 'song', 'songs', 'songsï', 'songsðÿ', 'songï', 'soo', 'soon', 'sooo', 'sooooo', 'sooooooooooooong', 'sorry', 'sort', 'soundcloud', 'soundhase', 'soundsofsunday', 'source', 'south', 'spaces', 'spam', 'sparks', 'special', 'spirit', 'splashes', 'sponsorï', 'sponswer', 'sport', 'spotify', 'spottedï', 'spray', 'squeezes', 'sr_1_7', 'src', 'sspagename', 'stand', 'stars', 'start', 'started', 'statistics', 'stereotype', 'still', 'stole', 'stop', 'store', 'story', 'story_fbid', 'strawberry', 'stream', 'streamer', 'strk', 'stuck', 'stuff', 'stupid', 'style', 'sub', 'subs', 'subscribe', 'subscribers', 'subscribeï', 'succumbs', 'sucksï', 'suddenly', 'support', 'sure', 'surgery', 'survive', 'surviving', 'swagbucks', 'sweat', 'sweet', 'swift', 'symbolic', 'syndrome', 'tabs', 'tag', 'take', 'talent', 'talented', 'tan', 'target', 'tattoo', 'taxi', 'taylor', 'team', 'tech', 'teespring', 'telephone', 'tell', 'telling', 'terrible', 'text', 'tha', 'than', 'thank', 'thankful', 'thanks', 'thanksï', 'that', 'thats', 'thatâ', 'the', 'theater', 'them', 'then', 'thepiratebay', 'there', 'therefore', 'these', 'they', 'thing', 'things', 'think', 'this', 'those', 'three', 'thumbs', 'tiger', 'tiget', 'time', 'titles', 'titsï', 'to', 'today', 'toilet', 'tomuciux99', 'tonight', 'too', 'took', 'toolid', 'top', 'topic', 'torrent', 'total', 'toutes', 'tq046fuau00ï', 'tqvmï', 'track', 'trailer', 'transformation', 'trash', 'treu', 'tricep', 'trojmiasto', 'true', 'trusted', 'try', 'trying', 'tsu', 'turn', 'tv', 'twin', 'twins', 'twitch', 'twitter', 'ty', 'type', 'uk', 'understand', 'unique', 'until', 'up', 'update', 'upload', 'ur', 'uranus', 'url', 'us', 'use', 'useless', 'user', 'usg', 'using', 'ut15kxï', 'utf8', 'utter', 'uultucdihsdei01by1ow7wuqï', 'vanishes', 'vb', 've', 'ved', 'vena', 'venezuela', 'ver', 'verses', 'version', 'very', 'vet', 'vevo', 'video', 'videoes', 'videos', 'videoï', 'vids', 'vidz', 'view', 'views', 'vimeo', 'vips', 'viralangels', 'visit', 'visiting', 'viva', 'vma', 'voice', 'volume', 'vote', 'votekatyperry', 'vps', 'wait', 'wanna', 'want', 'wanted', 'warmth', 'was', 'wasting', 'watch', 'water', 'wattpad', 'way', 'wayï', 'waznuysgqjnrdy6vucklplzonyisdkc9ebx', 'we', 'wear', 'web', 'wednesday', 'weird', 'well', 'were', 'weâ', 'what', 'when', 'where', 'which', 'while', 'who', 'whore', 'why', 'wikipedia', 'will', 'win', 'wingzï', 'wisdom', 'with', 'without', 'wobbler', 'woman', 'wonder', 'wont', 'words', 'worhty', 'working', 'world', 'worry', 'would', 'wouldn', 'wow', 'write', 'written', 'www', 'x6j4gbrneï', 'xdï', 'xoxo', 'xoxoï', 'xvid', 'xx', 'xxï', 'yay', 'year', 'years', 'yerki', 'yesterday', 'yet', 'you', 'young', 'younique', 'youniqueproducts', 'your', 'yourelink', 'youtu', 'youtube', 'youtuber', 'youâ', 'youï', 'yoï', 'yvovhafsv5qzzqo', 'zimbabwe', 'ªâ', '²60â', '²6â', '²ï', 'îÿh', 'ðÿ', 'žðÿ']\n"
     ]
    }
   ],
   "source": [
    "contentCorpusTestKP = xTestKP['CONTENT']\n",
    "xTestKPTFIDF = vectorizerKP.transform(contentCorpusTestKP)\n",
    "print(vectorizerKP.get_feature_names())"
   ]
  },
  {
   "cell_type": "code",
   "execution_count": 58,
   "metadata": {},
   "outputs": [
    {
     "name": "stdout",
     "output_type": "stream",
     "text": [
      "Best Lambda:-  1e-05\n"
     ]
    }
   ],
   "source": [
    "# Best Lambda for L2-penalized logistic regression of Katy Perry\n",
    "logisticKP = linear_model.LogisticRegression()\n",
    "penaltyKP1 = ['l2']\n",
    "cKP1 = [1/pow(10, i) for i in range(-5, 6)]\n",
    "\n",
    "parametersKP1 = {\"C\": cKP1, \"penalty\": penaltyKP1, \"solver\": ['liblinear']}\n",
    "gridcvKP = GridSearchCV(logisticKP, parametersKP1, cv=5, n_jobs=-1)\n",
    "best_modelKPL2 = gridcvKP.fit(xTrainKPTFIDF, yTrainKP)\n",
    "print('Best Lambda:- ', 1/best_modelKPL2.best_estimator_.get_params()['C'])"
   ]
  },
  {
   "cell_type": "code",
   "execution_count": 59,
   "metadata": {},
   "outputs": [
    {
     "name": "stdout",
     "output_type": "stream",
     "text": [
      "Training Values for L2 Katy Perry:\n",
      "Confusion Matrix:\n",
      "[[140   0]\n",
      " [  0 140]]\n",
      "ROC AUC: 1.0\n",
      "Precision: 1.0\n",
      "Accuracy Score: 1.0\n",
      "Recall: 1.0\n",
      "F1 Score: 1.0\n"
     ]
    }
   ],
   "source": [
    "# L2-penalized logistic regression for Katy Perry train\n",
    "y_trainKPL2 = best_modelKPL2.predict(xTrainKPTFIDF)\n",
    "\n",
    "print(\"Training Values for L2 Katy Perry:\")\n",
    "print(\"Confusion Matrix:\")\n",
    "print(confusion_matrix(yTrainKP, y_trainKPL2))\n",
    "print(\"ROC AUC:\", metrics.roc_auc_score(yTrainKP, y_trainKPL2))\n",
    "print(\"Precision:\", metrics.precision_score(yTrainKP, y_trainKPL2))\n",
    "print(\"Accuracy Score:\", metrics.accuracy_score(yTrainKP, y_trainKPL2))\n",
    "print(\"Recall:\", metrics.recall_score(yTrainKP, y_trainKPL2))\n",
    "print(\"F1 Score:\", metrics.f1_score(yTrainKP, y_trainKPL2))"
   ]
  },
  {
   "cell_type": "code",
   "execution_count": 60,
   "metadata": {},
   "outputs": [],
   "source": [
    "# L2-penalized logistic regression for Katy Perry test\n",
    "test_modelKP = gridcvKP.fit(xTestKPTFIDF, yTestKP)\n",
    "y_testKPL2 = test_modelKP.predict(xTestKPTFIDF)\n",
    "\n",
    "KPL2rocauc = metrics.roc_auc_score(yTestKP, y_testKPL2)*100\n",
    "KPL2precision = metrics.precision_score(yTestKP, y_testKPL2)*100\n",
    "KPL2accuracy = metrics.accuracy_score(yTestKP, y_testKPL2)*100\n",
    "KPL2recall = metrics.recall_score(yTestKP, y_testKPL2)*100\n",
    "KPL2F1 = metrics.f1_score(yTestKP, y_testKPL2)*100"
   ]
  },
  {
   "cell_type": "code",
   "execution_count": 61,
   "metadata": {},
   "outputs": [
    {
     "name": "stdout",
     "output_type": "stream",
     "text": [
      "Best Lambda:-  0.0001\n"
     ]
    }
   ],
   "source": [
    "# Best Lambda for L1-penalized logistic regression of Katy Perry\n",
    "logistiqueKP = linear_model.LogisticRegression()\n",
    "penaltyKP2 = ['l1']\n",
    "cKP2 = [1/pow(10, i) for i in range(-5, 6)]\n",
    "\n",
    "parametersKP2 = {\"C\": cKP2, \"penalty\": penaltyKP2, \"solver\": ['liblinear']}\n",
    "gridcv2KP = GridSearchCV(logistiqueKP, parametersKP2, cv=5, n_jobs=-1)\n",
    "best_modelKPL1 = gridcv2KP.fit(xTrainKPTFIDF, yTrainKP)\n",
    "print('Best Lambda:- ', 1/best_modelKPL1.best_estimator_.get_params()['C'])"
   ]
  },
  {
   "cell_type": "code",
   "execution_count": 62,
   "metadata": {},
   "outputs": [
    {
     "name": "stdout",
     "output_type": "stream",
     "text": [
      "Training Values for L1 Katy Perry:\n",
      "Confusion Matrix:\n",
      "[[140   0]\n",
      " [  0 140]]\n",
      "ROC AUC: 1.0\n",
      "Precision: 1.0\n",
      "Accuracy Score: 1.0\n",
      "Recall: 1.0\n",
      "F1 Score: 1.0\n"
     ]
    }
   ],
   "source": [
    "# L1-penalized logistic regression for Katy Perry train\n",
    "y_trainKPL1 = best_modelKPL1.predict(xTrainKPTFIDF)\n",
    "\n",
    "print(\"Training Values for L1 Katy Perry:\")\n",
    "print(\"Confusion Matrix:\")\n",
    "print(confusion_matrix(yTrainKP, y_trainKPL1))\n",
    "print(\"ROC AUC:\", metrics.roc_auc_score(yTrainKP, y_trainKPL1))\n",
    "print(\"Precision:\", metrics.precision_score(yTrainKP, y_trainKPL1))\n",
    "print(\"Accuracy Score:\", metrics.accuracy_score(yTrainKP, y_trainKPL1))\n",
    "print(\"Recall:\", metrics.recall_score(yTrainKP, y_trainKPL1))\n",
    "print(\"F1 Score:\", metrics.f1_score(yTrainKP, y_trainKPL1))"
   ]
  },
  {
   "cell_type": "code",
   "execution_count": 63,
   "metadata": {},
   "outputs": [],
   "source": [
    "# L1-penalized logistic regression for Katy Perry test\n",
    "test_modelKP = gridcv2KP.fit(xTestKPTFIDF, yTestKP)\n",
    "y_testKPL1 = test_modelKP.predict(xTestKPTFIDF)\n",
    "\n",
    "KPL1rocauc = metrics.roc_auc_score(yTestKP, y_testKPL1)*100\n",
    "KPL1precision = metrics.precision_score(yTestKP, y_testKPL1)*100\n",
    "KPL1accuracy = metrics.accuracy_score(yTestKP, y_testKPL1)*100\n",
    "KPL1recall = metrics.recall_score(yTestKP, y_testKPL1)*100\n",
    "KPL1F1 = metrics.f1_score(yTestKP, y_testKPL1)*100"
   ]
  },
  {
   "cell_type": "code",
   "execution_count": 64,
   "metadata": {},
   "outputs": [
    {
     "name": "stdout",
     "output_type": "stream",
     "text": [
      "Training Values for Gaussian NB Katy Perry:\n",
      "Confusion Matrix:\n",
      "[[140   0]\n",
      " [  0 140]]\n",
      "ROC AUC: 1.0\n",
      "Precision: 1.0\n",
      "Accuracy Score: 1.0\n",
      "Recall: 1.0\n",
      "F1 Score: 1.0\n"
     ]
    }
   ],
   "source": [
    "# Gaussian NB for Katy Perry train\n",
    "Gaussian = GaussianNB()\n",
    "x_trainArrayKP = xTrainKPTFIDF.toarray()\n",
    "GaussianTrainKP = Gaussian.fit(x_trainArrayKP, yTrainKP)\n",
    "y_trainPredsKP = GaussianTrainKP.predict(x_trainArrayKP)\n",
    "\n",
    "print(\"Training Values for Gaussian NB Katy Perry:\")\n",
    "print(\"Confusion Matrix:\")\n",
    "print(confusion_matrix(yTrainKP, y_trainPredsKP))\n",
    "print(\"ROC AUC:\", metrics.roc_auc_score(yTrainKP, y_trainPredsKP))\n",
    "print(\"Precision:\", metrics.precision_score(yTrainKP, y_trainPredsKP))\n",
    "print(\"Accuracy Score:\", metrics.accuracy_score(yTrainKP, y_trainPredsKP))\n",
    "print(\"Recall:\", metrics.recall_score(yTrainKP, y_trainPredsKP))\n",
    "print(\"F1 Score:\", metrics.f1_score(yTrainKP, y_trainPredsKP))"
   ]
  },
  {
   "cell_type": "code",
   "execution_count": 65,
   "metadata": {},
   "outputs": [],
   "source": [
    "# Gaussian NB for Katy Perry test\n",
    "x_testArrayKP = xTestKPTFIDF.toarray()\n",
    "GaussianTestKP = Gaussian.fit(x_testArrayKP, yTestKP)\n",
    "y_testPredsKP = GaussianTestKP.predict(x_testArrayKP)\n",
    "\n",
    "KPGaussianrocauc = metrics.roc_auc_score(yTestKP, y_testPredsKP)*100\n",
    "KPGaussianprecision = metrics.precision_score(yTestKP, y_testPredsKP)*100\n",
    "KPGaussianaccuracy = metrics.accuracy_score(yTestKP, y_testPredsKP)*100\n",
    "KPGaussianrecall = metrics.recall_score(yTestKP, y_testPredsKP)*100\n",
    "KPGaussianF1 = metrics.f1_score(yTestKP, y_testPredsKP)*100"
   ]
  },
  {
   "cell_type": "code",
   "execution_count": 66,
   "metadata": {},
   "outputs": [
    {
     "name": "stdout",
     "output_type": "stream",
     "text": [
      "Training Values for Multinomial NB Katy Perry:\n",
      "Confusion Matrix:\n",
      "[[140   0]\n",
      " [  2 138]]\n",
      "ROC AUC: 0.9928571428571429\n",
      "Precision: 1.0\n",
      "Accuracy Score: 0.9928571428571429\n",
      "Recall: 0.9857142857142858\n",
      "F1 Score: 0.9928057553956835\n"
     ]
    }
   ],
   "source": [
    "# Multinomial NB for Katy Perry train\n",
    "multi = MultinomialNB()\n",
    "multiTrainKP = multi.fit(x_trainArrayKP, yTrainKP)\n",
    "y_trainPredssKP = multiTrainKP.predict(x_trainArrayKP)\n",
    "\n",
    "print(\"Training Values for Multinomial NB Katy Perry:\")\n",
    "print(\"Confusion Matrix:\")\n",
    "print(confusion_matrix(yTrainKP, y_trainPredssKP))\n",
    "print(\"ROC AUC:\", metrics.roc_auc_score(yTrainKP, y_trainPredssKP))\n",
    "print(\"Precision:\", metrics.precision_score(yTrainKP, y_trainPredssKP))\n",
    "print(\"Accuracy Score:\", metrics.accuracy_score(yTrainKP, y_trainPredssKP))\n",
    "print(\"Recall:\", metrics.recall_score(yTrainKP, y_trainPredssKP))\n",
    "print(\"F1 Score:\", metrics.f1_score(yTrainKP, y_trainPredssKP))"
   ]
  },
  {
   "cell_type": "code",
   "execution_count": 67,
   "metadata": {},
   "outputs": [],
   "source": [
    "# Multinomial NB for Katy Perry test \n",
    "multiTestKP = multi.fit(x_testArrayKP, yTestKP)\n",
    "y_testPredssKP = multiTestKP.predict(x_testArrayKP)\n",
    "\n",
    "KPMultirocauc = metrics.roc_auc_score(yTestKP, y_testPredssKP)*100\n",
    "KPMultiprecision = metrics.precision_score(yTestKP, y_testPredssKP)*100\n",
    "KPMultiaccuracy = metrics.accuracy_score(yTestKP, y_testPredssKP)*100\n",
    "KPMultirecall = metrics.recall_score(yTestKP, y_testPredssKP)*100\n",
    "KPMultiF1 = metrics.f1_score(yTestKP, y_testPredssKP)*100"
   ]
  },
  {
   "cell_type": "code",
   "execution_count": 68,
   "metadata": {},
   "outputs": [
    {
     "name": "stdout",
     "output_type": "stream",
     "text": [
      "Katy Perry:\n"
     ]
    },
    {
     "data": {
      "text/html": [
       "<div>\n",
       "<style scoped>\n",
       "    .dataframe tbody tr th:only-of-type {\n",
       "        vertical-align: middle;\n",
       "    }\n",
       "\n",
       "    .dataframe tbody tr th {\n",
       "        vertical-align: top;\n",
       "    }\n",
       "\n",
       "    .dataframe thead th {\n",
       "        text-align: right;\n",
       "    }\n",
       "</style>\n",
       "<table border=\"1\" class=\"dataframe\">\n",
       "  <thead>\n",
       "    <tr style=\"text-align: right;\">\n",
       "      <th></th>\n",
       "      <th>Instance</th>\n",
       "      <th>Accuracy (%)</th>\n",
       "      <th>Precision (%)</th>\n",
       "      <th>Recall (%)</th>\n",
       "      <th>F1 (%)</th>\n",
       "      <th>AUC (%)</th>\n",
       "    </tr>\n",
       "  </thead>\n",
       "  <tbody>\n",
       "    <tr>\n",
       "      <td>0</td>\n",
       "      <td>NB-Gaussian</td>\n",
       "      <td>98.571429</td>\n",
       "      <td>100.0</td>\n",
       "      <td>97.142857</td>\n",
       "      <td>98.550725</td>\n",
       "      <td>98.571429</td>\n",
       "    </tr>\n",
       "    <tr>\n",
       "      <td>1</td>\n",
       "      <td>NB-Multinomial</td>\n",
       "      <td>98.571429</td>\n",
       "      <td>100.0</td>\n",
       "      <td>97.142857</td>\n",
       "      <td>98.550725</td>\n",
       "      <td>98.571429</td>\n",
       "    </tr>\n",
       "    <tr>\n",
       "      <td>2</td>\n",
       "      <td>L2</td>\n",
       "      <td>100.000000</td>\n",
       "      <td>100.0</td>\n",
       "      <td>100.000000</td>\n",
       "      <td>100.000000</td>\n",
       "      <td>100.000000</td>\n",
       "    </tr>\n",
       "    <tr>\n",
       "      <td>3</td>\n",
       "      <td>L1</td>\n",
       "      <td>100.000000</td>\n",
       "      <td>100.0</td>\n",
       "      <td>100.000000</td>\n",
       "      <td>100.000000</td>\n",
       "      <td>100.000000</td>\n",
       "    </tr>\n",
       "  </tbody>\n",
       "</table>\n",
       "</div>"
      ],
      "text/plain": [
       "         Instance  Accuracy (%)  Precision (%)  Recall (%)      F1 (%)  \\\n",
       "0     NB-Gaussian     98.571429          100.0   97.142857   98.550725   \n",
       "1  NB-Multinomial     98.571429          100.0   97.142857   98.550725   \n",
       "2              L2    100.000000          100.0  100.000000  100.000000   \n",
       "3              L1    100.000000          100.0  100.000000  100.000000   \n",
       "\n",
       "      AUC (%)  \n",
       "0   98.571429  \n",
       "1   98.571429  \n",
       "2  100.000000  \n",
       "3  100.000000  "
      ]
     },
     "execution_count": 68,
     "metadata": {},
     "output_type": "execute_result"
    }
   ],
   "source": [
    "# Creation of data frame with results for Katy Perry \n",
    "dataKP = {'Instance':['NB-Gaussian', 'NB-Multinomial', 'L2', 'L1'],\n",
    "        'Accuracy (%)':[KPGaussianaccuracy, KPMultiaccuracy, KPL2accuracy, KPL1accuracy], \n",
    "        'Precision (%)':[KPGaussianprecision, KPMultiprecision, KPL2precision, KPL1precision], \n",
    "           'Recall (%)':[KPGaussianrecall, KPMultirecall, KPL2recall, KPL1recall],\n",
    "           'F1 (%)':[KPGaussianF1, KPMultiF1, KPL2F1, KPL1F1], \n",
    "           'AUC (%)': [KPGaussianrocauc, KPMultirocauc, KPL2rocauc, KPL1rocauc]}\n",
    "  \n",
    "dfKP = pd.DataFrame(dataKP)\n",
    "print('Katy Perry:')\n",
    "dfKP"
   ]
  },
  {
   "cell_type": "markdown",
   "metadata": {},
   "source": [
    "Creation of Table for LMFAO"
   ]
  },
  {
   "cell_type": "code",
   "execution_count": 69,
   "metadata": {},
   "outputs": [
    {
     "data": {
      "text/html": [
       "<div>\n",
       "<style scoped>\n",
       "    .dataframe tbody tr th:only-of-type {\n",
       "        vertical-align: middle;\n",
       "    }\n",
       "\n",
       "    .dataframe tbody tr th {\n",
       "        vertical-align: top;\n",
       "    }\n",
       "\n",
       "    .dataframe thead th {\n",
       "        text-align: right;\n",
       "    }\n",
       "</style>\n",
       "<table border=\"1\" class=\"dataframe\">\n",
       "  <thead>\n",
       "    <tr style=\"text-align: right;\">\n",
       "      <th></th>\n",
       "      <th>COMMENT_ID</th>\n",
       "      <th>AUTHOR</th>\n",
       "      <th>DATE</th>\n",
       "      <th>CONTENT</th>\n",
       "      <th>CLASS</th>\n",
       "    </tr>\n",
       "  </thead>\n",
       "  <tbody>\n",
       "    <tr>\n",
       "      <td>0</td>\n",
       "      <td>z13uwn2heqndtr5g304ccv5j5kqqzxjadmc0k</td>\n",
       "      <td>Corey Wilson</td>\n",
       "      <td>2015-05-28T21:39:52.376000</td>\n",
       "      <td>&lt;a href=\"http://www.youtube.com/watch?v=KQ6zr6...</td>\n",
       "      <td>0</td>\n",
       "    </tr>\n",
       "    <tr>\n",
       "      <td>1</td>\n",
       "      <td>z124jvczaz3dxhnbc04cffk43oiugj25yzo0k</td>\n",
       "      <td>Epic Gaming</td>\n",
       "      <td>2015-05-28T20:07:20.610000</td>\n",
       "      <td>wierd but funnyï»¿</td>\n",
       "      <td>0</td>\n",
       "    </tr>\n",
       "    <tr>\n",
       "      <td>2</td>\n",
       "      <td>z13tczjy5xj0vjmu5231unho1ofey5zdk</td>\n",
       "      <td>LaS Music</td>\n",
       "      <td>2015-05-28T19:23:35.355000</td>\n",
       "      <td>Hey guys, I&amp;#39;m a human.&lt;br /&gt;&lt;br /&gt;&lt;br /&gt;Bu...</td>\n",
       "      <td>1</td>\n",
       "    </tr>\n",
       "    <tr>\n",
       "      <td>3</td>\n",
       "      <td>z13tzr0hdpnayhqqc04cd3zqqqjkf3ngckk0k</td>\n",
       "      <td>Cheryl Fox</td>\n",
       "      <td>2015-05-28T17:49:35.294000</td>\n",
       "      <td>Party Rock....lol...who wants to shuffle!!!ï»¿</td>\n",
       "      <td>0</td>\n",
       "    </tr>\n",
       "    <tr>\n",
       "      <td>4</td>\n",
       "      <td>z12pcvix4zedcjvyb04ccr1r0mr2g5xwyng0k</td>\n",
       "      <td>PATRICK_TW</td>\n",
       "      <td>2015-05-28T16:28:26.818000</td>\n",
       "      <td>Party rockï»¿</td>\n",
       "      <td>0</td>\n",
       "    </tr>\n",
       "  </tbody>\n",
       "</table>\n",
       "</div>"
      ],
      "text/plain": [
       "                              COMMENT_ID        AUTHOR  \\\n",
       "0  z13uwn2heqndtr5g304ccv5j5kqqzxjadmc0k  Corey Wilson   \n",
       "1  z124jvczaz3dxhnbc04cffk43oiugj25yzo0k   Epic Gaming   \n",
       "2      z13tczjy5xj0vjmu5231unho1ofey5zdk     LaS Music   \n",
       "3  z13tzr0hdpnayhqqc04cd3zqqqjkf3ngckk0k    Cheryl Fox   \n",
       "4  z12pcvix4zedcjvyb04ccr1r0mr2g5xwyng0k    PATRICK_TW   \n",
       "\n",
       "                         DATE  \\\n",
       "0  2015-05-28T21:39:52.376000   \n",
       "1  2015-05-28T20:07:20.610000   \n",
       "2  2015-05-28T19:23:35.355000   \n",
       "3  2015-05-28T17:49:35.294000   \n",
       "4  2015-05-28T16:28:26.818000   \n",
       "\n",
       "                                             CONTENT  CLASS  \n",
       "0  <a href=\"http://www.youtube.com/watch?v=KQ6zr6...      0  \n",
       "1                                 wierd but funnyï»¿      0  \n",
       "2  Hey guys, I&#39;m a human.<br /><br /><br />Bu...      1  \n",
       "3     Party Rock....lol...who wants to shuffle!!!ï»¿      0  \n",
       "4                                      Party rockï»¿      0  "
      ]
     },
     "execution_count": 69,
     "metadata": {},
     "output_type": "execute_result"
    }
   ],
   "source": [
    "df4.head()"
   ]
  },
  {
   "cell_type": "code",
   "execution_count": 70,
   "metadata": {},
   "outputs": [
    {
     "name": "stdout",
     "output_type": "stream",
     "text": [
      "(202, 5)\n",
      "(236, 5)\n"
     ]
    }
   ],
   "source": [
    "print(df4[df4['CLASS'] == 0].shape)\n",
    "print(df4[df4['CLASS'] == 1].shape)"
   ]
  },
  {
   "cell_type": "code",
   "execution_count": 71,
   "metadata": {},
   "outputs": [],
   "source": [
    "hammyLMFAO = 0.8 * 202\n",
    "spammyLMFAO = 0.8 * 236"
   ]
  },
  {
   "cell_type": "code",
   "execution_count": 72,
   "metadata": {},
   "outputs": [],
   "source": [
    "# Split into train & test set for LMFAO\n",
    "\n",
    "hamRowsLMFAO = math.floor(hammyLMFAO)\n",
    "spamRowsLMFAO = math.floor(spammyLMFAO)\n",
    "\n",
    "class0_LMFAO = df4.loc[df4['CLASS']==0] \n",
    "class1_LMFAO = df4.loc[df4['CLASS']==1] \n",
    "\n",
    "xHamLMFAO = class0_LMFAO.drop('CLASS', axis=1)\n",
    "yHamLMFAO = class0_LMFAO['CLASS']\n",
    "xSpamLMFAO = class1_LMFAO.drop('CLASS', axis=1)\n",
    "ySpamLMFAO = class1_LMFAO['CLASS']\n",
    "\n",
    "xHamTrainLMFAO = xHamLMFAO[:hamRowsLMFAO]\n",
    "xSpamTrainLMFAO = xSpamLMFAO[:spamRowsLMFAO]\n",
    "yHamTrainLMFAO = yHamLMFAO[:hamRowsLMFAO]\n",
    "ySpamTrainLMFAO = ySpamLMFAO[:spamRowsLMFAO]\n",
    "\n",
    "xHamTestLMFAO = xHamLMFAO[hamRowsLMFAO:]\n",
    "xSpamTestLMFAO = xSpamLMFAO[spamRowsLMFAO:]\n",
    "yHamTestLMFAO = yHamLMFAO[hamRowsLMFAO:]\n",
    "ySpamTestLMFAO = ySpamLMFAO[spamRowsLMFAO:]\n",
    "\n",
    "xTrainsLMFAO = [xHamTrainLMFAO, xSpamTrainLMFAO]\n",
    "xTestsLMFAO = [xHamTestLMFAO, xSpamTestLMFAO]\n",
    "xTrainLMFAO = pd.concat(xTrainsLMFAO)\n",
    "xTestLMFAO = pd.concat(xTestsLMFAO)\n",
    "\n",
    "yTrainsLMFAO = [yHamTrainLMFAO, ySpamTrainLMFAO]\n",
    "yTestsLMFAO = [yHamTestLMFAO, ySpamTestLMFAO]\n",
    "yTrainLMFAO = pd.concat(yTrainsLMFAO)\n",
    "yTestLMFAO = pd.concat(yTestsLMFAO)"
   ]
  },
  {
   "cell_type": "code",
   "execution_count": 73,
   "metadata": {},
   "outputs": [
    {
     "name": "stdout",
     "output_type": "stream",
     "text": [
      "['00', '000', '10', '100', '10000000', '1000000000', '104999962146104962510', '10b35481', '11', '15', '17', '19', '1bi', '1m00s', '1ï', '20', '2004ï', '2011', '2011ï', '2015', '2015â', '2015ï', '2016ï', '23everydayimvaping', '23giraffebruuh', '23kinglothedancer', '23lmfao', '247', '27', '28', '2m19s', '301', '39', '3m', '3m40s', '3m57s', '3ï', '40', '4m11s', '4th', '50', '500', '5000', '505b0232', '57', '5th', '666', '800', '851', '90', '90000000000000000000000000000000000000000000000000000000000000000000000000000000000000000000000000000000000000000000000000000000000000000000000000000000000000000000000000000000000000000000000000000000000000000000000000000000000000000000000000000000000000000000000000000000000000000000000000000000000000000000000000000000000000000000000000000000000000000â', '920', '__', '______________________', '______________________________', 'abonner', 'about', 'act', 'actors', 'actresses', 'actually', 'adoult', 'advertisements', 'after', 'agree', 'ah', 'ahhh', 'airlines', 'all', 'already', 'also', 'always', 'am', 'amendment', 'americans', 'amp', 'an', 'anacondaï', 'and', 'answer', 'anthem', 'any', 'anymore', 'anyone', 'anywon', 'appreciated', 'are', 'arguements', 'around', 'as', 'ask', 'ass', 'at', 'attention', 'awesom', 'awesome', 'awesomeï', 'awsome', 'awsomeï', 'aï', 'babyï', 'back', 'backï', 'bang', 'be', 'beast', 'beat', 'beautiful', 'because', 'become', 'been', 'before', 'being', 'believe', 'believing', 'bennett', 'best', 'bestï', 'big', 'billion', 'billionï', 'birthday', 'bit', 'bitch', 'black', 'blast', 'blow', 'bones', 'bored', 'born', 'box', 'br', 'brooooo', 'brother', 'brought', 'buggti', 'business', 'but', 'butt', 'butts', 'by', 'came', 'can', 'canal', 'canalâ', 'cant', 'card', 'career', 'cares', 'caution', 'certification', 'chance', 'chanel', 'chanell', 'chanellï', 'change', 'channel', 'channels', 'channelï', 'chaã', 'check', 'checking', 'cheers', 'chose', 'christianity', 'cking', 'class', 'clean', 'close', 'club', 'collaborator', 'com', 'come', 'comes', 'comment', 'comments', 'companions', 'complaints', 'conference', 'congress', 'console', 'consolidating', 'constitution', 'contact', 'cool', 'coolï', 'cooooooooooooolllllllllllï', 'copied', 'core', 'could', 'couple', 'courseï', 'cover', 'crazy', 'crazyï', 'criminal', 'curse', 'cuteâ', 'da', 'damn', 'dance', 'dancing', 'dang', 'dat', 'day', 'days', 'dear', 'death', 'decent', 'decided', 'deo', 'did', 'didn', 'disappointed', 'disposable', 'diving', 'dj', 'do', 'doctor', 'doe', 'does', 'doing', 'dollars', 'don', 'donate', 'dosing', 'dot', 'downs', 'doï', 'drama', 'dream', 'dressed', 'drop', 'dudes', 'dudesï', 'due', 'duelï', 'dï', 'earth', 'earthquake', 'educated', 'elongate', 'else', 'email', 'end', 'enjoy', 'entertainers', 'entertainment', 'epic', 'epicï', 'even', 'ever', 'every', 'everybody', 'everyday', 'everydayimvaping', 'everydayï', 'everyone', 'everything', 'everywhereï', 'everðÿ', 'exceptions', 'exists', 'expo', 'extinct', 'eyes', 'faded', 'fairrrrrrrï', 'fangirls', 'fans', 'fast', 'favor', 'favorite', 'faze', 'fb', 'fe', 'fee', 'feel', 'feelzï', 'feet', 'fegelein', 'field', 'fight', 'fighting', 'filibuster', 'finally', 'first', 'floor', 'follow', 'for', 'founded', 'free', 'freemyapps', 'freind', 'freinds', 'fricking', 'friends', 'from', 'front', 'ft', 'fu', 'fuck', 'fuckin', 'fucking', 'fuckï', 'fulfilling', 'fun', 'funny', 'funnyï', 'games', 'gamingï', 'gangnam', 'gardens', 'gat', 'gay', 'generationï', 'genocide', 'get', 'gets', 'giraffe', 'giraffebruuh', 'girl', 'give', 'glad', 'goal', 'gofundme', 'going', 'goingï', 'golden', 'good', 'goodï', 'google', 'goonrock', 'gooâ', 'got', 'gotta', 'gracias', 'guessï', 'guy', 'guys', 'had', 'happened', 'hard', 'has', 'hashtag', 'hate', 'have', 'hbbhhhghï', 'he', 'hear', 'heard', 'hello', 'help', 'helpmypitbull', 'her', 'herd', 'here', 'hereï', 'heroðÿ', 'hey', 'hi', 'hire', 'hit', 'hjalpï', 'holy', 'home', 'hope', 'hot', 'hours', 'house', 'housee', 'how', 'href', 'http', 'https', 'human', 'hurt', 'id', 'idaho', 'idiots', 'if', 'iiiiiiiiiii', 'il', 'im', 'image', 'in', 'increible', 'increideblï', 'information', 'insane', 'insanely', 'inscreva', 'insult', 'invito', 'inï', 'is', 'isnt', 'it', 'its', 'itï', 'iâ', 'iï', 'jam', 'jesses', 'join', 'joking', 'june', 'just', 'kashoo', 'keep', 'kid', 'kiddingï', 'kik', 'kill', 'kinglothedancer', 'knew', 'know', 'knows', 'kq6zr6kcpj8', 'last', 'later', 'laughing', 'laura', 'lauren', 'leave', 'let', 'lets', 'life', 'lifeï', 'like', 'likeeeeï', 'likeeeï', 'likeï', 'likkeeï', 'listen', 'listening', 'literally', 'little', 'live', 'll', 'llikee', 'lmao', 'lmfao', 'lmfaois', 'lmfaovevo', 'lmfaoï', 'lol', 'look', 'los', 'love', 'lovee', 'loves', 'loveâ', 'loï', 'lt', 'ma', 'made', 'mahogany', 'make', 'makes', 'man', 'many', 'maylaysia', 'me', 'mee', 'meh', 'meilleur', 'mejor', 'melbourne', 'melhor', 'memoriesï', 'men', 'merci', 'messages', 'metal', 'meu', 'meâ', 'mgtow', 'mi', 'might', 'mil', 'million', 'minaj', 'mindblowing', 'mindï', 'minecraft', 'minute', 'miss', 'missing', 'mm', 'money', 'montageparodies', 'month', 'more', 'morning', 'most', 'moves', 'movesï', 'much', 'muchï', 'music', 'musiqueï', 'my', 'myself', 'mï', 'naive', 'name', 'nation', 'ne', 'nearly', 'need', 'needed', 'nepalï', 'never', 'new', 'news', 'next', 'nice', 'niceï', 'nicolaysen2', 'night', 'nikki', 'no', 'nofollow', 'not', 'now', 'nowï', 'nsa', 'nuketown', 'nut', 'obrigado', 'of', 'off', 'oh', 'oid', 'okay', 'ol', 'old', 'oldï', 'omg', 'omgï', 'on', 'one', 'online', 'opponents', 'or', 'ot', 'other', 'others', 'our', 'ourâ', 'out', 'outs', 'over', 'pander26', 'part', 'party', 'partying', 'partyï', 'partï', 'past', 'patriot', 'paul', 'pcmasterace', 'peace', 'peaceâœœï', 'people', 'performe', 'person', 'pewdiepie', 'phoneï', 'picture', 'pigment', 'pitbull', 'playlist', 'plays', 'plaã', 'pleas', 'please', 'pleaseï', 'plus', 'plzzzzzzz', 'plzzzzzzzzzzzzzzzzzzzzzzzzzzzzzzzï', 'plï', 'popular', 'por', 'post', 'press', 'privacy', 'pro', 'producer', 'profit', 'proflink', 'proflinkprefix', 'proflinkwrapper', 'protest', 'prove', 'providers', 'ps4', 'publishing', 'put', 'pï', 'qqï', 'questions', 'quick', 'quot', 'rand', 'rap', 're', 'reach', 'really', 'reason', 'reasonï', 'record', 'rel', 'religious', 'remeber', 'remember', 'reminds', 'remixer', 'renewal', 'respect', 'reunion', 'rich', 'right', 'rights', 'robo', 'robot', 'rock', 'rockin', 'rocks', 'rockï', 'rollin', 'root', 'russia', 'sander', 'sang', 'saw', 'school', 'schoolï', 'scoping', 'scrubs', 'se', 'search', 'see', 'seems', 'senate', 'senator', 'senators', 'seriously', 'sexy', 'shake', 'share', 'shareï', 'shell', 'shirt', 'shit', 'shooting', 'should', 'showï', 'shrek', 'shuffle', 'shuffles', 'shuffleï', 'shufflin', 'shuffling', 'shufflinï', 'si', 'singers', 'skin', 'skip', 'sky', 'skype', 'sleep', 'smileï', 'so', 'som', 'some', 'someone', 'song', 'songs', 'songsï', 'songï', 'soon', 'sooooo', 'soooooooooooooooooooooooooooooooooooooooooooooooooo', 'sorry', 'span', 'spelled', 'spent', 'spinal', 'spongebob', 'spooked', 'spookinati', 'spread', 'spying', 'start', 'started', 'still', 'stop', 'strong', 'style', 'sub', 'subs', 'subscrib', 'subscribe', 'subscriber', 'subscribers', 'subscribersï', 'subscriberï', 'subscribeâ', 'subscribeï', 'subscribirse', 'such', 'suck', 'summer', 'super', 'superbbb', 'supermariologan', 'superr', 'support', 'sure', 'surgery', 'suscriba', 'suscribe', 'swear', 'switch', 'take', 'talented', 'tango', 'tell', 'tensionâ', 'than', 'thank', 'thanks', 'that', 'thats', 'the', 'their', 'them', 'theme', 'then', 'there', 'therealterrell_', 'theres', 'these', 'they', 'thing', 'thingie', 'things', 'think', 'this', 'those', 'thot', 'though', 'thought', 'thoughtsï', 'thumbs', 'thxï', 'time', 'times', 'tips', 'to', 'today', 'tomorrow', 'tonight', 'too', 'top', 'track', 'training', 'triedï', 'trolls', 'true', 'trust', 'try', 'tweet', 'twitter', 'un', 'uncle', 'unlike', 'unspookedâ', 'until', 'up', 'uploaded', 'uploading', 'upï', 'ur', 'url', 'used', 'utility', 'vanoss', 've', 'very', 'vet', 'video', 'videos', 'videoâ', 'videoï', 'vids', 'vidã', 'view', 'viewed', 'views', 'virucide', 'vous', 'vã', 'vï', 'wait', 'wanna', 'want', 'wants', 'wars', 'was', 'watch', 'watched', 'watchin', 'watching', 'way', 'we', 'well', 'went', 'were', 'weren', 'what', 'when', 'where', 'which', 'while', 'white', 'who', 'whole', 'why', 'wierd', 'will', 'wish', 'with', 'woke', 'women', 'won', 'word', 'work', 'world', 'worldwide', 'wow', 'wowwwwwwwwwwwwwwwwwwwwwwwwwwwwwwï', 'wrong', 'www', 'xdï', 'yeah', 'yeahï', 'year', 'years', 'yeaï', 'yes', 'yesterday', 'yo', 'you', 'your', 'youtu', 'youtub', 'youtube', 'youtubeï', 'youï', '³ï', '³ðÿ', 'µðÿ', '¹ðÿ', '¹ðÿž', 'ºâ', 'ºï', 'ºðÿ', 'ðÿ', 'ðÿœˆðÿœˆðÿœˆï', 'ðÿš', 'ðÿž', 'øª', 'ø¹ù', 'ÿðÿ', 'œâ', 'œï', 'œðÿ', 'šðÿ', 'žâ', 'žï', 'ˆâ']\n"
     ]
    }
   ],
   "source": [
    "# TFIDF for LMFAO train & test \n",
    "contentCorpusTrainLMFAO = xTrainLMFAO['CONTENT']\n",
    "vectorizerLMFAO = TfidfVectorizer()\n",
    "xTrainLMFAOTFIDF = vectorizerLMFAO.fit_transform(contentCorpusTrainLMFAO)\n",
    "print(vectorizerLMFAO.get_feature_names())"
   ]
  },
  {
   "cell_type": "code",
   "execution_count": 74,
   "metadata": {},
   "outputs": [
    {
     "name": "stdout",
     "output_type": "stream",
     "text": [
      "['00', '000', '10', '100', '10000000', '1000000000', '104999962146104962510', '10b35481', '11', '15', '17', '19', '1bi', '1m00s', '1ï', '20', '2004ï', '2011', '2011ï', '2015', '2015â', '2015ï', '2016ï', '23everydayimvaping', '23giraffebruuh', '23kinglothedancer', '23lmfao', '247', '27', '28', '2m19s', '301', '39', '3m', '3m40s', '3m57s', '3ï', '40', '4m11s', '4th', '50', '500', '5000', '505b0232', '57', '5th', '666', '800', '851', '90', '90000000000000000000000000000000000000000000000000000000000000000000000000000000000000000000000000000000000000000000000000000000000000000000000000000000000000000000000000000000000000000000000000000000000000000000000000000000000000000000000000000000000000000000000000000000000000000000000000000000000000000000000000000000000000000000000000000000000000000â', '920', '__', '______________________', '______________________________', 'abonner', 'about', 'act', 'actors', 'actresses', 'actually', 'adoult', 'advertisements', 'after', 'agree', 'ah', 'ahhh', 'airlines', 'all', 'already', 'also', 'always', 'am', 'amendment', 'americans', 'amp', 'an', 'anacondaï', 'and', 'answer', 'anthem', 'any', 'anymore', 'anyone', 'anywon', 'appreciated', 'are', 'arguements', 'around', 'as', 'ask', 'ass', 'at', 'attention', 'awesom', 'awesome', 'awesomeï', 'awsome', 'awsomeï', 'aï', 'babyï', 'back', 'backï', 'bang', 'be', 'beast', 'beat', 'beautiful', 'because', 'become', 'been', 'before', 'being', 'believe', 'believing', 'bennett', 'best', 'bestï', 'big', 'billion', 'billionï', 'birthday', 'bit', 'bitch', 'black', 'blast', 'blow', 'bones', 'bored', 'born', 'box', 'br', 'brooooo', 'brother', 'brought', 'buggti', 'business', 'but', 'butt', 'butts', 'by', 'came', 'can', 'canal', 'canalâ', 'cant', 'card', 'career', 'cares', 'caution', 'certification', 'chance', 'chanel', 'chanell', 'chanellï', 'change', 'channel', 'channels', 'channelï', 'chaã', 'check', 'checking', 'cheers', 'chose', 'christianity', 'cking', 'class', 'clean', 'close', 'club', 'collaborator', 'com', 'come', 'comes', 'comment', 'comments', 'companions', 'complaints', 'conference', 'congress', 'console', 'consolidating', 'constitution', 'contact', 'cool', 'coolï', 'cooooooooooooolllllllllllï', 'copied', 'core', 'could', 'couple', 'courseï', 'cover', 'crazy', 'crazyï', 'criminal', 'curse', 'cuteâ', 'da', 'damn', 'dance', 'dancing', 'dang', 'dat', 'day', 'days', 'dear', 'death', 'decent', 'decided', 'deo', 'did', 'didn', 'disappointed', 'disposable', 'diving', 'dj', 'do', 'doctor', 'doe', 'does', 'doing', 'dollars', 'don', 'donate', 'dosing', 'dot', 'downs', 'doï', 'drama', 'dream', 'dressed', 'drop', 'dudes', 'dudesï', 'due', 'duelï', 'dï', 'earth', 'earthquake', 'educated', 'elongate', 'else', 'email', 'end', 'enjoy', 'entertainers', 'entertainment', 'epic', 'epicï', 'even', 'ever', 'every', 'everybody', 'everyday', 'everydayimvaping', 'everydayï', 'everyone', 'everything', 'everywhereï', 'everðÿ', 'exceptions', 'exists', 'expo', 'extinct', 'eyes', 'faded', 'fairrrrrrrï', 'fangirls', 'fans', 'fast', 'favor', 'favorite', 'faze', 'fb', 'fe', 'fee', 'feel', 'feelzï', 'feet', 'fegelein', 'field', 'fight', 'fighting', 'filibuster', 'finally', 'first', 'floor', 'follow', 'for', 'founded', 'free', 'freemyapps', 'freind', 'freinds', 'fricking', 'friends', 'from', 'front', 'ft', 'fu', 'fuck', 'fuckin', 'fucking', 'fuckï', 'fulfilling', 'fun', 'funny', 'funnyï', 'games', 'gamingï', 'gangnam', 'gardens', 'gat', 'gay', 'generationï', 'genocide', 'get', 'gets', 'giraffe', 'giraffebruuh', 'girl', 'give', 'glad', 'goal', 'gofundme', 'going', 'goingï', 'golden', 'good', 'goodï', 'google', 'goonrock', 'gooâ', 'got', 'gotta', 'gracias', 'guessï', 'guy', 'guys', 'had', 'happened', 'hard', 'has', 'hashtag', 'hate', 'have', 'hbbhhhghï', 'he', 'hear', 'heard', 'hello', 'help', 'helpmypitbull', 'her', 'herd', 'here', 'hereï', 'heroðÿ', 'hey', 'hi', 'hire', 'hit', 'hjalpï', 'holy', 'home', 'hope', 'hot', 'hours', 'house', 'housee', 'how', 'href', 'http', 'https', 'human', 'hurt', 'id', 'idaho', 'idiots', 'if', 'iiiiiiiiiii', 'il', 'im', 'image', 'in', 'increible', 'increideblï', 'information', 'insane', 'insanely', 'inscreva', 'insult', 'invito', 'inï', 'is', 'isnt', 'it', 'its', 'itï', 'iâ', 'iï', 'jam', 'jesses', 'join', 'joking', 'june', 'just', 'kashoo', 'keep', 'kid', 'kiddingï', 'kik', 'kill', 'kinglothedancer', 'knew', 'know', 'knows', 'kq6zr6kcpj8', 'last', 'later', 'laughing', 'laura', 'lauren', 'leave', 'let', 'lets', 'life', 'lifeï', 'like', 'likeeeeï', 'likeeeï', 'likeï', 'likkeeï', 'listen', 'listening', 'literally', 'little', 'live', 'll', 'llikee', 'lmao', 'lmfao', 'lmfaois', 'lmfaovevo', 'lmfaoï', 'lol', 'look', 'los', 'love', 'lovee', 'loves', 'loveâ', 'loï', 'lt', 'ma', 'made', 'mahogany', 'make', 'makes', 'man', 'many', 'maylaysia', 'me', 'mee', 'meh', 'meilleur', 'mejor', 'melbourne', 'melhor', 'memoriesï', 'men', 'merci', 'messages', 'metal', 'meu', 'meâ', 'mgtow', 'mi', 'might', 'mil', 'million', 'minaj', 'mindblowing', 'mindï', 'minecraft', 'minute', 'miss', 'missing', 'mm', 'money', 'montageparodies', 'month', 'more', 'morning', 'most', 'moves', 'movesï', 'much', 'muchï', 'music', 'musiqueï', 'my', 'myself', 'mï', 'naive', 'name', 'nation', 'ne', 'nearly', 'need', 'needed', 'nepalï', 'never', 'new', 'news', 'next', 'nice', 'niceï', 'nicolaysen2', 'night', 'nikki', 'no', 'nofollow', 'not', 'now', 'nowï', 'nsa', 'nuketown', 'nut', 'obrigado', 'of', 'off', 'oh', 'oid', 'okay', 'ol', 'old', 'oldï', 'omg', 'omgï', 'on', 'one', 'online', 'opponents', 'or', 'ot', 'other', 'others', 'our', 'ourâ', 'out', 'outs', 'over', 'pander26', 'part', 'party', 'partying', 'partyï', 'partï', 'past', 'patriot', 'paul', 'pcmasterace', 'peace', 'peaceâœœï', 'people', 'performe', 'person', 'pewdiepie', 'phoneï', 'picture', 'pigment', 'pitbull', 'playlist', 'plays', 'plaã', 'pleas', 'please', 'pleaseï', 'plus', 'plzzzzzzz', 'plzzzzzzzzzzzzzzzzzzzzzzzzzzzzzzzï', 'plï', 'popular', 'por', 'post', 'press', 'privacy', 'pro', 'producer', 'profit', 'proflink', 'proflinkprefix', 'proflinkwrapper', 'protest', 'prove', 'providers', 'ps4', 'publishing', 'put', 'pï', 'qqï', 'questions', 'quick', 'quot', 'rand', 'rap', 're', 'reach', 'really', 'reason', 'reasonï', 'record', 'rel', 'religious', 'remeber', 'remember', 'reminds', 'remixer', 'renewal', 'respect', 'reunion', 'rich', 'right', 'rights', 'robo', 'robot', 'rock', 'rockin', 'rocks', 'rockï', 'rollin', 'root', 'russia', 'sander', 'sang', 'saw', 'school', 'schoolï', 'scoping', 'scrubs', 'se', 'search', 'see', 'seems', 'senate', 'senator', 'senators', 'seriously', 'sexy', 'shake', 'share', 'shareï', 'shell', 'shirt', 'shit', 'shooting', 'should', 'showï', 'shrek', 'shuffle', 'shuffles', 'shuffleï', 'shufflin', 'shuffling', 'shufflinï', 'si', 'singers', 'skin', 'skip', 'sky', 'skype', 'sleep', 'smileï', 'so', 'som', 'some', 'someone', 'song', 'songs', 'songsï', 'songï', 'soon', 'sooooo', 'soooooooooooooooooooooooooooooooooooooooooooooooooo', 'sorry', 'span', 'spelled', 'spent', 'spinal', 'spongebob', 'spooked', 'spookinati', 'spread', 'spying', 'start', 'started', 'still', 'stop', 'strong', 'style', 'sub', 'subs', 'subscrib', 'subscribe', 'subscriber', 'subscribers', 'subscribersï', 'subscriberï', 'subscribeâ', 'subscribeï', 'subscribirse', 'such', 'suck', 'summer', 'super', 'superbbb', 'supermariologan', 'superr', 'support', 'sure', 'surgery', 'suscriba', 'suscribe', 'swear', 'switch', 'take', 'talented', 'tango', 'tell', 'tensionâ', 'than', 'thank', 'thanks', 'that', 'thats', 'the', 'their', 'them', 'theme', 'then', 'there', 'therealterrell_', 'theres', 'these', 'they', 'thing', 'thingie', 'things', 'think', 'this', 'those', 'thot', 'though', 'thought', 'thoughtsï', 'thumbs', 'thxï', 'time', 'times', 'tips', 'to', 'today', 'tomorrow', 'tonight', 'too', 'top', 'track', 'training', 'triedï', 'trolls', 'true', 'trust', 'try', 'tweet', 'twitter', 'un', 'uncle', 'unlike', 'unspookedâ', 'until', 'up', 'uploaded', 'uploading', 'upï', 'ur', 'url', 'used', 'utility', 'vanoss', 've', 'very', 'vet', 'video', 'videos', 'videoâ', 'videoï', 'vids', 'vidã', 'view', 'viewed', 'views', 'virucide', 'vous', 'vã', 'vï', 'wait', 'wanna', 'want', 'wants', 'wars', 'was', 'watch', 'watched', 'watchin', 'watching', 'way', 'we', 'well', 'went', 'were', 'weren', 'what', 'when', 'where', 'which', 'while', 'white', 'who', 'whole', 'why', 'wierd', 'will', 'wish', 'with', 'woke', 'women', 'won', 'word', 'work', 'world', 'worldwide', 'wow', 'wowwwwwwwwwwwwwwwwwwwwwwwwwwwwwwï', 'wrong', 'www', 'xdï', 'yeah', 'yeahï', 'year', 'years', 'yeaï', 'yes', 'yesterday', 'yo', 'you', 'your', 'youtu', 'youtub', 'youtube', 'youtubeï', 'youï', '³ï', '³ðÿ', 'µðÿ', '¹ðÿ', '¹ðÿž', 'ºâ', 'ºï', 'ºðÿ', 'ðÿ', 'ðÿœˆðÿœˆðÿœˆï', 'ðÿš', 'ðÿž', 'øª', 'ø¹ù', 'ÿðÿ', 'œâ', 'œï', 'œðÿ', 'šðÿ', 'žâ', 'žï', 'ˆâ']"
     ]
    },
    {
     "name": "stdout",
     "output_type": "stream",
     "text": [
      "\n"
     ]
    }
   ],
   "source": [
    "contentCorpusTestLMFAO = xTestLMFAO['CONTENT']\n",
    "xTestLMFAOTFIDF = vectorizerLMFAO.transform(contentCorpusTestLMFAO)\n",
    "print(vectorizerLMFAO.get_feature_names())"
   ]
  },
  {
   "cell_type": "code",
   "execution_count": 75,
   "metadata": {},
   "outputs": [
    {
     "name": "stdout",
     "output_type": "stream",
     "text": [
      "Best Lambda:-  0.01\n"
     ]
    }
   ],
   "source": [
    "# Best lambda for L2-penalized logistic regression for LMFAO \n",
    "logisticLMFAO = linear_model.LogisticRegression()\n",
    "penaltyLMFAO1 = ['l2']\n",
    "cLMFAO1 = [1/pow(10, i) for i in range(-5, 6)]\n",
    "\n",
    "parametersLMFAO1 = {\"C\": cLMFAO1, \"penalty\": penaltyLMFAO1, \"solver\": ['liblinear']}\n",
    "gridcvLMFAO = GridSearchCV(logisticLMFAO, parametersLMFAO1, cv=5, n_jobs=-1)\n",
    "best_modelLMFAOL2 = gridcvLMFAO.fit(xTrainLMFAOTFIDF, yTrainLMFAO)\n",
    "print('Best Lambda:- ', 1/best_modelLMFAOL2.best_estimator_.get_params()['C'])"
   ]
  },
  {
   "cell_type": "code",
   "execution_count": 76,
   "metadata": {},
   "outputs": [
    {
     "name": "stdout",
     "output_type": "stream",
     "text": [
      "Training Values for L2 LMFAO:\n",
      "Confusion Matrix:\n",
      "[[161   0]\n",
      " [  0 188]]\n",
      "ROC AUC: 1.0\n",
      "Precision: 1.0\n",
      "Accuracy Score: 1.0\n",
      "Recall: 1.0\n",
      "F1 Score: 1.0\n"
     ]
    }
   ],
   "source": [
    "# L2-penalized logistic regression for LMFAO train\n",
    "y_trainLMFAOL2 = best_modelLMFAOL2.predict(xTrainLMFAOTFIDF)\n",
    "\n",
    "print(\"Training Values for L2 LMFAO:\")\n",
    "print(\"Confusion Matrix:\")\n",
    "print(confusion_matrix(yTrainLMFAO, y_trainLMFAOL2))\n",
    "print(\"ROC AUC:\", metrics.roc_auc_score(yTrainLMFAO, y_trainLMFAOL2))\n",
    "print(\"Precision:\", metrics.precision_score(yTrainLMFAO, y_trainLMFAOL2))\n",
    "print(\"Accuracy Score:\", metrics.accuracy_score(yTrainLMFAO, y_trainLMFAOL2))\n",
    "print(\"Recall:\", metrics.recall_score(yTrainLMFAO, y_trainLMFAOL2))\n",
    "print(\"F1 Score:\", metrics.f1_score(yTrainLMFAO, y_trainLMFAOL2))"
   ]
  },
  {
   "cell_type": "code",
   "execution_count": 77,
   "metadata": {},
   "outputs": [],
   "source": [
    "# L2-penalized logistic regression for LMFAO test\n",
    "test_modelLMFAO = gridcvLMFAO.fit(xTestLMFAOTFIDF, yTestLMFAO)\n",
    "y_testLMFAOL2 = test_modelLMFAO.predict(xTestLMFAOTFIDF)\n",
    "\n",
    "LMFAOL2rocauc = metrics.roc_auc_score(yTestLMFAO, y_testLMFAOL2)*100\n",
    "LMFAOL2precision = metrics.precision_score(yTestLMFAO, y_testLMFAOL2)*100\n",
    "LMFAOL2accuracy = metrics.accuracy_score(yTestLMFAO, y_testLMFAOL2)*100\n",
    "LMFAOL2recall = metrics.recall_score(yTestLMFAO, y_testLMFAOL2)*100\n",
    "LMFAOL2F1 = metrics.f1_score(yTestLMFAO, y_testLMFAOL2)*100"
   ]
  },
  {
   "cell_type": "code",
   "execution_count": 78,
   "metadata": {},
   "outputs": [
    {
     "name": "stdout",
     "output_type": "stream",
     "text": [
      "Best Lambda:-  0.001\n"
     ]
    }
   ],
   "source": [
    "# Best lamda for L1-penalized logistic regression for LMFAO \n",
    "logistiqueLMFAO = linear_model.LogisticRegression()\n",
    "penaltyLMFAO2 = ['l1']\n",
    "cLMFAO2 = [1/pow(10, i) for i in range(-5, 6)]\n",
    "\n",
    "parametersLMFAO2 = {\"C\": cLMFAO2, \"penalty\": penaltyLMFAO2, \"solver\": ['liblinear']}\n",
    "gridcv2LMFAO = GridSearchCV(logistiqueLMFAO, parametersLMFAO2, cv=5, n_jobs=-1)\n",
    "best_modelLMFAOL1 = gridcv2LMFAO.fit(xTrainLMFAOTFIDF, yTrainLMFAO)\n",
    "print('Best Lambda:- ', 1/best_modelLMFAOL1.best_estimator_.get_params()['C'])"
   ]
  },
  {
   "cell_type": "code",
   "execution_count": 79,
   "metadata": {},
   "outputs": [
    {
     "name": "stdout",
     "output_type": "stream",
     "text": [
      "Training Values for L1 LMFAO:\n",
      "Confusion Matrix:\n",
      "[[161   0]\n",
      " [  0 188]]\n",
      "ROC AUC: 1.0\n",
      "Precision: 1.0\n",
      "Accuracy Score: 1.0\n",
      "Recall: 1.0\n",
      "F1 Score: 1.0\n"
     ]
    }
   ],
   "source": [
    "# L1-penalized logistic regression for LMFAO train\n",
    "y_trainLMFAOL1 = best_modelLMFAOL1.predict(xTrainLMFAOTFIDF)\n",
    "\n",
    "print(\"Training Values for L1 LMFAO:\")\n",
    "print(\"Confusion Matrix:\")\n",
    "print(confusion_matrix(yTrainLMFAO, y_trainLMFAOL1))\n",
    "print(\"ROC AUC:\", metrics.roc_auc_score(yTrainLMFAO, y_trainLMFAOL1))\n",
    "print(\"Precision:\", metrics.precision_score(yTrainLMFAO, y_trainLMFAOL1))\n",
    "print(\"Accuracy Score:\", metrics.accuracy_score(yTrainLMFAO, y_trainLMFAOL1))\n",
    "print(\"Recall:\", metrics.recall_score(yTrainLMFAO, y_trainLMFAOL1))\n",
    "print(\"F1 Score:\", metrics.f1_score(yTrainLMFAO, y_trainLMFAOL1))"
   ]
  },
  {
   "cell_type": "code",
   "execution_count": 80,
   "metadata": {},
   "outputs": [],
   "source": [
    "# L1-penalized logistic regression for LMFAO test\n",
    "test_modelLMFAO = gridcv2LMFAO.fit(xTestLMFAOTFIDF, yTestLMFAO)\n",
    "y_testLMFAOL1 = test_modelLMFAO.predict(xTestLMFAOTFIDF)\n",
    "\n",
    "LMFAOL1rocauc = metrics.roc_auc_score(yTestLMFAO, y_testLMFAOL1)*100\n",
    "LMFAOL1precision = metrics.precision_score(yTestLMFAO, y_testLMFAOL1)*100\n",
    "LMFAOL1accuracy = metrics.accuracy_score(yTestLMFAO, y_testLMFAOL1)*100\n",
    "LMFAOL1recall = metrics.recall_score(yTestLMFAO, y_testLMFAOL1)*100\n",
    "LMFAOL1F1 = metrics.f1_score(yTestLMFAO, y_testLMFAOL1)*100"
   ]
  },
  {
   "cell_type": "code",
   "execution_count": 81,
   "metadata": {},
   "outputs": [
    {
     "name": "stdout",
     "output_type": "stream",
     "text": [
      "Training Values for Gaussian NB LMFAO:\n",
      "Confusion Matrix:\n",
      "[[161   0]\n",
      " [  0 188]]\n",
      "ROC AUC: 1.0\n",
      "Precision: 1.0\n",
      "Accuracy Score: 1.0\n",
      "Recall: 1.0\n",
      "F1 Score: 1.0\n"
     ]
    }
   ],
   "source": [
    "# Gaussian NB for LMFAO train\n",
    "Gaussian = GaussianNB()\n",
    "x_trainArrayLMFAO = xTrainLMFAOTFIDF.toarray()\n",
    "GaussianTrainLMFAO = Gaussian.fit(x_trainArrayLMFAO, yTrainLMFAO)\n",
    "y_trainPredsLMFAO = GaussianTrainLMFAO.predict(x_trainArrayLMFAO)\n",
    "\n",
    "print(\"Training Values for Gaussian NB LMFAO:\")\n",
    "print(\"Confusion Matrix:\")\n",
    "print(confusion_matrix(yTrainLMFAO, y_trainPredsLMFAO))\n",
    "print(\"ROC AUC:\", metrics.roc_auc_score(yTrainLMFAO, y_trainPredsLMFAO))\n",
    "print(\"Precision:\", metrics.precision_score(yTrainLMFAO, y_trainPredsLMFAO))\n",
    "print(\"Accuracy Score:\", metrics.accuracy_score(yTrainLMFAO, y_trainPredsLMFAO))\n",
    "print(\"Recall:\", metrics.recall_score(yTrainLMFAO, y_trainPredsLMFAO))\n",
    "print(\"F1 Score:\", metrics.f1_score(yTrainLMFAO, y_trainPredsLMFAO))"
   ]
  },
  {
   "cell_type": "code",
   "execution_count": 82,
   "metadata": {},
   "outputs": [],
   "source": [
    "# Gaussian NB for LMFAO test\n",
    "x_testArrayLMFAO = xTestLMFAOTFIDF.toarray()\n",
    "GaussianTestLMFAO = Gaussian.fit(x_testArrayLMFAO, yTestLMFAO)\n",
    "y_testPredsLMFAO = GaussianTestLMFAO.predict(x_testArrayLMFAO)\n",
    "\n",
    "LMFAOGaussianrocauc = metrics.roc_auc_score(yTestLMFAO, y_testPredsLMFAO)*100\n",
    "LMFAOGaussianprecision = metrics.precision_score(yTestLMFAO, y_testPredsLMFAO)*100\n",
    "LMFAOGaussianaccuracy = metrics.accuracy_score(yTestLMFAO, y_testPredsLMFAO)*100\n",
    "LMFAOGaussianrecall = metrics.recall_score(yTestLMFAO, y_testPredsLMFAO)*100\n",
    "LMFAOGaussianF1 = metrics.f1_score(yTestLMFAO, y_testPredsLMFAO)*100"
   ]
  },
  {
   "cell_type": "code",
   "execution_count": 83,
   "metadata": {},
   "outputs": [
    {
     "name": "stdout",
     "output_type": "stream",
     "text": [
      "Training Values for Multinomial NB LMFAO:\n",
      "Confusion Matrix:\n",
      "[[157   4]\n",
      " [  3 185]]\n",
      "ROC AUC: 0.9795989163472975\n",
      "Precision: 0.9788359788359788\n",
      "Accuracy Score: 0.9799426934097422\n",
      "Recall: 0.9840425531914894\n",
      "F1 Score: 0.9814323607427056\n"
     ]
    }
   ],
   "source": [
    "# Multinomial NB for LMFAO train\n",
    "multi = MultinomialNB()\n",
    "multiTrainLMFAO = multi.fit(x_trainArrayLMFAO, yTrainLMFAO)\n",
    "y_trainPredssLMFAO = multiTrainLMFAO.predict(x_trainArrayLMFAO)\n",
    "\n",
    "print(\"Training Values for Multinomial NB LMFAO:\")\n",
    "print(\"Confusion Matrix:\")\n",
    "print(confusion_matrix(yTrainLMFAO, y_trainPredssLMFAO))\n",
    "print(\"ROC AUC:\", metrics.roc_auc_score(yTrainLMFAO, y_trainPredssLMFAO))\n",
    "print(\"Precision:\", metrics.precision_score(yTrainLMFAO, y_trainPredssLMFAO))\n",
    "print(\"Accuracy Score:\", metrics.accuracy_score(yTrainLMFAO, y_trainPredssLMFAO))\n",
    "print(\"Recall:\", metrics.recall_score(yTrainLMFAO, y_trainPredssLMFAO))\n",
    "print(\"F1 Score:\", metrics.f1_score(yTrainLMFAO, y_trainPredssLMFAO))"
   ]
  },
  {
   "cell_type": "code",
   "execution_count": 84,
   "metadata": {},
   "outputs": [],
   "source": [
    "# Multinomial NB for LMFAO test\n",
    "multiTestLMFAO = multi.fit(x_testArrayLMFAO, yTestLMFAO)\n",
    "y_testPredssLMFAO = multiTestLMFAO.predict(x_testArrayLMFAO)\n",
    "\n",
    "LMFAOMultirocauc = metrics.roc_auc_score(yTestLMFAO, y_testPredssLMFAO)*100\n",
    "LMFAOMultiprecision = metrics.precision_score(yTestLMFAO, y_testPredssLMFAO)*100\n",
    "LMFAOMultiaccuracy = metrics.accuracy_score(yTestLMFAO, y_testPredssLMFAO)*100\n",
    "LMFAOMultirecall = metrics.recall_score(yTestLMFAO, y_testPredssLMFAO)*100\n",
    "LMFAOMultiF1 = metrics.f1_score(yTestLMFAO, y_testPredssLMFAO)*100"
   ]
  },
  {
   "cell_type": "code",
   "execution_count": 85,
   "metadata": {},
   "outputs": [
    {
     "name": "stdout",
     "output_type": "stream",
     "text": [
      "LMFAO:\n"
     ]
    },
    {
     "data": {
      "text/html": [
       "<div>\n",
       "<style scoped>\n",
       "    .dataframe tbody tr th:only-of-type {\n",
       "        vertical-align: middle;\n",
       "    }\n",
       "\n",
       "    .dataframe tbody tr th {\n",
       "        vertical-align: top;\n",
       "    }\n",
       "\n",
       "    .dataframe thead th {\n",
       "        text-align: right;\n",
       "    }\n",
       "</style>\n",
       "<table border=\"1\" class=\"dataframe\">\n",
       "  <thead>\n",
       "    <tr style=\"text-align: right;\">\n",
       "      <th></th>\n",
       "      <th>Instance</th>\n",
       "      <th>Accuracy (%)</th>\n",
       "      <th>Precision (%)</th>\n",
       "      <th>Recall (%)</th>\n",
       "      <th>F1 (%)</th>\n",
       "      <th>AUC (%)</th>\n",
       "    </tr>\n",
       "  </thead>\n",
       "  <tbody>\n",
       "    <tr>\n",
       "      <td>0</td>\n",
       "      <td>NB-Gaussian</td>\n",
       "      <td>100.000000</td>\n",
       "      <td>100.000000</td>\n",
       "      <td>100.000000</td>\n",
       "      <td>100.000000</td>\n",
       "      <td>100.000000</td>\n",
       "    </tr>\n",
       "    <tr>\n",
       "      <td>1</td>\n",
       "      <td>NB-Multinomial</td>\n",
       "      <td>92.134831</td>\n",
       "      <td>87.272727</td>\n",
       "      <td>100.000000</td>\n",
       "      <td>93.203883</td>\n",
       "      <td>91.463415</td>\n",
       "    </tr>\n",
       "    <tr>\n",
       "      <td>2</td>\n",
       "      <td>L2</td>\n",
       "      <td>98.876404</td>\n",
       "      <td>100.000000</td>\n",
       "      <td>97.916667</td>\n",
       "      <td>98.947368</td>\n",
       "      <td>98.958333</td>\n",
       "    </tr>\n",
       "    <tr>\n",
       "      <td>3</td>\n",
       "      <td>L1</td>\n",
       "      <td>100.000000</td>\n",
       "      <td>100.000000</td>\n",
       "      <td>100.000000</td>\n",
       "      <td>100.000000</td>\n",
       "      <td>100.000000</td>\n",
       "    </tr>\n",
       "  </tbody>\n",
       "</table>\n",
       "</div>"
      ],
      "text/plain": [
       "         Instance  Accuracy (%)  Precision (%)  Recall (%)      F1 (%)  \\\n",
       "0     NB-Gaussian    100.000000     100.000000  100.000000  100.000000   \n",
       "1  NB-Multinomial     92.134831      87.272727  100.000000   93.203883   \n",
       "2              L2     98.876404     100.000000   97.916667   98.947368   \n",
       "3              L1    100.000000     100.000000  100.000000  100.000000   \n",
       "\n",
       "      AUC (%)  \n",
       "0  100.000000  \n",
       "1   91.463415  \n",
       "2   98.958333  \n",
       "3  100.000000  "
      ]
     },
     "execution_count": 85,
     "metadata": {},
     "output_type": "execute_result"
    }
   ],
   "source": [
    "# Creation of LMFAO Table \n",
    "dataLMFAO = {'Instance':['NB-Gaussian', 'NB-Multinomial', 'L2', 'L1'],\n",
    "        'Accuracy (%)':[LMFAOGaussianaccuracy, LMFAOMultiaccuracy, LMFAOL2accuracy, LMFAOL1accuracy], \n",
    "        'Precision (%)':[LMFAOGaussianprecision, LMFAOMultiprecision, LMFAOL2precision, LMFAOL1precision], \n",
    "           'Recall (%)':[LMFAOGaussianrecall, LMFAOMultirecall, LMFAOL2recall, LMFAOL1recall],\n",
    "           'F1 (%)':[LMFAOGaussianF1, LMFAOMultiF1, LMFAOL2F1, LMFAOL1F1], \n",
    "           'AUC (%)': [LMFAOGaussianrocauc, LMFAOMultirocauc, LMFAOL2rocauc, LMFAOL1rocauc]}\n",
    "  \n",
    "dfLMFAO = pd.DataFrame(dataLMFAO)\n",
    "print('LMFAO:')\n",
    "dfLMFAO"
   ]
  },
  {
   "cell_type": "markdown",
   "metadata": {},
   "source": [
    "Creation of Table for Shakira "
   ]
  },
  {
   "cell_type": "code",
   "execution_count": 86,
   "metadata": {},
   "outputs": [
    {
     "data": {
      "text/html": [
       "<div>\n",
       "<style scoped>\n",
       "    .dataframe tbody tr th:only-of-type {\n",
       "        vertical-align: middle;\n",
       "    }\n",
       "\n",
       "    .dataframe tbody tr th {\n",
       "        vertical-align: top;\n",
       "    }\n",
       "\n",
       "    .dataframe thead th {\n",
       "        text-align: right;\n",
       "    }\n",
       "</style>\n",
       "<table border=\"1\" class=\"dataframe\">\n",
       "  <thead>\n",
       "    <tr style=\"text-align: right;\">\n",
       "      <th></th>\n",
       "      <th>COMMENT_ID</th>\n",
       "      <th>AUTHOR</th>\n",
       "      <th>DATE</th>\n",
       "      <th>CONTENT</th>\n",
       "      <th>CLASS</th>\n",
       "    </tr>\n",
       "  </thead>\n",
       "  <tbody>\n",
       "    <tr>\n",
       "      <td>0</td>\n",
       "      <td>z13lgffb5w3ddx1ul22qy1wxspy5cpkz504</td>\n",
       "      <td>dharma pal</td>\n",
       "      <td>2015-05-29T02:30:18.971000</td>\n",
       "      <td>Nice songï»¿</td>\n",
       "      <td>0</td>\n",
       "    </tr>\n",
       "    <tr>\n",
       "      <td>1</td>\n",
       "      <td>z123dbgb0mqjfxbtz22ucjc5jvzcv3ykj</td>\n",
       "      <td>Tiza Arellano</td>\n",
       "      <td>2015-05-29T00:14:48.748000</td>\n",
       "      <td>I love song ï»¿</td>\n",
       "      <td>0</td>\n",
       "    </tr>\n",
       "    <tr>\n",
       "      <td>2</td>\n",
       "      <td>z12quxxp2vutflkxv04cihggzt2azl34pms0k</td>\n",
       "      <td>PrÃ¬Ã±Ã§eÅ›Å› Ã‚liÅ› Å�Ã¸vÃª DÃ¸mÃ­Ã±Ã¸ MÃ¢Ä‘i...</td>\n",
       "      <td>2015-05-28T21:00:08.607000</td>\n",
       "      <td>I love song ï»¿</td>\n",
       "      <td>0</td>\n",
       "    </tr>\n",
       "    <tr>\n",
       "      <td>3</td>\n",
       "      <td>z12icv3ysqvlwth2c23eddlykyqut5z1h</td>\n",
       "      <td>Eric Gonzalez</td>\n",
       "      <td>2015-05-28T20:47:12.193000</td>\n",
       "      <td>860,000,000 lets make it first female to reach...</td>\n",
       "      <td>0</td>\n",
       "    </tr>\n",
       "    <tr>\n",
       "      <td>4</td>\n",
       "      <td>z133stly3kete3tly22petvwdpmghrlli</td>\n",
       "      <td>Analena LÃ³pez</td>\n",
       "      <td>2015-05-28T17:08:29.827000</td>\n",
       "      <td>shakira is best for worldcupï»¿</td>\n",
       "      <td>0</td>\n",
       "    </tr>\n",
       "  </tbody>\n",
       "</table>\n",
       "</div>"
      ],
      "text/plain": [
       "                              COMMENT_ID  \\\n",
       "0    z13lgffb5w3ddx1ul22qy1wxspy5cpkz504   \n",
       "1      z123dbgb0mqjfxbtz22ucjc5jvzcv3ykj   \n",
       "2  z12quxxp2vutflkxv04cihggzt2azl34pms0k   \n",
       "3      z12icv3ysqvlwth2c23eddlykyqut5z1h   \n",
       "4      z133stly3kete3tly22petvwdpmghrlli   \n",
       "\n",
       "                                              AUTHOR  \\\n",
       "0                                         dharma pal   \n",
       "1                                      Tiza Arellano   \n",
       "2  PrÃ¬Ã±Ã§eÅ›Å› Ã‚liÅ› Å�Ã¸vÃª DÃ¸mÃ­Ã±Ã¸ MÃ¢Ä‘i...   \n",
       "3                                      Eric Gonzalez   \n",
       "4                                     Analena LÃ³pez   \n",
       "\n",
       "                         DATE  \\\n",
       "0  2015-05-29T02:30:18.971000   \n",
       "1  2015-05-29T00:14:48.748000   \n",
       "2  2015-05-28T21:00:08.607000   \n",
       "3  2015-05-28T20:47:12.193000   \n",
       "4  2015-05-28T17:08:29.827000   \n",
       "\n",
       "                                             CONTENT  CLASS  \n",
       "0                                       Nice songï»¿      0  \n",
       "1                                    I love song ï»¿      0  \n",
       "2                                    I love song ï»¿      0  \n",
       "3  860,000,000 lets make it first female to reach...      0  \n",
       "4                    shakira is best for worldcupï»¿      0  "
      ]
     },
     "execution_count": 86,
     "metadata": {},
     "output_type": "execute_result"
    }
   ],
   "source": [
    "df5.head()"
   ]
  },
  {
   "cell_type": "code",
   "execution_count": 87,
   "metadata": {},
   "outputs": [
    {
     "name": "stdout",
     "output_type": "stream",
     "text": [
      "(196, 5)\n",
      "(174, 5)\n"
     ]
    }
   ],
   "source": [
    "print(df5[df5['CLASS'] == 0].shape)\n",
    "print(df5[df5['CLASS'] == 1].shape)"
   ]
  },
  {
   "cell_type": "code",
   "execution_count": 88,
   "metadata": {},
   "outputs": [],
   "source": [
    "hammyShakira = 0.8 * 196\n",
    "spammyShakira = 0.8 * 174"
   ]
  },
  {
   "cell_type": "code",
   "execution_count": 89,
   "metadata": {},
   "outputs": [],
   "source": [
    "# Split into train & test set for Shakira \n",
    "\n",
    "hamRowsShakira = math.floor(hammyShakira)\n",
    "spamRowsShakira = math.floor(spammyShakira)\n",
    "\n",
    "class0_Shakira = df5.loc[df5['CLASS']==0] \n",
    "class1_Shakira = df5.loc[df5['CLASS']==1] \n",
    "\n",
    "xHamShakira = class0_Shakira.drop('CLASS', axis=1)\n",
    "yHamShakira = class0_Shakira['CLASS']\n",
    "xSpamShakira = class1_Shakira.drop('CLASS', axis=1)\n",
    "ySpamShakira = class1_Shakira['CLASS']\n",
    "\n",
    "xHamTrainShakira = xHamShakira[:hamRowsShakira]\n",
    "xSpamTrainShakira = xSpamShakira[:spamRowsShakira]\n",
    "yHamTrainShakira = yHamShakira[:hamRowsShakira]\n",
    "ySpamTrainShakira = ySpamShakira[:spamRowsShakira]\n",
    "\n",
    "xHamTestShakira = xHamShakira[hamRowsShakira:]\n",
    "xSpamTestShakira = xSpamShakira[spamRowsShakira:]\n",
    "yHamTestShakira = yHamShakira[hamRowsShakira:]\n",
    "ySpamTestShakira = ySpamShakira[spamRowsShakira:]\n",
    "\n",
    "xTrainsShakira = [xHamTrainShakira, xSpamTrainShakira]\n",
    "xTestsShakira = [xHamTestShakira, xSpamTestShakira]\n",
    "xTrainShakira = pd.concat(xTrainsShakira)\n",
    "xTestShakira = pd.concat(xTestsShakira)\n",
    "\n",
    "yTrainsShakira = [yHamTrainShakira, ySpamTrainShakira]\n",
    "yTestsShakira = [yHamTestShakira, ySpamTestShakira]\n",
    "yTrainShakira = pd.concat(yTrainsShakira)\n",
    "yTestShakira = pd.concat(yTestsShakira)"
   ]
  },
  {
   "cell_type": "code",
   "execution_count": 90,
   "metadata": {},
   "outputs": [
    {
     "name": "stdout",
     "output_type": "stream",
     "text": [
      "['00', '000', '0687119038', '08', '10', '100', '100ï', '101721377578919894134', '108k', '128gb', '13', '14', '14gkvdo', '15', '16gb', '17', '18', '19', '1billiom', '1bsefqe', '1hmvtx', '1hmvtxï', '1m00s', '20', '200', '200mm', '2010', '2013', '2015', '2015ï', '23', '25', '250', '314', '320', '32gb', '333â', '35', '360', '385', '387', '39', '390', '3d', '4000', '421', '433', '4500', '4g', '4gb', '4netjobs', '4th', '50', '500', '5000', '50k', '510', '515', '55', '550', '55mm', '5tu9gn1l310', '5ï', '60', '600', '682', '753', '7in', '860', '868', '9nl', 'about', 'absolutely', 'absorbing', 'account', 'acidic', 'acquire', 'acquiring', 'act', 'actually', 'adam', 'addition', 'adele', 'adf', 'admirable', 'adore', 'adroid', 'advertise', 'advertisements', 'advertisiments', 'affiliated', 'afflicted', 'africa', 'african', 'africans', 'after', 'again', 'against', 'ago', 'agree', 'ahead', 'aid', 'air', 'aka', 'all', 'allï', 'alot', 'also', 'am', 'amazed', 'amazement', 'amazing', 'amazon', 'ambition', 'ambitious', 'amendment', 'american', 'americans', 'amiable', 'amp', 'amy', 'an', 'ancestors', 'and', 'anderson', 'angels', 'animal', 'animation', 'animator', 'annoying', 'another', 'any', 'anyone', 'anything', 'apostles', 'app', 'apple', 'appoints', 'appreciate', 'appreciated', 'apprecitate', 'approve', 'apps', 'arbitrate', 'are', 'around', 'artist', 'as', 'assume', 'at', 'audit', 'aunt', 'autotunedï', 'avicii', 'awesome', 'axiomatic', 'axy665ï', 'ba', 'baba', 'back', 'backï', 'bad', 'ball', 'bands', 'banging', 'base', 'bass', 'be', 'beautiful', 'beautifulï', 'beauty', 'because', 'become', 'been', 'begin', 'behavior', 'being', 'belgium', 'believe', 'believer', 'beneath', 'best', 'bestâ', 'bet', 'betfair', 'better', 'beutiful', 'bieber', 'billion', 'bit', 'bitch', 'black', 'blank', 'blog', 'blogfa', 'blogspot', 'blondeï', 'bonus', 'bookies', 'bookmakers', 'boost', 'box', 'boxium', 'boy', 'boys', 'br', 'brake', 'brazil', 'brazilian', 'bring', 'brinkman', 'britishs', 'brothers', 'bucks', 'burder', 'business', 'but', 'button', 'buy', 'by', 'call', 'called', 'calls', 'camera', 'can', 'canal', 'cap', 'car', 'card', 'cards', 'cares', 'case', 'cause', 'cd', 'celeb', 'celebration', 'celebrity', 'central', 'cents', 'cge', 'chance', 'change', 'channel', 'channelï', 'channnnnnelll', 'chap', 'charity', 'chaste', 'check', 'cheers', 'choice', 'christ', 'christians', 'cid', 'claiming', 'class', 'claster', 'click', 'close', 'closer', 'co', 'coby', 'cock', 'code', 'colorful', 'colour', 'columbus', 'com', 'come', 'comedy', 'comes', 'comfort', 'comforter', 'coming', 'comment', 'comments', 'company', 'compared', 'complete', 'comprehend', 'conceived', 'conciliate', 'confessors', 'congress', 'conhece', 'constitution', 'consumers', 'contact', 'cool', 'core', 'cost', 'couch', 'could', 'counsel', 'countless', 'country', 'cover', 'covers', 'crank', 'creator', 'crestboot', 'cup', 'curly', 'currently', 'cute', 'cutie', 'cuz', 'cyrus', 'd90', 'da', 'daily', 'damn', 'dance', 'dancing', 'daneja', 'dark', 'day', 'de', 'deals', 'decided', 'dedication', 'definitely', 'definitily', 'definitley', 'del', 'delete', 'demonstrating', 'deo', 'describes', 'designs', 'dickwad', 'did', 'different', 'discrimination', 'discusss', 'disguise', 'dislike', 'disliked', 'dislikes', 'divine', 'do', 'does', 'doesn', 'doing', 'dollar', 'don', 'donating', 'done', 'dont', 'donâ', 'dot', 'download', 'dragons', 'drake', 'dream', 'dreamers', 'dreaming', 'dribbleproshot', 'dtqcftr1fac', 'dubstep', 'duzafizz', 'dï', 'earn', 'earning', 'earth', 'easily', 'easy', 'echa', 'edge', 'edm', 'efforts', 'egoistic', 'eh', 'ehï', 'ej', 'em', 'email', 'empire', 'enabled', 'enjoyable', 'enlace', 'enlist', 'enormously', 'enter', 'entertainer', 'especially', 'estiloproduction', 'estonia', 'euro', 'euw', 'eva', 'even', 'event', 'ever', 'every', 'everyday', 'everyone', 'everything', 'evidence', 'expect', 'expecting', 'experience', 'expose', 'extraordinary', 'facebook', 'family', 'famous', 'fans', 'fantastic', 'far', 'fast', 'fausto', 'fave', 'faves', 'favourite', 'fear', 'featuring', 'feed', 'feel', 'felt', 'female', 'few', 'fi', 'fiddle', 'fifa', 'fight', 'fighting', 'filibuster', 'financial', 'find', 'finding', 'firepa', 'first', 'floor', 'following', 'foot', 'football', 'for', 'forever', 'forget', 'forgetful', 'forgot', 'forward', 'found', 'founded', 'foward', 'fragile', 'france', 'free', 'freedom', 'freestyle', 'french', 'frequent', 'friend', 'friends', 'fright', 'frndzzl', 'from', 'fuck', 'fucking', 'fun', 'future', 'fyi', 'gain', 'gained', 'galaxy', 'game', 'gamezz', 'gamezzmtaï', 'gangnam', 'gardner', 'gave', 'gen', 'generated', 'germany', 'get', 'gets', 'getting', 'gift', 'girl', 'girls', 'give', 'gmail', 'go', 'goal', 'goals', 'god', 'godâ', 'going', 'gonna', 'good', 'goodï', 'google', 'gooodï', 'gorgeous', 'got', 'grace', 'grass', 'great', 'gt', 'gta', 'guess', 'guide', 'guruofmovieï', 'gusttavo', 'guys', 'gypsy', 'haha', 'hahahahah', 'hair', 'half', 'halloween', 'happen', 'happening', 'happy', 'hard', 'harder', 'has', 'have', 'hdtv', 'he', 'headerclick', 'hear', 'heard', 'heaven', 'hell', 'hello', 'help', 'her', 'hereâ', 'herself', 'herï', 'hey', 'hh', 'hi', 'high', 'highly', 'hilarious', 'him', 'hips', 'hiring', 'his', 'historical', 'hit', 'holy', 'home', 'honest', 'hope', 'hopefully', 'hopme', 'horse', 'hour', 'hours', 'house', 'how', 'href', 'ht', 'html', 'http', 'https', 'huge', 'humanity', 'i5', 'ice', 'if', 'ik', 'ill', 'ilove', 'ilovethissongï', 'im', 'im2458444', 'imagine', 'immediately', 'impossible', 'improve', 'in', 'incandescent', 'inch', 'including', 'income', 'incomeâ', 'incredible', 'industry', 'info', 'iniesta', 'inspire', 'instantly', 'instead', 'instrumental', 'insurance', 'intel', 'into', 'investment', 'inviolate', 'ipad', 'iphone', 'irish', 'is', 'isn', 'it', 'its', 'itself', 'itttttttt', 'itâ', 'itï', 'iv', 'iâ', 'ja', 'jesus', 'jim', 'jobs', 'join', 'joining', 'juno', 'just', 'justien', 'katy', 'keep', 'keeps', 'kid', 'killed', 'killtheclockhd', 'kind', 'kld3y', 'kluivert', 'know', 'knows', 'kodaline', 'kpop', 'la', 'lad', 'lake', 'lamest', 'lana', 'languagesï', 'later', 'latest', 'laugh', 'learn', 'least', 'led', 'leeched', 'left', 'lets', 'lie', 'life', 'like', 'liked', 'likes', 'likeï', 'liking', 'lima', 'link', 'lip', 'lisening', 'listen', 'listening', 'live', 'lively', 'll', 'lol', 'long', 'look', 'looks', 'loss', 'lot', 'lots', 'love', 'loved', 'lovely', 'lover', 'loves', 'loveï', 'loving', 'loyal', 'lt', 'ly', 'macabre', 'macbook', 'macklemore', 'made', 'madly', 'make', 'makes', 'making', 'man', 'many', 'marius1533', 'marketer', 'martin', 'martyrs', 'mary', 'master', 'mate', 'mates', 'matters', 'maybe', 'me', 'mean', 'meaning', 'meaningful', 'meat', 'media', 'meet', 'meh', 'memories', 'memory', 'men', 'mess', 'message', 'meï', 'mi', 'might', 'miley', 'million', 'millions', 'min', 'mind', 'mini', 'minutes', 'mio', 'miss', 'mississippi', 'miusicï', 'model', 'moment', 'money', 'moneygq', 'month', 'monthly', 'more', 'morning', 'most', 'mother', 'mta', 'much', 'music', 'musician', 'musicvideo', 'musicï', 'muslims', 'must', 'mxh2y77', 'my', 'myself', 'name', 'named', 'nation', 'need', 'needed', 'neeru105', 'netherland', 'netherlands', 'new', 'newest', 'news', 'nice', 'nick', 'nikon', 'nl', 'no', 'none', 'northland', 'not', 'nothing', 'now', 'nsa', 'number', 'numberless', 'nummber', 'nã', 'obtain', 'of', 'off', 'offical', 'oh', 'oid', 'old', 'oldchat', 'omg', 'on', 'once', 'one', 'ones', 'oneï', 'online', 'only', 'open', 'opportunity', 'or', 'original', 'other', 'others', 'our', 'ourself', 'ourâ', 'out', 'outï', 'over', 'own', 'page', 'pagee', 'paid', 'paidverts', 'paranormal', 'parody', 'part', 'pass', 'passed', 'passion', 'passionate', 'past', 'patriarchs', 'patrik', 'patriot', 'paul', 'pay', 'pcs', 'peace', 'peaceful', 'people', 'pepelexa', 'per', 'perfect', 'perhaps', 'perry', 'person', 'petition', 'piano', 'pink', 'pisses', 'plausible', 'play', 'player', 'playlist', 'pleas', 'pleasant', 'please', 'pleassssssssssssssss', 'plus', 'plz', 'plzzï', 'poor', 'population', 'porno', 'portugal', 'possible', 'post_10', 'posted', 'postponing', 'pranks', 'pray', 'prepare', 'present', 'press', 'pretty', 'price', 'prior', 'privacy', 'pro', 'probably', 'profile', 'proflink', 'proflinkprefix', 'proflinkwrapper', 'promise', 'promotes', 'prophets', 'protect', 'protest', 'proud', 'prove', 'prpeedmmmq0', 'ps4', 'psn', 'purchase', 'pure', 'push', 'put', 'pï', 'queen', 'quid', 'quot', 'racist', 'racists', 'rand', 'range', 'rapper', 'rate', 're', 'reach', 'read', 'reading', 'reads', 'real', 'realized', 'really', 'reason', 'recipe', 'recognizes', 'recommend', 'recording', 'redeemer', 'ref', 'refused', 'regret', 'remember', 'remezcla', 'remix', 'renewal', 'replay', 'requite', 'respond', 'rey', 'richest', 'ricky', 'right', 'righteousness', 'risk', 'roar', 'rocks', 'roll', 'rosary', 'roughly', 'rugby', 's4', 'sadï', 'said', 'saints', 'salvation', 'sam', 'same', 'samsung', 'saturday', 'saturdayâ', 'saved', 'savior', 'say', 'saying', 'says', 'search', 'seat', 'second', 'seconds', 'secret', 'secrets', 'secure', 'see', 'seem', 'seen', 'selecting', 'senate', 'senator', 'senators', 'sexy', 'shaki', 'shakifans', 'shakira', 'shakiravevo', 'shakiraï', 'shakiria', 'shame', 'share', 'she', 'shit', 'shkiraï', 'shot', 'should', 'sign', 'significantly', 'sihaam01', 'silly', 'simple', 'simply', 'sin', 'sing', 'singer', 'singerï', 'singing', 'singlewave', 'sinned', 'sins', 'sisters', 'site', 'sites', 'skills', 'skin', 'skip', 'slash', 'slr', 'small', 'smart', 'smhï', 'smoking', 'so', 'soccer', 'social', 'society', 'some', 'someone', 'something', 'son', 'song', 'songs', 'songwriter', 'songâ', 'songï', 'songðÿ', 'sony', 'soo', 'soon', 'sooooo', 'sorry', 'sounds', 'space', 'spain', 'spam', 'spamming', 'span', 'spanish', 'spare', 'speaks', 'special', 'speech', 'spending', 'spent', 'spirits', 'spourmo', 'spread', 'spying', 'stand', 'start', 'started', 'statement', 'step', 'stil', 'still', 'stop', 'store', 'strategizes', 'stretch', 'student', 'style', 'sub', 'submits', 'subscribe', 'subscribed', 'subscribeeeeeeeeee', 'subscribers', 'subscribeï', 'subscribing', 'subscription', 'substantially', 'succeeds', 'success', 'successful', 'such', 'sucking', 'sucksï', 'summer', 'super', 'support', 'sure', 'surveys', 'suscribe', 'suscribite', 'suscrã', 'swear', 'swim', 'synch', 'taaee', 'take', 'tan', 'tapes', 'team', 'technique', 'teenage', 'tell', 'tells', 'terribleï', 'terrorism', 'terrorist', 'than', 'thank', 'thanks', 'thankss', 'that', 'the', 'their', 'them', 'then', 'thepetitionsite', 'there', 'theres', 'therglove', 'these', 'they', 'things', 'think', 'this', 'those', 'thousands', 'three', 'thumb', 'thumbs', 'thumsb', 'thus', 'time', 'times', 'timeï', 'tinyurl', 'tk', 'to', 'today', 'together', 'too', 'took', 'top', 'torunament', 'totally', 'town', 'trade', 'trafficking', 'transformed', 'transport', 'tried', 'true', 'truly', 'truth', 'trying', 'tube', 'turned', 'tvcmcadavid', 'twitter', 'two', 'type', 'uk', 'ultrabooks', 'un', 'uncle', 'undefiled', 'under', 'underrated', 'understand', 'unique', 'unit', 'unlocked', 'until', 'up', 'upto', 'us', 'useful', 'usl', 'uâ', 'vaio', 'vanstone', 've', 'versace', 'version', 'very', 'vibe', 'video', 'videos', 'videoï', 'view', 'views', 'vincent', 'vines', 'virgin', 'virgins', 'visit', 'vistazo', 'vocãª', 'voice', 'vote', 'vouchers', 'vã', 'wafence', 'wager', 'wagers', 'waka', 'wakaï', 'wake', 'wallet', 'wan', 'wanderfol', 'wanna', 'want', 'wants', 'was', 'wasn', 'wasting', 'watch', 'watching', 'wats', 'way', 'ways', 'we', 'web', 'website', 'weebly', 'week', 'weird', 'wellcomemd', 'were', 'wery', 'what', 'whats', 'whatuknow', 'when', 'where', 'whereâ', 'which', 'while', 'white', 'whitney', 'who', 'whole', 'wholehearted', 'whose', 'whoâ', 'why', 'wi', 'wide', 'wil', 'will', 'wilsubscribe', 'win', 'winners', 'winooze', 'wish', 'with', 'without', 'wk', 'woman', 'womanly', 'women', 'won', 'wont', 'woooooï', 'word', 'words', 'work', 'working', 'works', 'world', 'worldcupï', 'worldï', 'worried', 'worth', 'would', 'wow', 'wrecking', 'write', 'wurkkkkkkkkkkkkkkkkkkkkkkkkkkkkkkkkkkkkkkkkkkkkkkkkkkkkkkkkkkkkkkkkkkkkkkkkkkkkkkkkkkkkkkkkkkkkkkkkkkkkkï', 'ww', 'www', 'x3333333333ï', 'xxxï', 'ya', 'yall', 'ybuwyn', 'yea', 'yeah', 'year', 'years', 'yet', 'you', 'your', 'yourself', 'youtube', 'youtubers', 'youï', 'yï', 'zealous', 'zonepa', 'ï½', 'ï½œï½œï½', 'ï½ƒï½', 'ï½ˆï½', 'ðÿ', 'ðÿžµðÿž', 'ðÿž¼ðÿž', 'œunited', 'œï', 'š33â', 'šï', 'šðÿ']\n"
     ]
    }
   ],
   "source": [
    "# TFIDF for Shakira train & test \n",
    "contentCorpusTrainShakira = xTrainShakira['CONTENT']\n",
    "vectorizerShakira = TfidfVectorizer()\n",
    "xTrainShakiraTFIDF = vectorizerShakira.fit_transform(contentCorpusTrainShakira)\n",
    "print(vectorizerShakira.get_feature_names())"
   ]
  },
  {
   "cell_type": "code",
   "execution_count": 91,
   "metadata": {},
   "outputs": [
    {
     "name": "stdout",
     "output_type": "stream",
     "text": [
      "['00', '000', '0687119038', '08', '10', '100', '100ï', '101721377578919894134', '108k', '128gb', '13', '14', '14gkvdo', '15', '16gb', '17', '18', '19', '1billiom', '1bsefqe', '1hmvtx', '1hmvtxï', '1m00s', '20', '200', '200mm', '2010', '2013', '2015', '2015ï', '23', '25', '250', '314', '320', '32gb', '333â', '35', '360', '385', '387', '39', '390', '3d', '4000', '421', '433', '4500', '4g', '4gb', '4netjobs', '4th', '50', '500', '5000', '50k', '510', '515', '55', '550', '55mm', '5tu9gn1l310', '5ï', '60', '600', '682', '753', '7in', '860', '868', '9nl', 'about', 'absolutely', 'absorbing', 'account', 'acidic', 'acquire', 'acquiring', 'act', 'actually', 'adam', 'addition', 'adele', 'adf', 'admirable', 'adore', 'adroid', 'advertise', 'advertisements', 'advertisiments', 'affiliated', 'afflicted', 'africa', 'african', 'africans', 'after', 'again', 'against', 'ago', 'agree', 'ahead', 'aid', 'air', 'aka', 'all', 'allï', 'alot', 'also', 'am', 'amazed', 'amazement', 'amazing', 'amazon', 'ambition', 'ambitious', 'amendment', 'american', 'americans', 'amiable', 'amp', 'amy', 'an', 'ancestors', 'and', 'anderson', 'angels', 'animal', 'animation', 'animator', 'annoying', 'another', 'any', 'anyone', 'anything', 'apostles', 'app', 'apple', 'appoints', 'appreciate', 'appreciated', 'apprecitate', 'approve', 'apps', 'arbitrate', 'are', 'around', 'artist', 'as', 'assume', 'at', 'audit', 'aunt', 'autotunedï', 'avicii', 'awesome', 'axiomatic', 'axy665ï', 'ba', 'baba', 'back', 'backï', 'bad', 'ball', 'bands', 'banging', 'base', 'bass', 'be', 'beautiful', 'beautifulï', 'beauty', 'because', 'become', 'been', 'begin', 'behavior', 'being', 'belgium', 'believe', 'believer', 'beneath', 'best', 'bestâ', 'bet', 'betfair', 'better', 'beutiful', 'bieber', 'billion', 'bit', 'bitch', 'black', 'blank', 'blog', 'blogfa', 'blogspot', 'blondeï', 'bonus', 'bookies', 'bookmakers', 'boost', 'box', 'boxium', 'boy', 'boys', 'br', 'brake', 'brazil', 'brazilian', 'bring', 'brinkman', 'britishs', 'brothers', 'bucks', 'burder', 'business', 'but', 'button', 'buy', 'by', 'call', 'called', 'calls', 'camera', 'can', 'canal', 'cap', 'car', 'card', 'cards', 'cares', 'case', 'cause', 'cd', 'celeb', 'celebration', 'celebrity', 'central', 'cents', 'cge', 'chance', 'change', 'channel', 'channelï', 'channnnnnelll', 'chap', 'charity', 'chaste', 'check', 'cheers', 'choice', 'christ', 'christians', 'cid', 'claiming', 'class', 'claster', 'click', 'close', 'closer', 'co', 'coby', 'cock', 'code', 'colorful', 'colour', 'columbus', 'com', 'come', 'comedy', 'comes', 'comfort', 'comforter', 'coming', 'comment', 'comments', 'company', 'compared', 'complete', 'comprehend', 'conceived', 'conciliate', 'confessors', 'congress', 'conhece', 'constitution', 'consumers', 'contact', 'cool', 'core', 'cost', 'couch', 'could', 'counsel', 'countless', 'country', 'cover', 'covers', 'crank', 'creator', 'crestboot', 'cup', 'curly', 'currently', 'cute', 'cutie', 'cuz', 'cyrus', 'd90', 'da', 'daily', 'damn', 'dance', 'dancing', 'daneja', 'dark', 'day', 'de', 'deals', 'decided', 'dedication', 'definitely', 'definitily', 'definitley', 'del', 'delete', 'demonstrating', 'deo', 'describes', 'designs', 'dickwad', 'did', 'different', 'discrimination', 'discusss', 'disguise', 'dislike', 'disliked', 'dislikes', 'divine', 'do', 'does', 'doesn', 'doing', 'dollar', 'don', 'donating', 'done', 'dont', 'donâ', 'dot', 'download', 'dragons', 'drake', 'dream', 'dreamers', 'dreaming', 'dribbleproshot', 'dtqcftr1fac', 'dubstep', 'duzafizz', 'dï', 'earn', 'earning', 'earth', 'easily', 'easy', 'echa', 'edge', 'edm', 'efforts', 'egoistic', 'eh', 'ehï', 'ej', 'em', 'email', 'empire', 'enabled', 'enjoyable', 'enlace', 'enlist', 'enormously', 'enter', 'entertainer', 'especially', 'estiloproduction', 'estonia', 'euro', 'euw', 'eva', 'even', 'event', 'ever', 'every', 'everyday', 'everyone', 'everything', 'evidence', 'expect', 'expecting', 'experience', 'expose', 'extraordinary', 'facebook', 'family', 'famous', 'fans', 'fantastic', 'far', 'fast', 'fausto', 'fave', 'faves', 'favourite', 'fear', 'featuring', 'feed', 'feel', 'felt', 'female', 'few', 'fi', 'fiddle', 'fifa', 'fight', 'fighting', 'filibuster', 'financial', 'find', 'finding', 'firepa', 'first', 'floor', 'following', 'foot', 'football', 'for', 'forever', 'forget', 'forgetful', 'forgot', 'forward', 'found', 'founded', 'foward', 'fragile', 'france', 'free', 'freedom', 'freestyle', 'french', 'frequent', 'friend', 'friends', 'fright', 'frndzzl', 'from', 'fuck', 'fucking', 'fun', 'future', 'fyi', 'gain', 'gained', 'galaxy', 'game', 'gamezz', 'gamezzmtaï', 'gangnam', 'gardner', 'gave', 'gen', 'generated', 'germany', 'get', 'gets', 'getting', 'gift', 'girl', 'girls', 'give', 'gmail', 'go', 'goal', 'goals', 'god', 'godâ', 'going', 'gonna', 'good', 'goodï', 'google', 'gooodï', 'gorgeous', 'got', 'grace', 'grass', 'great', 'gt', 'gta', 'guess', 'guide', 'guruofmovieï', 'gusttavo', 'guys', 'gypsy', 'haha', 'hahahahah', 'hair', 'half', 'halloween', 'happen', 'happening', 'happy', 'hard', 'harder', 'has', 'have', 'hdtv', 'he', 'headerclick', 'hear', 'heard', 'heaven', 'hell', 'hello', 'help', 'her', 'hereâ', 'herself', 'herï', 'hey', 'hh', 'hi', 'high', 'highly', 'hilarious', 'him', 'hips', 'hiring', 'his', 'historical', 'hit', 'holy', 'home', 'honest', 'hope', 'hopefully', 'hopme', 'horse', 'hour', 'hours', 'house', 'how', 'href', 'ht', 'html', 'http', 'https', 'huge', 'humanity', 'i5', 'ice', 'if', 'ik', 'ill', 'ilove', 'ilovethissongï', 'im', 'im2458444', 'imagine', 'immediately', 'impossible', 'improve', 'in', 'incandescent', 'inch', 'including', 'income', 'incomeâ', 'incredible', 'industry', 'info', 'iniesta', 'inspire', 'instantly', 'instead', 'instrumental', 'insurance', 'intel', 'into', 'investment', 'inviolate', 'ipad', 'iphone', 'irish', 'is', 'isn', 'it', 'its', 'itself', 'itttttttt', 'itâ', 'itï', 'iv', 'iâ', 'ja', 'jesus', 'jim', 'jobs', 'join', 'joining', 'juno', 'just', 'justien', 'katy', 'keep', 'keeps', 'kid', 'killed', 'killtheclockhd', 'kind', 'kld3y', 'kluivert', 'know', 'knows', 'kodaline', 'kpop', 'la', 'lad', 'lake', 'lamest', 'lana', 'languagesï', 'later', 'latest', 'laugh', 'learn', 'least', 'led', 'leeched', 'left', 'lets', 'lie', 'life', 'like', 'liked', 'likes', 'likeï', 'liking', 'lima', 'link', 'lip', 'lisening', 'listen', 'listening', 'live', 'lively', 'll', 'lol', 'long', 'look', 'looks', 'loss', 'lot', 'lots', 'love', 'loved', 'lovely', 'lover', 'loves', 'loveï', 'loving', 'loyal', 'lt', 'ly', 'macabre', 'macbook', 'macklemore', 'made', 'madly', 'make', 'makes', 'making', 'man', 'many', 'marius1533', 'marketer', 'martin', 'martyrs', 'mary', 'master', 'mate', 'mates', 'matters', 'maybe', 'me', 'mean', 'meaning', 'meaningful', 'meat', 'media', 'meet', 'meh', 'memories', 'memory', 'men', 'mess', 'message', 'meï', 'mi', 'might', 'miley', 'million', 'millions', 'min', 'mind', 'mini', 'minutes', 'mio', 'miss', 'mississippi', 'miusicï', 'model', 'moment', 'money', 'moneygq', 'month', 'monthly', 'more', 'morning', 'most', 'mother', 'mta', 'much', 'music', 'musician', 'musicvideo', 'musicï', 'muslims', 'must', 'mxh2y77', 'my', 'myself', 'name', 'named', 'nation', 'need', 'needed', 'neeru105', 'netherland', 'netherlands', 'new', 'newest', 'news', 'nice', 'nick', 'nikon', 'nl', 'no', 'none', 'northland', 'not', 'nothing', 'now', 'nsa', 'number', 'numberless', 'nummber', 'nã', 'obtain', 'of', 'off', 'offical', 'oh', 'oid', 'old', 'oldchat', 'omg', 'on', 'once', 'one', 'ones', 'oneï', 'online', 'only', 'open', 'opportunity', 'or', 'original', 'other', 'others', 'our', 'ourself', 'ourâ', 'out', 'outï', 'over', 'own', 'page', 'pagee', 'paid', 'paidverts', 'paranormal', 'parody', 'part', 'pass', 'passed', 'passion', 'passionate', 'past', 'patriarchs', 'patrik', 'patriot', 'paul', 'pay', 'pcs', 'peace', 'peaceful', 'people', 'pepelexa', 'per', 'perfect', 'perhaps', 'perry', 'person', 'petition', 'piano', 'pink', 'pisses', 'plausible', 'play', 'player', 'playlist', 'pleas', 'pleasant', 'please', 'pleassssssssssssssss', 'plus', 'plz', 'plzzï', 'poor', 'population', 'porno', 'portugal', 'possible', 'post_10', 'posted', 'postponing', 'pranks', 'pray', 'prepare', 'present', 'press', 'pretty', 'price', 'prior', 'privacy', 'pro', 'probably', 'profile', 'proflink', 'proflinkprefix', 'proflinkwrapper', 'promise', 'promotes', 'prophets', 'protect', 'protest', 'proud', 'prove', 'prpeedmmmq0', 'ps4', 'psn', 'purchase', 'pure', 'push', 'put', 'pï', 'queen', 'quid', 'quot', 'racist', 'racists', 'rand', 'range', 'rapper', 'rate', 're', 'reach', 'read', 'reading', 'reads', 'real', 'realized', 'really', 'reason', 'recipe', 'recognizes', 'recommend', 'recording', 'redeemer', 'ref', 'refused', 'regret', 'remember', 'remezcla', 'remix', 'renewal', 'replay', 'requite', 'respond', 'rey', 'richest', 'ricky', 'right', 'righteousness', 'risk', 'roar', 'rocks', 'roll', 'rosary', 'roughly', 'rugby', 's4', 'sadï', 'said', 'saints', 'salvation', 'sam', 'same', 'samsung', 'saturday', 'saturdayâ', 'saved', 'savior', 'say', 'saying', 'says', 'search', 'seat', 'second', 'seconds', 'secret', 'secrets', 'secure', 'see', 'seem', 'seen', 'selecting', 'senate', 'senator', 'senators', 'sexy', 'shaki', 'shakifans', 'shakira', 'shakiravevo', 'shakiraï', 'shakiria', 'shame', 'share', 'she', 'shit', 'shkiraï', 'shot', 'should', 'sign', 'significantly', 'sihaam01', 'silly', 'simple', 'simply', 'sin', 'sing', 'singer', 'singerï', 'singing', 'singlewave', 'sinned', 'sins', 'sisters', 'site', 'sites', 'skills', 'skin', 'skip', 'slash', 'slr', 'small', 'smart', 'smhï', 'smoking', 'so', 'soccer', 'social', 'society', 'some', 'someone', 'something', 'son', 'song', 'songs', 'songwriter', 'songâ', 'songï', 'songðÿ', 'sony', 'soo', 'soon', 'sooooo', 'sorry', 'sounds', 'space', 'spain', 'spam', 'spamming', 'span', 'spanish', 'spare', 'speaks', 'special', 'speech', 'spending', 'spent', 'spirits', 'spourmo', 'spread', 'spying', 'stand', 'start', 'started', 'statement', 'step', 'stil', 'still', 'stop', 'store', 'strategizes', 'stretch', 'student', 'style', 'sub', 'submits', 'subscribe', 'subscribed', 'subscribeeeeeeeeee', 'subscribers', 'subscribeï', 'subscribing', 'subscription', 'substantially', 'succeeds', 'success', 'successful', 'such', 'sucking', 'sucksï', 'summer', 'super', 'support', 'sure', 'surveys', 'suscribe', 'suscribite', 'suscrã', 'swear', 'swim', 'synch', 'taaee', 'take', 'tan', 'tapes', 'team', 'technique', 'teenage', 'tell', 'tells', 'terribleï', 'terrorism', 'terrorist', 'than', 'thank', 'thanks', 'thankss', 'that', 'the', 'their', 'them', 'then', 'thepetitionsite', 'there', 'theres', 'therglove', 'these', 'they', 'things', 'think', 'this', 'those', 'thousands', 'three', 'thumb', 'thumbs', 'thumsb', 'thus', 'time', 'times', 'timeï', 'tinyurl', 'tk', 'to', 'today', 'together', 'too', 'took', 'top', 'torunament', 'totally', 'town', 'trade', 'trafficking', 'transformed', 'transport', 'tried', 'true', 'truly', 'truth', 'trying', 'tube', 'turned', 'tvcmcadavid', 'twitter', 'two', 'type', 'uk', 'ultrabooks', 'un', 'uncle', 'undefiled', 'under', 'underrated', 'understand', 'unique', 'unit', 'unlocked', 'until', 'up', 'upto', 'us', 'useful', 'usl', 'uâ', 'vaio', 'vanstone', 've', 'versace', 'version', 'very', 'vibe', 'video', 'videos', 'videoï', 'view', 'views', 'vincent', 'vines', 'virgin', 'virgins', 'visit', 'vistazo', 'vocãª', 'voice', 'vote', 'vouchers', 'vã', 'wafence', 'wager', 'wagers', 'waka', 'wakaï', 'wake', 'wallet', 'wan', 'wanderfol', 'wanna', 'want', 'wants', 'was', 'wasn', 'wasting', 'watch', 'watching', 'wats', 'way', 'ways', 'we', 'web', 'website', 'weebly', 'week', 'weird', 'wellcomemd', 'were', 'wery', 'what', 'whats', 'whatuknow', 'when', 'where', 'whereâ', 'which', 'while', 'white', 'whitney', 'who', 'whole', 'wholehearted', 'whose', 'whoâ', 'why', 'wi', 'wide', 'wil', 'will', 'wilsubscribe', 'win', 'winners', 'winooze', 'wish', 'with', 'without', 'wk', 'woman', 'womanly', 'women', 'won', 'wont', 'woooooï', 'word', 'words', 'work', 'working', 'works', 'world', 'worldcupï', 'worldï', 'worried', 'worth', 'would', 'wow', 'wrecking', 'write', 'wurkkkkkkkkkkkkkkkkkkkkkkkkkkkkkkkkkkkkkkkkkkkkkkkkkkkkkkkkkkkkkkkkkkkkkkkkkkkkkkkkkkkkkkkkkkkkkkkkkkkkkï', 'ww', 'www', 'x3333333333ï', 'xxxï', 'ya', 'yall', 'ybuwyn', 'yea', 'yeah', 'year', 'years', 'yet', 'you', 'your', 'yourself', 'youtube', 'youtubers', 'youï', 'yï', 'zealous', 'zonepa', 'ï½', 'ï½œï½œï½', 'ï½ƒï½', 'ï½ˆï½', 'ðÿ', 'ðÿžµðÿž', 'ðÿž¼ðÿž', 'œunited', 'œï', 'š33â', 'šï', 'šðÿ']"
     ]
    },
    {
     "name": "stdout",
     "output_type": "stream",
     "text": [
      "\n"
     ]
    }
   ],
   "source": [
    "contentCorpusTestShakira = xTestShakira['CONTENT']\n",
    "xTestShakiraTFIDF = vectorizerShakira.transform(contentCorpusTestShakira)\n",
    "print(vectorizerShakira.get_feature_names())"
   ]
  },
  {
   "cell_type": "code",
   "execution_count": 92,
   "metadata": {},
   "outputs": [
    {
     "name": "stdout",
     "output_type": "stream",
     "text": [
      "Best Lambda:-  0.1\n"
     ]
    }
   ],
   "source": [
    "# Best lambda for L2-penalized logistic regression for Shakira \n",
    "logisticShakira = linear_model.LogisticRegression()\n",
    "penaltyShak1 = ['l2']\n",
    "cShak1 = [1/pow(10, i) for i in range(-5, 6)]\n",
    "\n",
    "parametersShak1 = {\"C\": cShak1, \"penalty\": penaltyShak1, \"solver\": ['liblinear']}\n",
    "gridcvShakira = GridSearchCV(logisticShakira, parametersShak1, cv=5, n_jobs=-1)\n",
    "best_modelShakiraL2 = gridcvShakira.fit(xTrainShakiraTFIDF, yTrainShakira)\n",
    "print('Best Lambda:- ', 1/best_modelShakiraL2.best_estimator_.get_params()['C'])"
   ]
  },
  {
   "cell_type": "code",
   "execution_count": 93,
   "metadata": {},
   "outputs": [
    {
     "name": "stdout",
     "output_type": "stream",
     "text": [
      "Training Values for L2 Shakira:\n",
      "Confusion Matrix:\n",
      "[[156   0]\n",
      " [  0 139]]\n",
      "ROC AUC: 1.0\n",
      "Precision: 1.0\n",
      "Accuracy Score: 1.0\n",
      "Recall: 1.0\n",
      "F1 Score: 1.0\n"
     ]
    }
   ],
   "source": [
    "# L2-penalized logistic regression for Shakira train\n",
    "y_trainShakiraL2 = best_modelShakiraL2.predict(xTrainShakiraTFIDF)\n",
    "\n",
    "print(\"Training Values for L2 Shakira:\")\n",
    "print(\"Confusion Matrix:\")\n",
    "print(confusion_matrix(yTrainShakira, y_trainShakiraL2))\n",
    "print(\"ROC AUC:\", metrics.roc_auc_score(yTrainShakira, y_trainShakiraL2))\n",
    "print(\"Precision:\", metrics.precision_score(yTrainShakira, y_trainShakiraL2))\n",
    "print(\"Accuracy Score:\", metrics.accuracy_score(yTrainShakira, y_trainShakiraL2))\n",
    "print(\"Recall:\", metrics.recall_score(yTrainShakira, y_trainShakiraL2))\n",
    "print(\"F1 Score:\", metrics.f1_score(yTrainShakira, y_trainShakiraL2))"
   ]
  },
  {
   "cell_type": "code",
   "execution_count": 94,
   "metadata": {},
   "outputs": [],
   "source": [
    "# L2-penalized logistic regression for Shakira test\n",
    "test_modelShakira = gridcvShakira.fit(xTestShakiraTFIDF, yTestShakira)\n",
    "y_testShakiraL2 = test_modelShakira.predict(xTestShakiraTFIDF)\n",
    "\n",
    "ShakiraL2rocauc = metrics.roc_auc_score(yTestShakira, y_testShakiraL2)*100\n",
    "ShakiraL2precision = metrics.precision_score(yTestShakira, y_testShakiraL2)*100\n",
    "ShakiraL2accuracy = metrics.accuracy_score(yTestShakira, y_testShakiraL2)*100\n",
    "ShakiraL2recall = metrics.recall_score(yTestShakira, y_testShakiraL2)*100\n",
    "ShakiraL2F1 = metrics.f1_score(yTestShakira, y_testShakiraL2)*100"
   ]
  },
  {
   "cell_type": "code",
   "execution_count": 95,
   "metadata": {},
   "outputs": [
    {
     "name": "stdout",
     "output_type": "stream",
     "text": [
      "Best Lambda:-  0.01\n"
     ]
    }
   ],
   "source": [
    "# Best lambda for L1-penalized logistic regression for Shakira \n",
    "logistiqueShakira = linear_model.LogisticRegression()\n",
    "penaltyShak2 = ['l1']\n",
    "cShak2 = [1/pow(10, i) for i in range(-5, 6)]\n",
    "\n",
    "parametersShak2 = {\"C\": cShak2, \"penalty\": penaltyShak2, \"solver\": ['liblinear']}\n",
    "gridcv2Shakira = GridSearchCV(logistiqueShakira, parametersShak2, cv=5, n_jobs=-1)\n",
    "best_modelShakiraL1 = gridcv2Shakira.fit(xTrainShakiraTFIDF, yTrainShakira)\n",
    "print('Best Lambda:- ', 1/best_modelShakiraL1.best_estimator_.get_params()['C'])"
   ]
  },
  {
   "cell_type": "code",
   "execution_count": 96,
   "metadata": {},
   "outputs": [
    {
     "name": "stdout",
     "output_type": "stream",
     "text": [
      "Training Values for L1 Shakira:\n",
      "Confusion Matrix:\n",
      "[[156   0]\n",
      " [  0 139]]\n",
      "ROC AUC: 1.0\n",
      "Precision: 1.0\n",
      "Accuracy Score: 1.0\n",
      "Recall: 1.0\n",
      "F1 Score: 1.0\n"
     ]
    }
   ],
   "source": [
    "# L1-penalized logistic regression for Shakira train\n",
    "y_trainShakiraL1 = best_modelShakiraL1.predict(xTrainShakiraTFIDF)\n",
    "\n",
    "print(\"Training Values for L1 Shakira:\")\n",
    "print(\"Confusion Matrix:\")\n",
    "print(confusion_matrix(yTrainShakira, y_trainShakiraL1))\n",
    "print(\"ROC AUC:\", metrics.roc_auc_score(yTrainShakira, y_trainShakiraL1))\n",
    "print(\"Precision:\", metrics.precision_score(yTrainShakira, y_trainShakiraL1))\n",
    "print(\"Accuracy Score:\", metrics.accuracy_score(yTrainShakira, y_trainShakiraL1))\n",
    "print(\"Recall:\", metrics.recall_score(yTrainShakira, y_trainShakiraL1))\n",
    "print(\"F1 Score:\", metrics.f1_score(yTrainShakira, y_trainShakiraL1))"
   ]
  },
  {
   "cell_type": "code",
   "execution_count": 97,
   "metadata": {},
   "outputs": [],
   "source": [
    "# L1-penalized logistic regression for Shakira test\n",
    "test_modelShakira = gridcv2Shakira.fit(xTestShakiraTFIDF, yTestShakira)\n",
    "y_testShakiraL1 = test_modelShakira.predict(xTestShakiraTFIDF)\n",
    "\n",
    "ShakiraL1rocauc = metrics.roc_auc_score(yTestShakira, y_testShakiraL1)*100\n",
    "ShakiraL1precision = metrics.precision_score(yTestShakira, y_testShakiraL1)*100\n",
    "ShakiraL1accuracy = metrics.accuracy_score(yTestShakira, y_testShakiraL1)*100\n",
    "ShakiraL1recall = metrics.recall_score(yTestShakira, y_testShakiraL1)*100\n",
    "ShakiraL1F1 = metrics.f1_score(yTestShakira, y_testShakiraL1)*100"
   ]
  },
  {
   "cell_type": "code",
   "execution_count": 98,
   "metadata": {},
   "outputs": [
    {
     "name": "stdout",
     "output_type": "stream",
     "text": [
      "Training Values for Gaussian NB Shakira:\n",
      "Confusion Matrix:\n",
      "[[156   0]\n",
      " [  0 139]]\n",
      "ROC AUC: 1.0\n",
      "Precision: 1.0\n",
      "Accuracy Score: 1.0\n",
      "Recall: 1.0\n",
      "F1 Score: 1.0\n"
     ]
    }
   ],
   "source": [
    "# Gaussian NB for Shakira train\n",
    "Gaussian = GaussianNB()\n",
    "x_trainArrayShakira = xTrainShakiraTFIDF.toarray()\n",
    "GaussianTrainShakira = Gaussian.fit(x_trainArrayShakira, yTrainShakira)\n",
    "y_trainPredsShakira = GaussianTrainShakira.predict(x_trainArrayShakira)\n",
    "\n",
    "print(\"Training Values for Gaussian NB Shakira:\")\n",
    "print(\"Confusion Matrix:\")\n",
    "print(confusion_matrix(yTrainShakira, y_trainPredsShakira))\n",
    "print(\"ROC AUC:\", metrics.roc_auc_score(yTrainShakira, y_trainPredsShakira))\n",
    "print(\"Precision:\", metrics.precision_score(yTrainShakira, y_trainPredsShakira))\n",
    "print(\"Accuracy Score:\", metrics.accuracy_score(yTrainShakira, y_trainPredsShakira))\n",
    "print(\"Recall:\", metrics.recall_score(yTrainShakira, y_trainPredsShakira))\n",
    "print(\"F1 Score:\", metrics.f1_score(yTrainShakira, y_trainPredsShakira))"
   ]
  },
  {
   "cell_type": "code",
   "execution_count": 99,
   "metadata": {},
   "outputs": [],
   "source": [
    "# Gaussian NB for Shakira test\n",
    "x_testArrayShakira = xTestShakiraTFIDF.toarray()\n",
    "GaussianTestShakira = Gaussian.fit(x_testArrayShakira, yTestShakira)\n",
    "y_testPredsShakira = GaussianTestShakira.predict(x_testArrayShakira)\n",
    "\n",
    "ShakiraGaussianrocauc = metrics.roc_auc_score(yTestShakira, y_testPredsShakira)*100\n",
    "ShakiraGaussianprecision = metrics.precision_score(yTestShakira, y_testPredsShakira)*100\n",
    "ShakiraGaussianaccuracy = metrics.accuracy_score(yTestShakira, y_testPredsShakira)*100\n",
    "ShakiraGaussianrecall = metrics.recall_score(yTestShakira, y_testPredsShakira)*100\n",
    "ShakiraGaussianF1 = metrics.f1_score(yTestShakira, y_testPredsShakira)*100"
   ]
  },
  {
   "cell_type": "code",
   "execution_count": 100,
   "metadata": {},
   "outputs": [
    {
     "name": "stdout",
     "output_type": "stream",
     "text": [
      "Training Values for Multinomial NB Shakira:\n",
      "Confusion Matrix:\n",
      "[[156   0]\n",
      " [  4 135]]\n",
      "ROC AUC: 0.9856115107913669\n",
      "Precision: 1.0\n",
      "Accuracy Score: 0.9864406779661017\n",
      "Recall: 0.9712230215827338\n",
      "F1 Score: 0.9854014598540146\n"
     ]
    }
   ],
   "source": [
    "# Multinomial NB for Shakira train\n",
    "multi = MultinomialNB()\n",
    "multiTrainShakira = multi.fit(x_trainArrayShakira, yTrainShakira)\n",
    "y_trainPredssShakira = multiTrainShakira.predict(x_trainArrayShakira)\n",
    "\n",
    "print(\"Training Values for Multinomial NB Shakira:\")\n",
    "print(\"Confusion Matrix:\")\n",
    "print(confusion_matrix(yTrainShakira, y_trainPredssShakira))\n",
    "print(\"ROC AUC:\", metrics.roc_auc_score(yTrainShakira, y_trainPredssShakira))\n",
    "print(\"Precision:\", metrics.precision_score(yTrainShakira, y_trainPredssShakira))\n",
    "print(\"Accuracy Score:\", metrics.accuracy_score(yTrainShakira, y_trainPredssShakira))\n",
    "print(\"Recall:\", metrics.recall_score(yTrainShakira, y_trainPredssShakira))\n",
    "print(\"F1 Score:\", metrics.f1_score(yTrainShakira, y_trainPredssShakira))"
   ]
  },
  {
   "cell_type": "code",
   "execution_count": 101,
   "metadata": {},
   "outputs": [],
   "source": [
    "# Multinomial NB for Shakira test\n",
    "multiTestShakira = multi.fit(x_testArrayShakira, yTestShakira)\n",
    "y_testPredssShakira = multiTestShakira.predict(x_testArrayShakira)\n",
    "\n",
    "ShakiraMultirocauc = metrics.roc_auc_score(yTestShakira, y_testPredssShakira)*100\n",
    "ShakiraMultiprecision = metrics.precision_score(yTestShakira, y_testPredssShakira)*100\n",
    "ShakiraMultiaccuracy = metrics.accuracy_score(yTestShakira, y_testPredssShakira)*100\n",
    "ShakiraMultirecall = metrics.recall_score(yTestShakira, y_testPredssShakira)*100\n",
    "ShakiraMultiF1 = metrics.f1_score(yTestShakira, y_testPredssShakira)*100"
   ]
  },
  {
   "cell_type": "code",
   "execution_count": 102,
   "metadata": {},
   "outputs": [
    {
     "name": "stdout",
     "output_type": "stream",
     "text": [
      "Shakira:\n"
     ]
    },
    {
     "data": {
      "text/html": [
       "<div>\n",
       "<style scoped>\n",
       "    .dataframe tbody tr th:only-of-type {\n",
       "        vertical-align: middle;\n",
       "    }\n",
       "\n",
       "    .dataframe tbody tr th {\n",
       "        vertical-align: top;\n",
       "    }\n",
       "\n",
       "    .dataframe thead th {\n",
       "        text-align: right;\n",
       "    }\n",
       "</style>\n",
       "<table border=\"1\" class=\"dataframe\">\n",
       "  <thead>\n",
       "    <tr style=\"text-align: right;\">\n",
       "      <th></th>\n",
       "      <th>Instance</th>\n",
       "      <th>Accuracy (%)</th>\n",
       "      <th>Precision (%)</th>\n",
       "      <th>Recall (%)</th>\n",
       "      <th>F1 (%)</th>\n",
       "      <th>AUC (%)</th>\n",
       "    </tr>\n",
       "  </thead>\n",
       "  <tbody>\n",
       "    <tr>\n",
       "      <td>0</td>\n",
       "      <td>NB-Gaussian</td>\n",
       "      <td>100.0</td>\n",
       "      <td>100.0</td>\n",
       "      <td>100.0</td>\n",
       "      <td>100.0</td>\n",
       "      <td>100.0</td>\n",
       "    </tr>\n",
       "    <tr>\n",
       "      <td>1</td>\n",
       "      <td>NB-Multinomial</td>\n",
       "      <td>100.0</td>\n",
       "      <td>100.0</td>\n",
       "      <td>100.0</td>\n",
       "      <td>100.0</td>\n",
       "      <td>100.0</td>\n",
       "    </tr>\n",
       "    <tr>\n",
       "      <td>2</td>\n",
       "      <td>L2</td>\n",
       "      <td>100.0</td>\n",
       "      <td>100.0</td>\n",
       "      <td>100.0</td>\n",
       "      <td>100.0</td>\n",
       "      <td>100.0</td>\n",
       "    </tr>\n",
       "    <tr>\n",
       "      <td>3</td>\n",
       "      <td>L1</td>\n",
       "      <td>100.0</td>\n",
       "      <td>100.0</td>\n",
       "      <td>100.0</td>\n",
       "      <td>100.0</td>\n",
       "      <td>100.0</td>\n",
       "    </tr>\n",
       "  </tbody>\n",
       "</table>\n",
       "</div>"
      ],
      "text/plain": [
       "         Instance  Accuracy (%)  Precision (%)  Recall (%)  F1 (%)  AUC (%)\n",
       "0     NB-Gaussian         100.0          100.0       100.0   100.0    100.0\n",
       "1  NB-Multinomial         100.0          100.0       100.0   100.0    100.0\n",
       "2              L2         100.0          100.0       100.0   100.0    100.0\n",
       "3              L1         100.0          100.0       100.0   100.0    100.0"
      ]
     },
     "execution_count": 102,
     "metadata": {},
     "output_type": "execute_result"
    }
   ],
   "source": [
    "# Creation of Shakira Table \n",
    "dataShakira = {'Instance':['NB-Gaussian', 'NB-Multinomial', 'L2', 'L1'],\n",
    "        'Accuracy (%)':[ShakiraGaussianaccuracy, ShakiraMultiaccuracy, ShakiraL2accuracy, ShakiraL1accuracy], \n",
    "        'Precision (%)':[ShakiraGaussianprecision, ShakiraMultiprecision, ShakiraL2precision, ShakiraL1precision], \n",
    "           'Recall (%)':[ShakiraGaussianrecall, ShakiraMultirecall, ShakiraL2recall, ShakiraL1recall],\n",
    "           'F1 (%)':[ShakiraGaussianF1, ShakiraMultiF1, ShakiraL2F1, ShakiraL1F1], \n",
    "           'AUC (%)': [ShakiraGaussianrocauc, ShakiraMultirocauc, ShakiraL2rocauc, ShakiraL1rocauc]}\n",
    "  \n",
    "dfShakira = pd.DataFrame(dataShakira)\n",
    "print('Shakira:')\n",
    "dfShakira"
   ]
  },
  {
   "cell_type": "markdown",
   "metadata": {},
   "source": [
    "Creation of Table for Eminem"
   ]
  },
  {
   "cell_type": "code",
   "execution_count": 103,
   "metadata": {},
   "outputs": [],
   "source": [
    "EminemL2rocauc = metrics.roc_auc_score(yTest, y_testPredictL2)\n",
    "EminemL2precision = metrics.precision_score(yTest, y_testPredictL2)\n",
    "EminemL2accuracy = metrics.accuracy_score(yTest, y_testPredictL2)\n",
    "EminemL2recall = metrics.recall_score(yTest, y_testPredictL2)\n",
    "EminemL2F1 = metrics.f1_score(yTest, y_testPredictL2)\n",
    "\n",
    "EminemL1rocauc = metrics.roc_auc_score(yTest, y_testPredictL1)\n",
    "EminemL1precision = metrics.precision_score(yTest, y_testPredictL1)\n",
    "EminemL1accuracy = metrics.accuracy_score(yTest, y_testPredictL1)\n",
    "EminemL1recall = metrics.recall_score(yTest, y_testPredictL1)\n",
    "EminemL1F1 = metrics.f1_score(yTest, y_testPredictL1)\n",
    "\n",
    "EminemGaussianrocauc = metrics.roc_auc_score(yTest, y_testPreds)\n",
    "EminemGaussianprecision = metrics.precision_score(yTest, y_testPreds)\n",
    "EminemGaussianaccuracy = metrics.accuracy_score(yTest, y_testPreds)\n",
    "EminemGaussianrecall = metrics.recall_score(yTest, y_testPreds)\n",
    "EminemGaussianF1 = metrics.f1_score(yTest, y_testPreds)\n",
    "\n",
    "EminemMultirocauc = metrics.roc_auc_score(yTest, y_testPredss)\n",
    "EminemMultiprecision = metrics.precision_score(yTest, y_testPredss)\n",
    "EminemMultiaccuracy = metrics.accuracy_score(yTest, y_testPredss)\n",
    "EminemMultirecall = metrics.recall_score(yTest, y_testPredss)\n",
    "EminemMultiF1 = metrics.f1_score(yTest, y_testPredss)"
   ]
  },
  {
   "cell_type": "code",
   "execution_count": 104,
   "metadata": {},
   "outputs": [
    {
     "name": "stdout",
     "output_type": "stream",
     "text": [
      "Eminem:\n"
     ]
    },
    {
     "data": {
      "text/html": [
       "<div>\n",
       "<style scoped>\n",
       "    .dataframe tbody tr th:only-of-type {\n",
       "        vertical-align: middle;\n",
       "    }\n",
       "\n",
       "    .dataframe tbody tr th {\n",
       "        vertical-align: top;\n",
       "    }\n",
       "\n",
       "    .dataframe thead th {\n",
       "        text-align: right;\n",
       "    }\n",
       "</style>\n",
       "<table border=\"1\" class=\"dataframe\">\n",
       "  <thead>\n",
       "    <tr style=\"text-align: right;\">\n",
       "      <th></th>\n",
       "      <th>Instance</th>\n",
       "      <th>Accuracy (%)</th>\n",
       "      <th>Precision (%)</th>\n",
       "      <th>Recall (%)</th>\n",
       "      <th>F1 (%)</th>\n",
       "      <th>AUC (%)</th>\n",
       "    </tr>\n",
       "  </thead>\n",
       "  <tbody>\n",
       "    <tr>\n",
       "      <td>0</td>\n",
       "      <td>NB-Gaussian</td>\n",
       "      <td>1.000000</td>\n",
       "      <td>1.000</td>\n",
       "      <td>1.0</td>\n",
       "      <td>1.000000</td>\n",
       "      <td>1.000000</td>\n",
       "    </tr>\n",
       "    <tr>\n",
       "      <td>1</td>\n",
       "      <td>NB-Multinomial</td>\n",
       "      <td>0.922222</td>\n",
       "      <td>0.875</td>\n",
       "      <td>1.0</td>\n",
       "      <td>0.933333</td>\n",
       "      <td>0.914634</td>\n",
       "    </tr>\n",
       "    <tr>\n",
       "      <td>2</td>\n",
       "      <td>L2</td>\n",
       "      <td>1.000000</td>\n",
       "      <td>1.000</td>\n",
       "      <td>1.0</td>\n",
       "      <td>1.000000</td>\n",
       "      <td>1.000000</td>\n",
       "    </tr>\n",
       "    <tr>\n",
       "      <td>3</td>\n",
       "      <td>L1</td>\n",
       "      <td>1.000000</td>\n",
       "      <td>1.000</td>\n",
       "      <td>1.0</td>\n",
       "      <td>1.000000</td>\n",
       "      <td>1.000000</td>\n",
       "    </tr>\n",
       "  </tbody>\n",
       "</table>\n",
       "</div>"
      ],
      "text/plain": [
       "         Instance  Accuracy (%)  Precision (%)  Recall (%)    F1 (%)   AUC (%)\n",
       "0     NB-Gaussian      1.000000          1.000         1.0  1.000000  1.000000\n",
       "1  NB-Multinomial      0.922222          0.875         1.0  0.933333  0.914634\n",
       "2              L2      1.000000          1.000         1.0  1.000000  1.000000\n",
       "3              L1      1.000000          1.000         1.0  1.000000  1.000000"
      ]
     },
     "execution_count": 104,
     "metadata": {},
     "output_type": "execute_result"
    }
   ],
   "source": [
    "dataEminem = {'Instance':['NB-Gaussian', 'NB-Multinomial', 'L2', 'L1'],\n",
    "        'Accuracy (%)':[EminemGaussianaccuracy, EminemMultiaccuracy, EminemL2accuracy, EminemL1accuracy], \n",
    "        'Precision (%)':[EminemGaussianprecision, EminemMultiprecision, EminemL2precision, EminemL1precision], \n",
    "           'Recall (%)':[EminemGaussianrecall, EminemMultirecall, EminemL2recall, EminemL1recall],\n",
    "           'F1 (%)':[EminemGaussianF1, EminemMultiF1, EminemL2F1, EminemL1F1], \n",
    "           'AUC (%)': [EminemGaussianrocauc, EminemMultirocauc, EminemL2rocauc, EminemL1rocauc]}\n",
    "  \n",
    "dfEminem = pd.DataFrame(dataEminem)\n",
    "print('Eminem:')\n",
    "dfEminem"
   ]
  },
  {
   "cell_type": "code",
   "execution_count": null,
   "metadata": {},
   "outputs": [],
   "source": []
  }
 ],
 "metadata": {
  "kernelspec": {
   "display_name": "Python 3",
   "language": "python",
   "name": "python3"
  },
  "language_info": {
   "codemirror_mode": {
    "name": "ipython",
    "version": 3
   },
   "file_extension": ".py",
   "mimetype": "text/x-python",
   "name": "python",
   "nbconvert_exporter": "python",
   "pygments_lexer": "ipython3",
   "version": "3.7.4"
  }
 },
 "nbformat": 4,
 "nbformat_minor": 2
}
